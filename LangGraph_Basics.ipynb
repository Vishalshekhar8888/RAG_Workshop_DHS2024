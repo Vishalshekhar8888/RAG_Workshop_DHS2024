{
  "nbformat": 4,
  "nbformat_minor": 0,
  "metadata": {
    "colab": {
      "provenance": [],
      "authorship_tag": "ABX9TyN/jzUmqYPLnapbcr/X3OAF",
      "include_colab_link": true
    },
    "kernelspec": {
      "name": "python3",
      "display_name": "Python 3"
    },
    "language_info": {
      "name": "python"
    }
  },
  "cells": [
    {
      "cell_type": "markdown",
      "metadata": {
        "id": "view-in-github",
        "colab_type": "text"
      },
      "source": [
        "<a href=\"https://colab.research.google.com/github/genaiconference/RAG_Workshop_DHS2024/blob/main/LangGraph_Basics.ipynb\" target=\"_parent\"><img src=\"https://colab.research.google.com/assets/colab-badge.svg\" alt=\"Open In Colab\"/></a>"
      ]
    },
    {
      "cell_type": "code",
      "execution_count": null,
      "metadata": {
        "id": "UsaE3cDqDt4K"
      },
      "outputs": [],
      "source": [
        "# Test"
      ]
    },
    {
      "cell_type": "code",
      "source": [
        "1+1"
      ],
      "metadata": {
        "id": "v2Qf3Nb6Zrcj",
        "outputId": "2858b93a-d43e-4d8d-919a-4b28f80a1a7f",
        "colab": {
          "base_uri": "https://localhost:8080/"
        }
      },
      "execution_count": null,
      "outputs": [
        {
          "output_type": "execute_result",
          "data": {
            "text/plain": [
              "2"
            ]
          },
          "metadata": {},
          "execution_count": 2
        }
      ]
    },
    {
      "cell_type": "code",
      "source": [
        "2+2"
      ],
      "metadata": {
        "colab": {
          "base_uri": "https://localhost:8080/"
        },
        "id": "5IjjWgKIZ7Nk",
        "outputId": "35011728-b040-4d83-e43c-51e5b5199bc4"
      },
      "execution_count": 3,
      "outputs": [
        {
          "output_type": "execute_result",
          "data": {
            "text/plain": [
              "4"
            ]
          },
          "metadata": {},
          "execution_count": 3
        }
      ]
    },
    {
      "cell_type": "code",
      "source": [
        "# prompt: code to get palindrome check\n",
        "\n",
        "def is_palindrome(s):\n",
        "  s = s.lower().replace(\" \", \"\")\n",
        "  return s == s[::-1]\n",
        "\n",
        "# example usage\n",
        "print(is_palindrome(\"racecar\"))  # True\n",
        "print(is_palindrome(\"hello\"))  # False\n"
      ],
      "metadata": {
        "id": "uOOAfxYrZ8Qg"
      },
      "execution_count": null,
      "outputs": []
    }
  ]
}