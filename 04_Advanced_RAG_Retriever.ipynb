{
  "cells": [
    {
      "cell_type": "markdown",
      "metadata": {
        "id": "view-in-github",
        "colab_type": "text"
      },
      "source": [
        "<a href=\"https://colab.research.google.com/github/genaiconference/RAG_Workshop_DHS2024/blob/main/04_Advanced_RAG_Retriever.ipynb\" target=\"_parent\"><img src=\"https://colab.research.google.com/assets/colab-badge.svg\" alt=\"Open In Colab\"/></a>"
      ]
    },
    {
      "cell_type": "markdown",
      "id": "0147a54f-b97f-4863-ac20-f8da92d7aa75",
      "metadata": {
        "execution": {
          "iopub.execute_input": "2024-02-01T17:05:06.590540Z",
          "iopub.status.busy": "2024-02-01T17:05:06.590271Z",
          "iopub.status.idle": "2024-02-01T17:05:06.593399Z",
          "shell.execute_reply": "2024-02-01T17:05:06.592931Z",
          "shell.execute_reply.started": "2024-02-01T17:05:06.590476Z"
        },
        "id": "0147a54f-b97f-4863-ac20-f8da92d7aa75"
      },
      "source": [
        "# Advanced Retrieval-Augmented Generation (RAG): LangChain Implementation\n",
        "This Notebook implements an advanced RAG system with the following components\n",
        "* How to handle **multiple data sources**\n",
        "* Showcases the power of various **Advanced Retrievers**"
      ]
    },
    {
      "cell_type": "code",
      "source": [
        "!git clone https://github.com/genaiconference/RAG_Workshop_DHS2024.git"
      ],
      "metadata": {
        "colab": {
          "base_uri": "https://localhost:8080/"
        },
        "id": "U5Tou03U1--E",
        "outputId": "0a2e6f8b-02cc-4555-d504-66efe56eb04b"
      },
      "id": "U5Tou03U1--E",
      "execution_count": 1,
      "outputs": [
        {
          "output_type": "stream",
          "name": "stdout",
          "text": [
            "Cloning into 'RAG_Workshop_DHS2024'...\n",
            "remote: Enumerating objects: 60, done.\u001b[K\n",
            "remote: Counting objects: 100% (60/60), done.\u001b[K\n",
            "remote: Compressing objects: 100% (58/58), done.\u001b[K\n",
            "remote: Total 60 (delta 14), reused 0 (delta 0), pack-reused 0\u001b[K\n",
            "Receiving objects: 100% (60/60), 29.28 MiB | 7.80 MiB/s, done.\n",
            "Resolving deltas: 100% (14/14), done.\n"
          ]
        }
      ]
    },
    {
      "cell_type": "code",
      "source": [
        "!pip install -r /content/RAG_Workshop_DHS2024/rag_requirements.txt"
      ],
      "metadata": {
        "id": "dpJXBEgH2Fbg"
      },
      "id": "dpJXBEgH2Fbg",
      "execution_count": null,
      "outputs": []
    },
    {
      "cell_type": "markdown",
      "id": "5aba0735-87f6-4005-8b45-bc110ddb615a",
      "metadata": {
        "id": "5aba0735-87f6-4005-8b45-bc110ddb615a"
      },
      "source": [
        "## Imports"
      ]
    },
    {
      "cell_type": "code",
      "execution_count": 27,
      "id": "950cbc52-97f9-4104-a318-584a534c557b",
      "metadata": {
        "execution": {
          "iopub.execute_input": "2024-02-27T18:40:25.310195Z",
          "iopub.status.busy": "2024-02-27T18:40:25.309822Z",
          "iopub.status.idle": "2024-02-27T18:40:44.263959Z",
          "shell.execute_reply": "2024-02-27T18:40:44.263306Z",
          "shell.execute_reply.started": "2024-02-27T18:40:25.310167Z"
        },
        "tags": [],
        "colab": {
          "base_uri": "https://localhost:8080/"
        },
        "id": "950cbc52-97f9-4104-a318-584a534c557b",
        "outputId": "cf432549-ef60-45ae-ee9f-1f5f4b10c2c2"
      },
      "outputs": [
        {
          "output_type": "execute_result",
          "data": {
            "text/plain": [
              "True"
            ]
          },
          "metadata": {},
          "execution_count": 27
        }
      ],
      "source": [
        "import os\n",
        "import time\n",
        "import warnings\n",
        "warnings.filterwarnings(\"ignore\")\n",
        "\n",
        "from dotenv import load_dotenv\n",
        "load_dotenv()"
      ]
    },
    {
      "cell_type": "code",
      "source": [
        "from RAG_Workshop_DHS2024.utils import pretty_print_result, pretty_print_docs"
      ],
      "metadata": {
        "id": "H8F3aGtJ27mL"
      },
      "id": "H8F3aGtJ27mL",
      "execution_count": 4,
      "outputs": []
    },
    {
      "cell_type": "markdown",
      "id": "c24065bf-3184-4ec9-975a-ab730d081362",
      "metadata": {
        "id": "c24065bf-3184-4ec9-975a-ab730d081362"
      },
      "source": [
        "## Azure - Model & Embeddings Configuration\n",
        "Define relevant environment variables in a .env file"
      ]
    },
    {
      "cell_type": "code",
      "source": [
        "# if directly using open ai api key\n",
        "import openai\n",
        "openai.api_key = os.getenv(\"OPENAI_API_KEY\")\n",
        "openai.api_type = \"openai\""
      ],
      "metadata": {
        "id": "TH_owIEf7lyX"
      },
      "id": "TH_owIEf7lyX",
      "execution_count": 5,
      "outputs": []
    },
    {
      "cell_type": "markdown",
      "id": "de028353-bcb1-44d0-8ebf-54873abef18a",
      "metadata": {
        "id": "de028353-bcb1-44d0-8ebf-54873abef18a"
      },
      "source": [
        "## Step1: Document Loading\n",
        "Load 4 documents - 2022 & 2023 Annual Reports of Apple and Microsoft"
      ]
    },
    {
      "cell_type": "code",
      "execution_count": 6,
      "id": "054a6f01-4068-4e64-a5a8-534e52c27b7e",
      "metadata": {
        "execution": {
          "iopub.execute_input": "2024-02-27T18:47:05.668569Z",
          "iopub.status.busy": "2024-02-27T18:47:05.668167Z",
          "iopub.status.idle": "2024-02-27T18:47:40.520880Z",
          "shell.execute_reply": "2024-02-27T18:47:40.520282Z",
          "shell.execute_reply.started": "2024-02-27T18:47:05.668543Z"
        },
        "tags": [],
        "colab": {
          "base_uri": "https://localhost:8080/"
        },
        "id": "054a6f01-4068-4e64-a5a8-534e52c27b7e",
        "outputId": "5b43ba39-3f60-4bc6-a028-8465d2d08b8a"
      },
      "outputs": [
        {
          "output_type": "stream",
          "name": "stderr",
          "text": [
            "WARNING:pypdf._reader:invalid pdf header: b'\\r\\n'\n",
            "WARNING:pypdf._reader:EOF marker not found\n",
            "WARNING:pypdf._reader:EOF marker not found\n"
          ]
        },
        {
          "output_type": "stream",
          "name": "stdout",
          "text": [
            "240\n"
          ]
        }
      ],
      "source": [
        "from langchain.document_loaders import DirectoryLoader, PyPDFLoader\n",
        "\n",
        "loader = DirectoryLoader('/content/RAG_Workshop_DHS2024/data/Annual Reports', glob=\"**/*.pdf\", loader_cls = PyPDFLoader, use_multithreading=True)\n",
        "documents = loader.load()\n",
        "print(len(documents))"
      ]
    },
    {
      "cell_type": "markdown",
      "id": "4c48a35b-6f0c-459e-8614-06f012253dc0",
      "metadata": {
        "id": "4c48a35b-6f0c-459e-8614-06f012253dc0"
      },
      "source": [
        "## Step2: Document Splitting"
      ]
    },
    {
      "cell_type": "code",
      "execution_count": 7,
      "id": "b71b2e8f-f764-45de-8d64-a6db0872c55a",
      "metadata": {
        "execution": {
          "iopub.execute_input": "2024-02-27T18:47:40.522245Z",
          "iopub.status.busy": "2024-02-27T18:47:40.521968Z",
          "iopub.status.idle": "2024-02-27T18:47:40.600341Z",
          "shell.execute_reply": "2024-02-27T18:47:40.599774Z",
          "shell.execute_reply.started": "2024-02-27T18:47:40.522224Z"
        },
        "tags": [],
        "colab": {
          "base_uri": "https://localhost:8080/"
        },
        "id": "b71b2e8f-f764-45de-8d64-a6db0872c55a",
        "outputId": "e8e7c659-c02c-4565-e2fe-a4b7c51972c1"
      },
      "outputs": [
        {
          "output_type": "stream",
          "name": "stdout",
          "text": [
            "366\n"
          ]
        }
      ],
      "source": [
        "from langchain.text_splitter import RecursiveCharacterTextSplitter\n",
        "\n",
        "def chunkByWord(text):\n",
        "    return len(text.split(\" \"))\n",
        "\n",
        "text_splitter = RecursiveCharacterTextSplitter(chunk_size=700, length_function = chunkByWord, chunk_overlap=50, add_start_index = False)\n",
        "\n",
        "docs = text_splitter.split_documents(documents)\n",
        "\n",
        "print(len(docs))"
      ]
    },
    {
      "cell_type": "markdown",
      "id": "66a50cbc-5a23-4c61-9e41-2f82a4a9c00a",
      "metadata": {
        "id": "66a50cbc-5a23-4c61-9e41-2f82a4a9c00a"
      },
      "source": [
        "## Step3: Vectorstores & Embeddings"
      ]
    },
    {
      "cell_type": "code",
      "execution_count": 40,
      "id": "db2700b4-58be-441f-8e57-56951e927167",
      "metadata": {
        "execution": {
          "iopub.execute_input": "2024-02-27T18:47:40.601416Z",
          "iopub.status.busy": "2024-02-27T18:47:40.601113Z",
          "iopub.status.idle": "2024-02-27T18:47:41.741621Z",
          "shell.execute_reply": "2024-02-27T18:47:41.741020Z",
          "shell.execute_reply.started": "2024-02-27T18:47:40.601387Z"
        },
        "tags": [],
        "id": "db2700b4-58be-441f-8e57-56951e927167"
      },
      "outputs": [],
      "source": [
        "from langchain.vectorstores import Chroma\n",
        "from langchain.embeddings.openai import OpenAIEmbeddings\n",
        "\n",
        "# Direct open ai way\n",
        "embeddings = OpenAIEmbeddings(model='text-embedding-ada-002')\n",
        "\n",
        "# Azure open ai way\n",
        "# embeddings = OpenAIEmbeddings(deployment=EMBEDDING_DEPLOYMENT_NAME,\n",
        "#                               openai_api_key=EMBEDDING_API_KEY,\n",
        "#                               openai_api_base=EMBEDDING_API_BASE,\n",
        "#                               openai_api_version=API_VERSION,\n",
        "#                               openai_api_type=API_TYPE,\n",
        "#                               chunk_size=1)"
      ]
    },
    {
      "cell_type": "code",
      "source": [
        "## save to disk\n",
        "vectorstore = Chroma.from_documents(documents=docs, embedding=embeddings, persist_directory='vectorstore/annual_reports/')\n",
        "\n",
        "## load from disk\n",
        "# vectorstore = Chroma(persist_directory='vectorstore/annual_reports/',embedding_function=embeddings)"
      ],
      "metadata": {
        "id": "wjpANrYE3bAf"
      },
      "id": "wjpANrYE3bAf",
      "execution_count": 41,
      "outputs": []
    },
    {
      "cell_type": "code",
      "source": [
        "from langchain.chat_models import AzureChatOpenAI, ChatOpenAI\n",
        "\n",
        "# Open AI way\n",
        "llm = ChatOpenAI(model=\"gpt-4o-mini\",temperature=0)\n",
        "\n",
        "# # Azure Open AI way\n",
        "# llm = AzureChatOpenAI(\n",
        "#         openai_api_base=API_BASE,\n",
        "#         openai_api_version=API_VERSION,\n",
        "#         deployment_name=GPT4_TURBO_DEPLOYMENT_NAME,\n",
        "#         openai_api_key=API_KEY,\n",
        "#         openai_api_type=API_TYPE,\n",
        "#         temperature=0\n",
        "#     )"
      ],
      "metadata": {
        "id": "SC8ipHT54Cii"
      },
      "id": "SC8ipHT54Cii",
      "execution_count": 42,
      "outputs": []
    },
    {
      "cell_type": "markdown",
      "id": "fc438194-81f7-4fd8-828c-be2ed993cd50",
      "metadata": {
        "id": "fc438194-81f7-4fd8-828c-be2ed993cd50"
      },
      "source": [
        "## Step4: Retrieval"
      ]
    },
    {
      "cell_type": "markdown",
      "id": "12c511e2-6eec-4268-85c0-9303f35a618f",
      "metadata": {
        "id": "12c511e2-6eec-4268-85c0-9303f35a618f"
      },
      "source": [
        "### Type1 - LOTR (Merger Retriever) - Handling multiple retrievers\n",
        "Lord of the Retrievers, also known as MergerRetriever, takes a list of retrievers as input and merges the results of their get_relevant_documents() methods into a single list. The merged results will be a list of documents that are relevant to the query and that have been ranked by the different retrievers.\n",
        "\n",
        "The MergerRetriever class can be used to improve the accuracy of document retrieval in a number of ways. First, it can combine the results of multiple retrievers, which can help to reduce the risk of bias in the results. Second, it can rank the results of the different retrievers, which can help to ensure that the most relevant documents are returned first."
      ]
    },
    {
      "cell_type": "code",
      "execution_count": 34,
      "id": "c001a19c-40f2-485b-ae2f-3d6835650c86",
      "metadata": {
        "execution": {
          "iopub.execute_input": "2024-02-27T18:47:41.743162Z",
          "iopub.status.busy": "2024-02-27T18:47:41.742800Z",
          "iopub.status.idle": "2024-02-27T18:47:42.239710Z",
          "shell.execute_reply": "2024-02-27T18:47:42.239109Z",
          "shell.execute_reply.started": "2024-02-27T18:47:41.743141Z"
        },
        "tags": [],
        "id": "c001a19c-40f2-485b-ae2f-3d6835650c86"
      },
      "outputs": [],
      "source": [
        "from langchain.retrievers import MergerRetriever, BM25Retriever\n",
        "\n",
        "# Define 2 diff retrievers with 2 diff search type.\n",
        "retriever_1 = vectorstore.as_retriever(search_type=\"similarity\",\n",
        "                                                 search_kwargs={\"k\": 5, \"include_metadata\": True}\n",
        "                                                )\n",
        "\n",
        "# retriever_2 = vectorstore.as_retriever(search_type=\"mmr\",\n",
        "#                                                  search_kwargs={\"k\": 5, \"include_metadata\": True}\n",
        "#                                                 )\n",
        "\n",
        "# BM25 Retriver for keyword based retrieval using BM25 algorithm\n",
        "bm25_retriever = BM25Retriever.from_documents(docs)\n",
        "\n",
        "bm25_retriever.k = 3 # set the num of docs to be retrieved\n",
        "\n",
        "# Hybrid Retriver using Semantic Search and Keyword search together\n",
        "lotr = MergerRetriever(retrievers=[retriever_1, bm25_retriever])"
      ]
    },
    {
      "cell_type": "code",
      "source": [
        "from RAG_Workshop_DHS2024.utils import *"
      ],
      "metadata": {
        "id": "CxJdQ01R7eaX"
      },
      "id": "CxJdQ01R7eaX",
      "execution_count": 35,
      "outputs": []
    },
    {
      "cell_type": "code",
      "source": [
        "def pretty_print_result(query, _llm, retriever):\n",
        "    \"\"\"\n",
        "    Custom function to print clean output\n",
        "    \"\"\"\n",
        "    chain = ConversationalRetrievalChain.from_llm(llm=_llm,\n",
        "                                           combine_docs_chain_kwargs={\"prompt\": RAG_prompt},\n",
        "                                          retriever=retriever,\n",
        "                                           memory=memory,\n",
        "                                           return_source_documents=True)\n",
        "    try:\n",
        "      result = chain({\"question\": query})\n",
        "      display(Markdown(\"Answer: \" + result[\"answer\"].replace('$','`$`')))\n",
        "      print(\"No of documents retrieved: \" + str(len(result['source_documents'])))\n",
        "      print(\"=============================================================================================================\")\n",
        "      display(Markdown(f\"\\n{'-.' * 100}\\n\\n\".join([f\"Document {i+1}:\\n\\n\" + d.page_content.replace('$','`$`') +\"\\n\\n\" + str(d.metadata) for i, d in enumerate(result['source_documents'])])))\n",
        "    except Exception as e:\n",
        "        print(e)\n",
        "        pass\n",
        "    return\n"
      ],
      "metadata": {
        "id": "Z-oDwyr06yb2"
      },
      "id": "Z-oDwyr06yb2",
      "execution_count": 36,
      "outputs": []
    },
    {
      "cell_type": "code",
      "source": [
        "query = \"Compare the Revenue trends of Microsoft between the years 2022 and 2023?\"\n",
        "pretty_print_result(query, llm, lotr)"
      ],
      "metadata": {
        "collapsed": true,
        "colab": {
          "base_uri": "https://localhost:8080/",
          "height": 1000
        },
        "id": "Kn173CWT9B1K",
        "outputId": "bcc4cde1-d4c5-41cb-b706-bb4917b2c447"
      },
      "id": "Kn173CWT9B1K",
      "execution_count": 37,
      "outputs": [
        {
          "output_type": "display_data",
          "data": {
            "text/plain": [
              "<IPython.core.display.Markdown object>"
            ],
            "text/markdown": "Answer: Microsoft's revenue trends between 2022 and 2023 show an overall increase of 7%, rising from `$`198.27 billion in 2022 to `$`211.92 billion in 2023. The Intelligent Cloud segment experienced a significant revenue increase of `$`12.9 billion or 17%, with server products and cloud services revenue growing by `$`12.6 billion or 19%, primarily driven by Azure and other cloud services, which grew by 29%. The Productivity and Business Processes segment also saw a revenue increase of 9%, while the More Personal Computing segment experienced a decline of 9%."
          },
          "metadata": {}
        },
        {
          "output_type": "stream",
          "name": "stdout",
          "text": [
            "No of documents retrieved: 8\n",
            "=============================================================================================================\n"
          ]
        },
        {
          "output_type": "display_data",
          "data": {
            "text/plain": [
              "<IPython.core.display.Markdown object>"
            ],
            "text/markdown": "Document 1:\n\nrespectively.  \nIntelligent Cloud  \nRevenue increased  `$`12.9  billion or 17%. \n• Server products and cloud services revenue increased `$` 12.6 billion or 19% driven by Azure and other cloud \nservices. Azure and other cloud services revenue grew 29% driven by  growth in our consumption -based \nservices. Server products revenue decreased 1% . \n• Enterprise Services revenue increased `$` 315 million or 4% driven by growth in Enterprise Support Services, \noffset in part by a decline in Industry Solutions (formerly Microsoft Consulting Services ).\n\n{'page': 41, 'source': '/content/RAG_Workshop_DHS2024/data/Annual Reports/Microsoft_2023.pdf'}\n-.-.-.-.-.-.-.-.-.-.-.-.-.-.-.-.-.-.-.-.-.-.-.-.-.-.-.-.-.-.-.-.-.-.-.-.-.-.-.-.-.-.-.-.-.-.-.-.-.-.-.-.-.-.-.-.-.-.-.-.-.-.-.-.-.-.-.-.-.-.-.-.-.-.-.-.-.-.-.-.-.-.-.-.-.-.-.-.-.-.-.-.-.-.-.-.-.-.-.-.\n\nDocument 2:\n\nApple Inc.\nNotes to Consolidated Financial Statements\nNote 1 – \nSummary of Significant Accounting Policies\nBasis of Presentation and Preparation\nThe consolidated ﬁnancial statements include the accounts of Apple Inc. and its wholly owned subsidiaries (collectively “Apple” or the “Company”). Intercompany\naccounts and transactions have been eliminated. The preparation of these consolidated ﬁnancial statements and accompanying notes in conformity with U.S.\ngenerally accepted accounting principles requires management to make estimates and assumptions that aﬀect the amounts reported. Actual results could diﬀer\nmaterially from those estimates. Certain prior period amounts in the consolidated ﬁnancial statements and accompanying notes have been reclassiﬁed to conform to\nthe current period’s presentation.\nThe Company’s ﬁscal year is the 52- or 53-week period that ends on the last Saturday of September. An additional week is included in the ﬁrst ﬁscal quarter every\nﬁve or six years to realign the Company’s ﬁscal quarters with calendar quarters, which will occur in the ﬁrst quarter of the Company’s ﬁscal year ending September\n30, 2023. The Company’s ﬁscal years 2022, 2021 and 2020 spanned 52 weeks each. Unless otherwise stated, references to particular years, quarters, months and\nperiods refer to the Company’s fiscal years ended in September and the associated quarters, months and periods of those fiscal years.\nRevenue Recognition\nNet sales consist of revenue from the sale of iPhone, Mac, iPad, Services and other products. The Company recognizes revenue at the amount to which it expects to\nbe entitled when control of the products or services is transferred to its customers. Control is generally transferred when the Company has a present right to payment\nand title and the signiﬁcant risks and rewards of ownership of products or services are transferred to its customers. For most of the Company’s Products net sales,\ncontrol transfers when products are shipped. For the Company’s Services net sales, control transfers over time as services are delivered. Payment for Products and\nServices net sales is collected within a short period following transfer of control or commencement of delivery of services, as applicable.\nThe Company records reductions to Products net sales related to future product returns, price protection and other customer incentive programs based on the\nCompany’s expectations and historical experience.\nFor arrangements with multiple performance obligations, which represent promises within an arrangement that are distinct, the Company allocates revenue to all\ndistinct performance obligations based on their relative stand-alone selling prices (“SSPs”). When available, the Company uses observable prices to determine SSPs.\nWhen observable prices are not available, SSPs are established that reﬂect the Company’s best estimates of what the selling prices of the performance obligations\nwould be if they were sold regularly on a stand-alone basis. The Company’s process for estimating SSPs without observable prices considers multiple factors that may\nvary depending upon the unique facts and circumstances related to each performance obligation including, where applicable, prices charged by the Company for\nsimilar offerings, market trends in the pricing for similar offerings, product-specific business objectives and the estimated cost to provide the performance obligation.\nThe Company has identiﬁed up to \nthree\n performance obligations regularly included in arrangements involving the sale of iPhone, Mac, iPad and certain other\nproducts. The ﬁrst performance obligation, which represents the substantial portion of the allocated sales price, is the hardware and bundled software delivered at the\ntime of sale. The second performance obligation is the right to receive certain product-related bundled services, which include iCloud\n, Siri\n and Maps. The third\nperformance obligation is the right to receive, on a when-and-if-available basis, future unspeciﬁed software upgrades relating to the software bundled with each\ndevice. The Company allocates revenue and any related discounts to these performance obligations based on their relative SSPs. Because the Company lacks\nobservable prices for the undelivered performance obligations, the allocation of revenue is based on the Company’s estimated SSPs. Revenue allocated to the\n\n{'source': '/content/RAG_Workshop_DHS2024/data/Annual Reports/Apple_2022.pdf', 'page': 37}\n-.-.-.-.-.-.-.-.-.-.-.-.-.-.-.-.-.-.-.-.-.-.-.-.-.-.-.-.-.-.-.-.-.-.-.-.-.-.-.-.-.-.-.-.-.-.-.-.-.-.-.-.-.-.-.-.-.-.-.-.-.-.-.-.-.-.-.-.-.-.-.-.-.-.-.-.-.-.-.-.-.-.-.-.-.-.-.-.-.-.-.-.-.-.-.-.-.-.-.-.\n\nDocument 3:\n\nrespectively.  \nIntelligent Cloud  \nRevenue increased  `$`12.9  billion or 17%. \n• Server products and cloud services revenue increased `$` 12.6 billion or 19% driven by Azure and other cloud \nservices. Azure and other cloud services revenue grew 29% driven by  growth in our consumption -based \nservices. Server products revenue decreased 1% . \n• Enterprise Services revenue increased `$` 315 million or 4% driven by growth in Enterprise Support Services, \noffset in part by a decline in Industry Solutions (formerly Microsoft Consulting Services ).\n\n{'page': 41, 'source': '/content/RAG_Workshop_DHS2024/data/Annual Reports/Microsoft_2023.pdf'}\n-.-.-.-.-.-.-.-.-.-.-.-.-.-.-.-.-.-.-.-.-.-.-.-.-.-.-.-.-.-.-.-.-.-.-.-.-.-.-.-.-.-.-.-.-.-.-.-.-.-.-.-.-.-.-.-.-.-.-.-.-.-.-.-.-.-.-.-.-.-.-.-.-.-.-.-.-.-.-.-.-.-.-.-.-.-.-.-.-.-.-.-.-.-.-.-.-.-.-.-.\n\nDocument 4:\n\nPART II  \nItem 7 \n \n44 Fiscal Year 2023 Compared with Fiscal Year 2022  \nInterest and dividends income increased due to higher yields, offset in part by lower portfolio balances. Interest expense \ndecreased due to a decrease in  outstanding long -term debt due to debt maturities. Net recognized gains on \ninvestments decreased due to lower gains on equity securities and higher losses on fixed income securities. Net losses \non derivatives increased due to losses related to managing st rategic investments.  \nINCOME TAXES  \nEffective Tax Rate  \nOur effective tax rate for fiscal years 2023  and 2022  was 19% and 1 3%, respectively . The increase in our effective tax \nrate was primarily due to a `$`3.3 billion net income tax benefit in the first quarter of fiscal year 2022 related to the trans fer \nof intangible properties and a decrease in tax benefits relating to stock -based compensation.  \nIn the first quarter of fiscal year 2022, we transferred certain intangible properties from our Puerto Rico subsidiary to \nthe U.S. The transfer of intangible properties resulted in a `$`3.3 billion net income tax benefit in the first quarter of fisc al \nyear 2 022, as the value of future U.S. tax deductions exceeded the current tax liability from the U.S. global intangible \nlow-taxed income tax.  \nOur effective tax rate was lower than the U.S. federal statutory rate, primarily due to earnings taxed at lower rates in \nforeign jurisdictions resulting from producing and distributing our products and services through our foreign regional \noperations center in Ireland.  \nThe mix of income before income taxes between the U.S. and foreign countries impacted our effective tax rate as a \nresult of the geographic distribution of, and customer demand for, our products and services. In fiscal year 2023 , our \nU.S. income before income taxes was `$` 52.9 billion and our foreign income before income taxes was `$` 36.4 billion. In \nfiscal year 2022, our U.S. income before income taxes was `$`47.8 billion and our foreign income before income taxes \nwas `$`35.9 billion.  \nUncertain Tax Positions  \nWe settled a portion of the Internal Revenue Service (“IRS”) audit for tax years 2004 to 2006 in fiscal year 2011. In \nFebruary 2012, the IRS withdrew its 2011 Revenue Agents Report related to unresolved issues for tax years 2004 to \n2006 and reopened the audit  phase of the examination. We also settled a portion of the IRS audit for tax years 2007 \nto 2009 in fiscal year 2016, and a portion of the IRS audit for tax years 2010 to 2013 in fiscal year 2018. In the second \nquarter of fiscal year 2021, we settled an  additional portion of the IRS audits for tax years 2004 to 2013 and made a \npayment of `$`1.7 billion, including tax and interest. We remain under audit for tax years 2004 to 2017.  \nAs of  June 30, 2023 , the primary unresolved issues for the  IRS audits relate  to transfer pricing, which could have a \nmaterial impact in our consolidated financial statements when the matters are resolved. We believe our allowances for \nincome tax contingencies are adequate . We have not received a proposed assessment for the unresolved key transfer \npricing issues. We do not expect a final resolution of these issues in the next 12 months.  Based on the information \ncurrently available, we do not anticipate a significant increase or decrease to our tax contingencies for these issues \nwithin the next 12 months.  \nWe are subject to income tax in many jurisdictions outside the U.S. Our operations in certain jurisdictions remain\n\n{'source': '/content/RAG_Workshop_DHS2024/data/Annual Reports/Microsoft_2023.pdf', 'page': 44}\n-.-.-.-.-.-.-.-.-.-.-.-.-.-.-.-.-.-.-.-.-.-.-.-.-.-.-.-.-.-.-.-.-.-.-.-.-.-.-.-.-.-.-.-.-.-.-.-.-.-.-.-.-.-.-.-.-.-.-.-.-.-.-.-.-.-.-.-.-.-.-.-.-.-.-.-.-.-.-.-.-.-.-.-.-.-.-.-.-.-.-.-.-.-.-.-.-.-.-.-.\n\nDocument 5:\n\nPART II  \nItem 8  \n91 No sales to an individual customer or country other than the United States accounted for more than 10% of revenue \nfor fiscal years 2023 , 2022 , or 2021 . Revenue, classified by the major geographic areas in which our customers were \nlocated, was as follows:  \n \n(In millions)           \n     \nYear Ended June  30,    2023     2022     2021   \n    \nUnited States  (a)   `$` 106,744      `$` 100,218      `$` 83,953    \nOther countries      105,171        98,052        84,135    \n                 \n             \nTotal    `$` 211,915     `$` 198,270      `$` 168,088    \n                       \n(a) Includes billings to OEMs and certain multinational organizations because of the nature of these businesses and \nthe impracticability of determining the geographic source of the revenue.  \nRevenue, classified by significant product and service offerings, was as follows:   \n \n(In millions)           \n     \nYear Ended June  30,    2023     2022     2021   \n    \nServer products and cloud services     `$` 79,970     `$` 67,350     `$` 52,589    \nOffice products and cloud services     48,728       44,862       39,872   \nWindows      21,507       24,732       22,488    \nGaming     15,466   \n    16,230   \n    15,370    \nLinkedIn    15,145     13,816     10,289    \nSearch and news advertising      12,208        11,591        9,267    \nEnterprise Services    7,722     7,407     6,943   \nDevices    5,521     7,306     7,143   \nDynamics    5,437     4,687     3,754   \nOther       211       289       373   \n              \n                \nTotal    `$` 211,915     `$` 198,270      `$` 168,088\n\n{'page': 91, 'source': '/content/RAG_Workshop_DHS2024/data/Annual Reports/Microsoft_2023.pdf'}\n-.-.-.-.-.-.-.-.-.-.-.-.-.-.-.-.-.-.-.-.-.-.-.-.-.-.-.-.-.-.-.-.-.-.-.-.-.-.-.-.-.-.-.-.-.-.-.-.-.-.-.-.-.-.-.-.-.-.-.-.-.-.-.-.-.-.-.-.-.-.-.-.-.-.-.-.-.-.-.-.-.-.-.-.-.-.-.-.-.-.-.-.-.-.-.-.-.-.-.-.\n\nDocument 6:\n\nPART II  \nItem 7 \n \n48 transaction  subject to obtaining required regulatory approvals and satisfaction of other customary closing conditions.  \nMicrosoft and Activision Blizzard have jointly agreed to extend the merger agreement through  October 18, 2023 to \nallow for additional time to resolve remaining regulatory concerns.  \nWe will continue to invest in sales, marketing, product support infrastructure, and existing and advanced areas of \ntechnology, as well as acquisitions that align with our business strategy. Additions to property and equipment will \ncontinue, including new f acilities, datacenters, and computer systems for research and development, sales and \nmarketing, support, and administrative staff. We expect capital expenditures to increase in coming years to support \ngrowth in our cloud offerings and our investments in AI infrastructure. We have operating and finance leases for \ndatacenters, corporate offices, research and development facilities, Microsoft Experience Centers, and certain \nequipment. We have not engaged in any related party transactions or arrangements with u nconsolidated entities or \nother persons that are reasonably likely to materially affect liquidity or the availability of capital resources.  \nCRITICAL ACCOUNTING ESTIMATES  \nOur consolidated financial statements and accompanying notes are prepared in accordance with GAAP. Preparing \nconsolidated financial statements requires management to make estimates and assumptions that affect the reported \namounts of assets, liabilities, re venue, and expenses. Critical accounting estimates are those estimates that involve a \nsignificant level of estimation uncertainty and could have a material impact on our financial condition or results of \noperations. We have critical accounting estimates in  the areas of revenue recognition, impairment of investment \nsecurities, goodwill, research and development costs, legal and other contingencies, income taxes, and inventories.  \nRevenue Recognition  \nOur contracts with customers often include promises to transfer multiple products and services to a customer. \nDetermining whether products and services are considered distinct performance obligations that should be accounted \nfor separately versus together may require significant judgment. When a cloud -based service includes both on -\npremises software licenses and cloud services, judgment is required to determine whether the software license is \nconsidered distinct and accounted for separately, or not distinct  and accounted for together with the cloud service and \nrecognized over time. Certain cloud services, primarily Office 365, depend on a significant level of integration, \ninterdependency, and interrelation between the desktop applications and cloud services,  and are accounted for \ntogether as one performance obligation. Revenue from Office 365 is recognized ratably over the period in which the \ncloud services are provided.  \nJudgment is required to determine the stand -alone selling price (“SSP\") for each distinct performance obligation. We  \nuse a single amount to estimate SSP for items that are not sold separately, including on -premises licenses sold with \nSA or  software updates provided at no additional charge.  We use a range of amounts to estimate SSP when we sell \neach of the products and services separately and need to determine whether there is a discount to be allocated based \non the relative SSP of the various products and s ervices.  \nIn instances where SSP is not directly observable, such as when we do not sell the product or service separately, we \ndetermine the SSP using information that may include market conditions and other observable inputs. We typically \nhave more than one SSP for  individual products and services due to the stratification of those products and services \nby customers and circumstances. In these instances, we may use information such as the size of the customer and \ngeographic region in determining the SSP.  \n \nDue to the various benefits from and the nature of our SA program, judgment is required to assess the pattern of\n\n{'source': '/content/RAG_Workshop_DHS2024/data/Annual Reports/Microsoft_2023.pdf', 'page': 48}\n-.-.-.-.-.-.-.-.-.-.-.-.-.-.-.-.-.-.-.-.-.-.-.-.-.-.-.-.-.-.-.-.-.-.-.-.-.-.-.-.-.-.-.-.-.-.-.-.-.-.-.-.-.-.-.-.-.-.-.-.-.-.-.-.-.-.-.-.-.-.-.-.-.-.-.-.-.-.-.-.-.-.-.-.-.-.-.-.-.-.-.-.-.-.-.-.-.-.-.-.\n\nDocument 7:\n\nPART II  \nItem 8  \n91 No sales to an individual customer or country other than the United States accounted for more than 10% of revenue \nfor fiscal years 2023 , 2022 , or 2021 . Revenue, classified by the major geographic areas in which our customers were \nlocated, was as follows:  \n \n(In millions)           \n     \nYear Ended June  30,    2023     2022     2021   \n    \nUnited States  (a)   `$` 106,744      `$` 100,218      `$` 83,953    \nOther countries      105,171        98,052        84,135    \n                 \n             \nTotal    `$` 211,915     `$` 198,270      `$` 168,088    \n                       \n(a) Includes billings to OEMs and certain multinational organizations because of the nature of these businesses and \nthe impracticability of determining the geographic source of the revenue.  \nRevenue, classified by significant product and service offerings, was as follows:   \n \n(In millions)           \n     \nYear Ended June  30,    2023     2022     2021   \n    \nServer products and cloud services     `$` 79,970     `$` 67,350     `$` 52,589    \nOffice products and cloud services     48,728       44,862       39,872   \nWindows      21,507       24,732       22,488    \nGaming     15,466   \n    16,230   \n    15,370    \nLinkedIn    15,145     13,816     10,289    \nSearch and news advertising      12,208        11,591        9,267    \nEnterprise Services    7,722     7,407     6,943   \nDevices    5,521     7,306     7,143   \nDynamics    5,437     4,687     3,754   \nOther       211       289       373   \n              \n                \nTotal    `$` 211,915     `$` 198,270      `$` 168,088\n\n{'page': 91, 'source': '/content/RAG_Workshop_DHS2024/data/Annual Reports/Microsoft_2023.pdf'}\n-.-.-.-.-.-.-.-.-.-.-.-.-.-.-.-.-.-.-.-.-.-.-.-.-.-.-.-.-.-.-.-.-.-.-.-.-.-.-.-.-.-.-.-.-.-.-.-.-.-.-.-.-.-.-.-.-.-.-.-.-.-.-.-.-.-.-.-.-.-.-.-.-.-.-.-.-.-.-.-.-.-.-.-.-.-.-.-.-.-.-.-.-.-.-.-.-.-.-.-.\n\nDocument 8:\n\nPART II  \nItem 7 \n \n41 SEGMENT RESULTS OF OPERATIONS  \n  \n(In millions, except percentages)    2023     2022     Percentage  \nChange    \n  \n  \nRevenue                         \n     \nProductivity and Business Processes   `$` 69,274    `$` 63,364    9%  \nIntelligent Cloud    87,907    74,965    17%  \nMore Personal Computing    54,734      59,941     (9)%  \n         \n                \nTotal    `$` 211,915     `$` 198,270      7%   \n            \n     \nOperating Income             \n            \nProductivity and Business Processes   `$` 34,189   `$` 29,690   15%  \nIntelligent Cloud    37,884    33,203   14%  \nMore Personal Computing    16,450     20,490   (20)%  \n         \n                \nTotal   `$` 88,523   `$` 83,383    6%  \n            \nReportable Segments  \nFiscal Year 2023  Compared with Fiscal Year 2022   \nProductivity and Business Processes  \nRevenue increased  `$`5.9 billion or 9%.  \n• Office Commercial products and cloud services revenue increased `$` 3.7 billion or 10%. Office 365 \nCommercial revenue grew 13% with seat growth of 11%, driven by small and medium business and frontline \nworker offerings, as well as growth in revenue per user. Office Commercial products revenue declined 21% \ndriven by continued customer shift to cloud offerings.  \n• Office Consumer products and cloud services revenue increased `$` 140 million or 2%. Microsoft 365 \nConsumer subscribers grew 12% to 67.0 million.   \n• LinkedIn revenue increased `$`1. 3 billion or 10% driven by Talent Solutions.  \n• Dynamics products and cloud services revenue increased `$`750 million or 16% driven by Dynamics 365 \ngrowth of 24%. \nOperating income increased  `$`4.5 billion or 15%.  \n• Gross margin increased  `$`5.8 billion or 12% driven by growth in Office 365 Commercial  and LinkedIn , as \nwell as the change in accounting estimate. Gross margin percentage increased. Excluding the impact of the \nchange in accounting estimate, gross margin percentage increased slightly  driven by improvement in Office \n365 Commercial, offset in part by sales mix shift to cloud offerings.  \n• Operating expenses increased  `$`1.3 billion or 7% driven by investment in LinkedIn and employee severance \nexpenses.  \nRevenue, gross margin, and operating income included an unfavorable foreign currency impact of 5%, 5%, and 8%, \nrespectively.  \nIntelligent Cloud  \nRevenue increased  `$`12.9  billion or 17%. \n• Server products and cloud services revenue increased `$` 12.6 billion or 19% driven by Azure and other cloud\n\n{'page': 41, 'source': '/content/RAG_Workshop_DHS2024/data/Annual Reports/Microsoft_2023.pdf'}"
          },
          "metadata": {}
        }
      ]
    },
    {
      "cell_type": "markdown",
      "id": "e2230ab8-96c2-489d-840e-d7753e313af8",
      "metadata": {
        "id": "e2230ab8-96c2-489d-840e-d7753e313af8"
      },
      "source": [
        "## Type2 - Ensemble Retriever - Handling multiple retrievers\n",
        "The EnsembleRetriever takes a list of retrievers as input and ensemble the results of their get_relevant_documents() methods and rerank the results based on the Reciprocal Rank Fusion algorithm.\n",
        "\n",
        "By leveraging the strengths of different algorithms, the EnsembleRetriever can achieve better performance than any single algorithm."
      ]
    },
    {
      "cell_type": "code",
      "execution_count": 43,
      "id": "d26d6c4b-8ef9-49ce-abf1-04264ec58622",
      "metadata": {
        "execution": {
          "iopub.execute_input": "2024-02-26T10:25:58.350825Z",
          "iopub.status.busy": "2024-02-26T10:25:58.350465Z",
          "iopub.status.idle": "2024-02-26T10:25:58.354145Z",
          "shell.execute_reply": "2024-02-26T10:25:58.353606Z",
          "shell.execute_reply.started": "2024-02-26T10:25:58.350802Z"
        },
        "tags": [],
        "id": "d26d6c4b-8ef9-49ce-abf1-04264ec58622"
      },
      "outputs": [],
      "source": [
        "from langchain.retrievers import EnsembleRetriever\n",
        "\n",
        "# initialize the ensemble retriever\n",
        "ensemble_retriever = EnsembleRetriever(retrievers=[retriever_1, bm25_retriever], weights=[0.5, 0.5])"
      ]
    },
    {
      "cell_type": "code",
      "execution_count": 44,
      "id": "93f58c8a-7ac4-46cc-99c4-54b23db584cf",
      "metadata": {
        "collapsed": true,
        "execution": {
          "iopub.execute_input": "2024-02-26T10:26:00.662995Z",
          "iopub.status.busy": "2024-02-26T10:26:00.662625Z",
          "iopub.status.idle": "2024-02-26T10:26:11.172058Z",
          "shell.execute_reply": "2024-02-26T10:26:11.171443Z",
          "shell.execute_reply.started": "2024-02-26T10:26:00.662971Z"
        },
        "jupyter": {
          "outputs_hidden": true
        },
        "tags": [],
        "colab": {
          "base_uri": "https://localhost:8080/",
          "height": 1000
        },
        "id": "93f58c8a-7ac4-46cc-99c4-54b23db584cf",
        "outputId": "9a9fefe9-0893-48bc-f8e9-c0db503abc42"
      },
      "outputs": [
        {
          "output_type": "display_data",
          "data": {
            "text/plain": [
              "<IPython.core.display.Markdown object>"
            ],
            "text/markdown": "Answer: In 2023, Microsoft's total revenue increased to `$`211.9 billion, a 7% rise from `$`198.3 billion in 2022. The Intelligent Cloud segment saw a significant revenue increase of `$`12.9 billion (17%), reaching `$`87.9 billion, driven by Azure and other cloud services. Productivity and Business Processes revenue grew by `$`5.9 billion (9%) to `$`69.3 billion, while More Personal Computing revenue decreased by 9% to `$`54.7 billion. Overall, the growth in Intelligent Cloud and Productivity segments offset the decline in More Personal Computing."
          },
          "metadata": {}
        },
        {
          "output_type": "stream",
          "name": "stdout",
          "text": [
            "No of documents retrieved: 5\n",
            "=============================================================================================================\n"
          ]
        },
        {
          "output_type": "display_data",
          "data": {
            "text/plain": [
              "<IPython.core.display.Markdown object>"
            ],
            "text/markdown": "Document 1:\n\nrespectively.  \nIntelligent Cloud  \nRevenue increased  `$`12.9  billion or 17%. \n• Server products and cloud services revenue increased `$` 12.6 billion or 19% driven by Azure and other cloud \nservices. Azure and other cloud services revenue grew 29% driven by  growth in our consumption -based \nservices. Server products revenue decreased 1% . \n• Enterprise Services revenue increased `$` 315 million or 4% driven by growth in Enterprise Support Services, \noffset in part by a decline in Industry Solutions (formerly Microsoft Consulting Services ).\n\n{'page': 41, 'source': '/content/RAG_Workshop_DHS2024/data/Annual Reports/Microsoft_2023.pdf'}\n-.-.-.-.-.-.-.-.-.-.-.-.-.-.-.-.-.-.-.-.-.-.-.-.-.-.-.-.-.-.-.-.-.-.-.-.-.-.-.-.-.-.-.-.-.-.-.-.-.-.-.-.-.-.-.-.-.-.-.-.-.-.-.-.-.-.-.-.-.-.-.-.-.-.-.-.-.-.-.-.-.-.-.-.-.-.-.-.-.-.-.-.-.-.-.-.-.-.-.-.\n\nDocument 2:\n\nPART II  \nItem 7 \n \n41 SEGMENT RESULTS OF OPERATIONS  \n  \n(In millions, except percentages)    2023     2022     Percentage  \nChange    \n  \n  \nRevenue                         \n     \nProductivity and Business Processes   `$` 69,274    `$` 63,364    9%  \nIntelligent Cloud    87,907    74,965    17%  \nMore Personal Computing    54,734      59,941     (9)%  \n         \n                \nTotal    `$` 211,915     `$` 198,270      7%   \n            \n     \nOperating Income             \n            \nProductivity and Business Processes   `$` 34,189   `$` 29,690   15%  \nIntelligent Cloud    37,884    33,203   14%  \nMore Personal Computing    16,450     20,490   (20)%  \n         \n                \nTotal   `$` 88,523   `$` 83,383    6%  \n            \nReportable Segments  \nFiscal Year 2023  Compared with Fiscal Year 2022   \nProductivity and Business Processes  \nRevenue increased  `$`5.9 billion or 9%.  \n• Office Commercial products and cloud services revenue increased `$` 3.7 billion or 10%. Office 365 \nCommercial revenue grew 13% with seat growth of 11%, driven by small and medium business and frontline \nworker offerings, as well as growth in revenue per user. Office Commercial products revenue declined 21% \ndriven by continued customer shift to cloud offerings.  \n• Office Consumer products and cloud services revenue increased `$` 140 million or 2%. Microsoft 365 \nConsumer subscribers grew 12% to 67.0 million.   \n• LinkedIn revenue increased `$`1. 3 billion or 10% driven by Talent Solutions.  \n• Dynamics products and cloud services revenue increased `$`750 million or 16% driven by Dynamics 365 \ngrowth of 24%. \nOperating income increased  `$`4.5 billion or 15%.  \n• Gross margin increased  `$`5.8 billion or 12% driven by growth in Office 365 Commercial  and LinkedIn , as \nwell as the change in accounting estimate. Gross margin percentage increased. Excluding the impact of the \nchange in accounting estimate, gross margin percentage increased slightly  driven by improvement in Office \n365 Commercial, offset in part by sales mix shift to cloud offerings.  \n• Operating expenses increased  `$`1.3 billion or 7% driven by investment in LinkedIn and employee severance \nexpenses.  \nRevenue, gross margin, and operating income included an unfavorable foreign currency impact of 5%, 5%, and 8%, \nrespectively.  \nIntelligent Cloud  \nRevenue increased  `$`12.9  billion or 17%. \n• Server products and cloud services revenue increased `$` 12.6 billion or 19% driven by Azure and other cloud\n\n{'page': 41, 'source': '/content/RAG_Workshop_DHS2024/data/Annual Reports/Microsoft_2023.pdf'}\n-.-.-.-.-.-.-.-.-.-.-.-.-.-.-.-.-.-.-.-.-.-.-.-.-.-.-.-.-.-.-.-.-.-.-.-.-.-.-.-.-.-.-.-.-.-.-.-.-.-.-.-.-.-.-.-.-.-.-.-.-.-.-.-.-.-.-.-.-.-.-.-.-.-.-.-.-.-.-.-.-.-.-.-.-.-.-.-.-.-.-.-.-.-.-.-.-.-.-.-.\n\nDocument 3:\n\nPART II  \nItem 7 \n \n44 Fiscal Year 2023 Compared with Fiscal Year 2022  \nInterest and dividends income increased due to higher yields, offset in part by lower portfolio balances. Interest expense \ndecreased due to a decrease in  outstanding long -term debt due to debt maturities. Net recognized gains on \ninvestments decreased due to lower gains on equity securities and higher losses on fixed income securities. Net losses \non derivatives increased due to losses related to managing st rategic investments.  \nINCOME TAXES  \nEffective Tax Rate  \nOur effective tax rate for fiscal years 2023  and 2022  was 19% and 1 3%, respectively . The increase in our effective tax \nrate was primarily due to a `$`3.3 billion net income tax benefit in the first quarter of fiscal year 2022 related to the trans fer \nof intangible properties and a decrease in tax benefits relating to stock -based compensation.  \nIn the first quarter of fiscal year 2022, we transferred certain intangible properties from our Puerto Rico subsidiary to \nthe U.S. The transfer of intangible properties resulted in a `$`3.3 billion net income tax benefit in the first quarter of fisc al \nyear 2 022, as the value of future U.S. tax deductions exceeded the current tax liability from the U.S. global intangible \nlow-taxed income tax.  \nOur effective tax rate was lower than the U.S. federal statutory rate, primarily due to earnings taxed at lower rates in \nforeign jurisdictions resulting from producing and distributing our products and services through our foreign regional \noperations center in Ireland.  \nThe mix of income before income taxes between the U.S. and foreign countries impacted our effective tax rate as a \nresult of the geographic distribution of, and customer demand for, our products and services. In fiscal year 2023 , our \nU.S. income before income taxes was `$` 52.9 billion and our foreign income before income taxes was `$` 36.4 billion. In \nfiscal year 2022, our U.S. income before income taxes was `$`47.8 billion and our foreign income before income taxes \nwas `$`35.9 billion.  \nUncertain Tax Positions  \nWe settled a portion of the Internal Revenue Service (“IRS”) audit for tax years 2004 to 2006 in fiscal year 2011. In \nFebruary 2012, the IRS withdrew its 2011 Revenue Agents Report related to unresolved issues for tax years 2004 to \n2006 and reopened the audit  phase of the examination. We also settled a portion of the IRS audit for tax years 2007 \nto 2009 in fiscal year 2016, and a portion of the IRS audit for tax years 2010 to 2013 in fiscal year 2018. In the second \nquarter of fiscal year 2021, we settled an  additional portion of the IRS audits for tax years 2004 to 2013 and made a \npayment of `$`1.7 billion, including tax and interest. We remain under audit for tax years 2004 to 2017.  \nAs of  June 30, 2023 , the primary unresolved issues for the  IRS audits relate  to transfer pricing, which could have a \nmaterial impact in our consolidated financial statements when the matters are resolved. We believe our allowances for \nincome tax contingencies are adequate . We have not received a proposed assessment for the unresolved key transfer \npricing issues. We do not expect a final resolution of these issues in the next 12 months.  Based on the information \ncurrently available, we do not anticipate a significant increase or decrease to our tax contingencies for these issues \nwithin the next 12 months.  \nWe are subject to income tax in many jurisdictions outside the U.S. Our operations in certain jurisdictions remain\n\n{'source': '/content/RAG_Workshop_DHS2024/data/Annual Reports/Microsoft_2023.pdf', 'page': 44}\n-.-.-.-.-.-.-.-.-.-.-.-.-.-.-.-.-.-.-.-.-.-.-.-.-.-.-.-.-.-.-.-.-.-.-.-.-.-.-.-.-.-.-.-.-.-.-.-.-.-.-.-.-.-.-.-.-.-.-.-.-.-.-.-.-.-.-.-.-.-.-.-.-.-.-.-.-.-.-.-.-.-.-.-.-.-.-.-.-.-.-.-.-.-.-.-.-.-.-.-.\n\nDocument 4:\n\nApple Inc.\nNotes to Consolidated Financial Statements\nNote 1 – \nSummary of Significant Accounting Policies\nBasis of Presentation and Preparation\nThe consolidated ﬁnancial statements include the accounts of Apple Inc. and its wholly owned subsidiaries (collectively “Apple” or the “Company”). Intercompany\naccounts and transactions have been eliminated. The preparation of these consolidated ﬁnancial statements and accompanying notes in conformity with U.S.\ngenerally accepted accounting principles requires management to make estimates and assumptions that aﬀect the amounts reported. Actual results could diﬀer\nmaterially from those estimates. Certain prior period amounts in the consolidated ﬁnancial statements and accompanying notes have been reclassiﬁed to conform to\nthe current period’s presentation.\nThe Company’s ﬁscal year is the 52- or 53-week period that ends on the last Saturday of September. An additional week is included in the ﬁrst ﬁscal quarter every\nﬁve or six years to realign the Company’s ﬁscal quarters with calendar quarters, which will occur in the ﬁrst quarter of the Company’s ﬁscal year ending September\n30, 2023. The Company’s ﬁscal years 2022, 2021 and 2020 spanned 52 weeks each. Unless otherwise stated, references to particular years, quarters, months and\nperiods refer to the Company’s fiscal years ended in September and the associated quarters, months and periods of those fiscal years.\nRevenue Recognition\nNet sales consist of revenue from the sale of iPhone, Mac, iPad, Services and other products. The Company recognizes revenue at the amount to which it expects to\nbe entitled when control of the products or services is transferred to its customers. Control is generally transferred when the Company has a present right to payment\nand title and the signiﬁcant risks and rewards of ownership of products or services are transferred to its customers. For most of the Company’s Products net sales,\ncontrol transfers when products are shipped. For the Company’s Services net sales, control transfers over time as services are delivered. Payment for Products and\nServices net sales is collected within a short period following transfer of control or commencement of delivery of services, as applicable.\nThe Company records reductions to Products net sales related to future product returns, price protection and other customer incentive programs based on the\nCompany’s expectations and historical experience.\nFor arrangements with multiple performance obligations, which represent promises within an arrangement that are distinct, the Company allocates revenue to all\ndistinct performance obligations based on their relative stand-alone selling prices (“SSPs”). When available, the Company uses observable prices to determine SSPs.\nWhen observable prices are not available, SSPs are established that reﬂect the Company’s best estimates of what the selling prices of the performance obligations\nwould be if they were sold regularly on a stand-alone basis. The Company’s process for estimating SSPs without observable prices considers multiple factors that may\nvary depending upon the unique facts and circumstances related to each performance obligation including, where applicable, prices charged by the Company for\nsimilar offerings, market trends in the pricing for similar offerings, product-specific business objectives and the estimated cost to provide the performance obligation.\nThe Company has identiﬁed up to \nthree\n performance obligations regularly included in arrangements involving the sale of iPhone, Mac, iPad and certain other\nproducts. The ﬁrst performance obligation, which represents the substantial portion of the allocated sales price, is the hardware and bundled software delivered at the\ntime of sale. The second performance obligation is the right to receive certain product-related bundled services, which include iCloud\n, Siri\n and Maps. The third\nperformance obligation is the right to receive, on a when-and-if-available basis, future unspeciﬁed software upgrades relating to the software bundled with each\ndevice. The Company allocates revenue and any related discounts to these performance obligations based on their relative SSPs. Because the Company lacks\nobservable prices for the undelivered performance obligations, the allocation of revenue is based on the Company’s estimated SSPs. Revenue allocated to the\n\n{'source': '/content/RAG_Workshop_DHS2024/data/Annual Reports/Apple_2022.pdf', 'page': 37}\n-.-.-.-.-.-.-.-.-.-.-.-.-.-.-.-.-.-.-.-.-.-.-.-.-.-.-.-.-.-.-.-.-.-.-.-.-.-.-.-.-.-.-.-.-.-.-.-.-.-.-.-.-.-.-.-.-.-.-.-.-.-.-.-.-.-.-.-.-.-.-.-.-.-.-.-.-.-.-.-.-.-.-.-.-.-.-.-.-.-.-.-.-.-.-.-.-.-.-.-.\n\nDocument 5:\n\nPART II  \nItem 7 \n \n40 SUMMARY RESULTS OF OPERATIONS  \n \n(In millions,  except  percentages  and per share  amounts)    2023     2022   Percentage  \nChange    \n     \n     \nRevenue    `$` 211,915   \n`$` 198,270      \n  7%   \nGross margin     146,052   \n 135,620      \n  8%   \nOperating income     88,523   \n 83,383      \n  6%   \nNet income    72,361    \n 72,738    (1)%   \nDiluted earnings per share     9.68   \n 9.65     \n  0%   \n            Adjusted gross margin (non -GAAP)    146,204   \n 135,620    8%  \nAdjusted operating income (non -GAAP)    89,694   \n 83,383    8%  \nAdjusted net income (non -GAAP)    73,307    \n 69,447    6%  \nAdjusted diluted earnings per share (non -GAAP)    9.81   \n 9.21   7%  \n \nAdjusted gross margin, operating income, net income, and diluted earnings per share (“EPS”) are non -GAAP financial \nmeasures. Current year non -GAAP financial measures exclude the impact of the Q2 charge,  which  includes  employee \nseverance expenses, impairment charges resulting from changes to our hardware portfolio, and costs related to lease \nconsolidation activities. Prior year non -GAAP financial measures  exclude the net  income tax benefit related to transfer \nof intangible properties in the first quarter of fiscal year 2022 . Refer to Note 12 – Income Taxes of the Notes to Financial \nStatements (Part II, Item 8 of this For m 10 -K) for further discussion. Refer to the Non -GAAP Financial Measures section \nbelow for a reconciliation of our financial results reported in accordance with GAAP to non -GAAP financial results.  \nFiscal Year 2023  Compared with Fiscal Year 2022  \nRevenue increased  `$`13.6  billion or 7% driven by growth in Intelligent Cloud and Productivity and Business Processes, \noffset in part by a decline in More Personal Computing. Intelligent Cloud revenue increased  driven by Azure and other \ncloud services. Productivity and Business Processes revenue increased  driven by Office 365 Commercial and \nLinkedIn. More Personal Computing revenue decreased  driven by Windows and Devices . \nCost of revenue increased  `$`3.2 billion or 5% driven by growth in Microsoft Cloud, offset in part by the change in \naccounting estimate.  \nGross margin increased  `$`10.4  billion or  8% driven by growth in Intelligent Cloud and Productivity and Business \nProcesses and the change in accounting estimate, offset in part by a decline in More Personal Computing.  \n• Gross margin percentage increased  slightly . Excluding the impact of the change in accounting estimate, \ngross margin percentage decreased 1 point driven by declines in Intelligent Cloud and More Personal \nComputing, offset in part by sales mix shift between our segments . \n• Microsoft Cloud gross margin percentage increased 2 points to 72%. Excluding the impact of the change in \naccounting estimate, Microsoft Cloud gross margin percentage decreased slightly  driven by a decline in\n\n{'source': '/content/RAG_Workshop_DHS2024/data/Annual Reports/Microsoft_2023.pdf', 'page': 40}"
          },
          "metadata": {}
        }
      ],
      "source": [
        "query = \"Compare the Revenue trends of Microsoft between the years 2022 and 2023?\"\n",
        "pretty_print_result(query, llm, ensemble_retriever)"
      ]
    },
    {
      "cell_type": "markdown",
      "id": "b75ac53e-22bc-4f7f-b128-aa2cd4deeaa7",
      "metadata": {
        "id": "b75ac53e-22bc-4f7f-b128-aa2cd4deeaa7"
      },
      "source": [
        "## Type3 - Contextual Compression\n",
        "\n",
        "The idea is simple: instead of immediately returning retrieved documents as-is, you can compress them using the context of the given query, so that only the relevant information is returned. “Compressing” here refers to both compressing the contents of an individual document and filtering out documents wholesale.\n",
        "\n",
        "To use the Contextual Compression Retriever, you’ll need: - a base retriever - a Document Compressor. Here we use \"lotr\" as base retriever and let's look at different compressors below.\n",
        "\n",
        "![image.png](attachment:c9d4d9b7-8088-462d-8cb0-6c97632bffbf.png)![image.png](data:image/png;base64,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)"
      ]
    },
    {
      "cell_type": "code",
      "execution_count": 45,
      "id": "22a402d6-8784-4494-8263-37c7e4d398eb",
      "metadata": {
        "execution": {
          "iopub.execute_input": "2024-02-26T10:26:11.173444Z",
          "iopub.status.busy": "2024-02-26T10:26:11.173153Z",
          "iopub.status.idle": "2024-02-26T10:26:11.176272Z",
          "shell.execute_reply": "2024-02-26T10:26:11.175782Z",
          "shell.execute_reply.started": "2024-02-26T10:26:11.173423Z"
        },
        "tags": [],
        "id": "22a402d6-8784-4494-8263-37c7e4d398eb"
      },
      "outputs": [],
      "source": [
        "from langchain.retrievers import ContextualCompressionRetriever\n",
        "from langchain.retrievers.document_compressors import DocumentCompressorPipeline"
      ]
    },
    {
      "cell_type": "markdown",
      "id": "3d75c9af-e444-41ac-9e84-07668e89d57c",
      "metadata": {
        "id": "3d75c9af-e444-41ac-9e84-07668e89d57c"
      },
      "source": [
        "**LLMChainExtractor:** iterate over the initially returned documents and extract from each only the content that is relevant to the query."
      ]
    },
    {
      "cell_type": "code",
      "execution_count": 46,
      "id": "eadc5457-1f42-4dc0-aa47-fadeeae6927e",
      "metadata": {
        "execution": {
          "iopub.execute_input": "2024-02-26T10:29:16.233668Z",
          "iopub.status.busy": "2024-02-26T10:29:16.233261Z",
          "iopub.status.idle": "2024-02-26T10:29:46.025114Z",
          "shell.execute_reply": "2024-02-26T10:29:46.024472Z",
          "shell.execute_reply.started": "2024-02-26T10:29:16.233643Z"
        },
        "tags": [],
        "colab": {
          "base_uri": "https://localhost:8080/"
        },
        "id": "eadc5457-1f42-4dc0-aa47-fadeeae6927e",
        "outputId": "4d7c411d-3e6c-49bd-fdcb-f5a7d6fb748f"
      },
      "outputs": [
        {
          "output_type": "stream",
          "name": "stdout",
          "text": [
            "No of documents retrieved after compression: 4\n",
            "Document 1:\n",
            "\n",
            "The Microsoft Cloud provides  the best integration across the technology stack while offering openness, improving time to value, reducing costs, and increasing agility. Being a global -scale cloud, Azure uniquely offers hybrid consistency, developer productivity, AI capabilities, and trusted security and compliance. We see more emerging use cases and needs for compute and security at the edge and are accelerating our innovation across th e spectrum of intelligent edge devices, from Internet of Things (“IoT”) s ensors to gateway devices and edge hardware to build, manage, and secure edge workloads.  \n",
            "Our AI platform, Azure AI, is helping organizations transform, bringing intelligence and insights to the hands of their employees and customers to solve their most pressing challenges. Organizations large and small are deploying Azure AI solutions to achieve more at scale, more easily, with the proper enterprise -level and responsible AI protections.\n",
            "\n",
            "{'source': '/content/RAG_Workshop_DHS2024/data/Annual Reports/Microsoft_2023.pdf', 'page': 4}\n",
            "----------------------------------------------------------------------------------------------------\n",
            "Document 2:\n",
            "\n",
            "Azure is a comprehensive set of cloud services that offer developers, IT professionals, and enterprises freedom to build, deploy, and manage applications on any platform or device. Customers can use Azure through our global network of datacenters for computing, networking, storage, mobile and web application services, AI, IoT, cognitive services, and machine learning. Azure enables customers to devote more resources to development and use of applications that benefit their organizations, rather than managing on-premises hardware and software. Azure revenue is mainly affected by infrastructure-as-a-service and platform-as-a-service consumption-based services, and per user-based services such as Enterprise Mobility + Security. Azure AI offerings provide a competitive advantage as companies seek ways to optimize and scale their business with machine learning. Azure’s purpose-built, AI-optimized infrastructure allows advanced models, including GPT-4.\n",
            "\n",
            "{'source': '/content/RAG_Workshop_DHS2024/data/Annual Reports/Microsoft_2023.pdf', 'page': 11}\n",
            "----------------------------------------------------------------------------------------------------\n",
            "Document 3:\n",
            "\n",
            "Azure AI offerings provide a competitive advantage as companies seek ways to optimize and scale their business with machine learning. Azure’s purpose -built, AI -optimized infrastructure allows advanced models, including GPT -4 services designed for developer s and data scientists, to do more with less. Customers can integrate large language models and develop the next generation of AI apps and services.\n",
            "\n",
            "{'page': 11, 'source': '/content/RAG_Workshop_DHS2024/data/Annual Reports/Microsoft_2023.pdf'}\n",
            "----------------------------------------------------------------------------------------------------\n",
            "Document 4:\n",
            "\n",
            "Azure AI offerings provide a competitive advantage as companies seek ways to optimize and scale their business with machine learning. Azure’s purpose -built, AI -optimized infrastructure allows advanced models, including GPT -4 services designed for developer s and data scientists, to do more with less. Customers can integrate large language models and develop the next generation of AI apps and services.\n",
            "\n",
            "{'page': 11, 'source': '/content/RAG_Workshop_DHS2024/data/Annual Reports/Microsoft_2023.pdf'}\n"
          ]
        }
      ],
      "source": [
        "from langchain.retrievers.document_compressors import LLMChainExtractor\n",
        "\n",
        "compressor = LLMChainExtractor.from_llm(llm)\n",
        "compression_retriever = ContextualCompressionRetriever(base_compressor=compressor,\n",
        "                                                       base_retriever=lotr)\n",
        "\n",
        "compressed_docs = compression_retriever.get_relevant_documents(\"How is Microsoft Azure doing?\")\n",
        "print(\"No of documents retrieved after compression: \" + str(len(compressed_docs)))\n",
        "pretty_print_docs(compressed_docs)"
      ]
    },
    {
      "cell_type": "markdown",
      "id": "145e60a4-59b4-437d-9a8c-dec9cf7097d9",
      "metadata": {
        "execution": {
          "iopub.execute_input": "2024-02-09T09:05:38.264617Z",
          "iopub.status.busy": "2024-02-09T09:05:38.264251Z",
          "iopub.status.idle": "2024-02-09T09:05:38.268626Z",
          "shell.execute_reply": "2024-02-09T09:05:38.267981Z",
          "shell.execute_reply.started": "2024-02-09T09:05:38.264593Z"
        },
        "id": "145e60a4-59b4-437d-9a8c-dec9cf7097d9"
      },
      "source": [
        "**LLMChainFilter:** slightly simpler but more robust compressor that uses an LLM chain to decide which of the initially retrieved documents to filter out and which ones to return, without manipulating the document contents."
      ]
    },
    {
      "cell_type": "code",
      "execution_count": 47,
      "id": "1aebee2a-c5cb-41be-afde-a2a1895bc155",
      "metadata": {
        "execution": {
          "iopub.execute_input": "2024-02-26T10:31:23.973988Z",
          "iopub.status.busy": "2024-02-26T10:31:23.973624Z",
          "iopub.status.idle": "2024-02-26T10:31:30.240442Z",
          "shell.execute_reply": "2024-02-26T10:31:30.239854Z",
          "shell.execute_reply.started": "2024-02-26T10:31:23.973965Z"
        },
        "jupyter": {
          "outputs_hidden": true
        },
        "tags": [],
        "colab": {
          "base_uri": "https://localhost:8080/"
        },
        "id": "1aebee2a-c5cb-41be-afde-a2a1895bc155",
        "outputId": "d0c3dca3-6e99-4998-839a-e20a6008b0a8"
      },
      "outputs": [
        {
          "output_type": "stream",
          "name": "stdout",
          "text": [
            "No of documents retrieved after compression: 6\n",
            "Document 1:\n",
            "\n",
            "respectively.  \n",
            "Intelligent Cloud  \n",
            "Revenue increased  $12.9  billion or 17%. \n",
            "• Server products and cloud services revenue increased $ 12.6 billion or 19% driven by Azure and other cloud \n",
            "services. Azure and other cloud services revenue grew 29% driven by  growth in our consumption -based \n",
            "services. Server products revenue decreased 1% . \n",
            "• Enterprise Services revenue increased $ 315 million or 4% driven by growth in Enterprise Support Services, \n",
            "offset in part by a decline in Industry Solutions (formerly Microsoft Consulting Services ).\n",
            "\n",
            "{'page': 41, 'source': '/content/RAG_Workshop_DHS2024/data/Annual Reports/Microsoft_2023.pdf'}\n",
            "----------------------------------------------------------------------------------------------------\n",
            "Document 2:\n",
            "\n",
            "respectively.  \n",
            "Intelligent Cloud  \n",
            "Revenue increased  $12.9  billion or 17%. \n",
            "• Server products and cloud services revenue increased $ 12.6 billion or 19% driven by Azure and other cloud \n",
            "services. Azure and other cloud services revenue grew 29% driven by  growth in our consumption -based \n",
            "services. Server products revenue decreased 1% . \n",
            "• Enterprise Services revenue increased $ 315 million or 4% driven by growth in Enterprise Support Services, \n",
            "offset in part by a decline in Industry Solutions (formerly Microsoft Consulting Services ).\n",
            "\n",
            "{'page': 41, 'source': '/content/RAG_Workshop_DHS2024/data/Annual Reports/Microsoft_2023.pdf'}\n",
            "----------------------------------------------------------------------------------------------------\n",
            "Document 3:\n",
            "\n",
            "respectively.  \n",
            "Intelligent Cloud  \n",
            "Revenue increased  $12.9  billion or 17%. \n",
            "• Server products and cloud services revenue increased $ 12.6 billion or 19% driven by Azure and other cloud \n",
            "services. Azure and other cloud services revenue grew 29% driven by  growth in our consumption -based \n",
            "services. Server products revenue decreased 1% . \n",
            "• Enterprise Services revenue increased $ 315 million or 4% driven by growth in Enterprise Support Services, \n",
            "offset in part by a decline in Industry Solutions (formerly Microsoft Consulting Services ).\n",
            "\n",
            "{'page': 41, 'source': '/content/RAG_Workshop_DHS2024/data/Annual Reports/Microsoft_2023.pdf'}\n",
            "----------------------------------------------------------------------------------------------------\n",
            "Document 4:\n",
            "\n",
            "PART II  \n",
            "Item 7 \n",
            " \n",
            "40 SUMMARY RESULTS OF OPERATIONS  \n",
            " \n",
            "(In millions,  except  percentages  and per share  amounts)    2023     2022   Percentage  \n",
            "Change    \n",
            "     \n",
            "     \n",
            "Revenue    $ 211,915   \n",
            "$ 198,270      \n",
            "  7%   \n",
            "Gross margin     146,052   \n",
            " 135,620      \n",
            "  8%   \n",
            "Operating income     88,523   \n",
            " 83,383      \n",
            "  6%   \n",
            "Net income    72,361    \n",
            " 72,738    (1)%   \n",
            "Diluted earnings per share     9.68   \n",
            " 9.65     \n",
            "  0%   \n",
            "            Adjusted gross margin (non -GAAP)    146,204   \n",
            " 135,620    8%  \n",
            "Adjusted operating income (non -GAAP)    89,694   \n",
            " 83,383    8%  \n",
            "Adjusted net income (non -GAAP)    73,307    \n",
            " 69,447    6%  \n",
            "Adjusted diluted earnings per share (non -GAAP)    9.81   \n",
            " 9.21   7%  \n",
            " \n",
            "Adjusted gross margin, operating income, net income, and diluted earnings per share (“EPS”) are non -GAAP financial \n",
            "measures. Current year non -GAAP financial measures exclude the impact of the Q2 charge,  which  includes  employee \n",
            "severance expenses, impairment charges resulting from changes to our hardware portfolio, and costs related to lease \n",
            "consolidation activities. Prior year non -GAAP financial measures  exclude the net  income tax benefit related to transfer \n",
            "of intangible properties in the first quarter of fiscal year 2022 . Refer to Note 12 – Income Taxes of the Notes to Financial \n",
            "Statements (Part II, Item 8 of this For m 10 -K) for further discussion. Refer to the Non -GAAP Financial Measures section \n",
            "below for a reconciliation of our financial results reported in accordance with GAAP to non -GAAP financial results.  \n",
            "Fiscal Year 2023  Compared with Fiscal Year 2022  \n",
            "Revenue increased  $13.6  billion or 7% driven by growth in Intelligent Cloud and Productivity and Business Processes, \n",
            "offset in part by a decline in More Personal Computing. Intelligent Cloud revenue increased  driven by Azure and other \n",
            "cloud services. Productivity and Business Processes revenue increased  driven by Office 365 Commercial and \n",
            "LinkedIn. More Personal Computing revenue decreased  driven by Windows and Devices . \n",
            "Cost of revenue increased  $3.2 billion or 5% driven by growth in Microsoft Cloud, offset in part by the change in \n",
            "accounting estimate.  \n",
            "Gross margin increased  $10.4  billion or  8% driven by growth in Intelligent Cloud and Productivity and Business \n",
            "Processes and the change in accounting estimate, offset in part by a decline in More Personal Computing.  \n",
            "• Gross margin percentage increased  slightly . Excluding the impact of the change in accounting estimate, \n",
            "gross margin percentage decreased 1 point driven by declines in Intelligent Cloud and More Personal \n",
            "Computing, offset in part by sales mix shift between our segments . \n",
            "• Microsoft Cloud gross margin percentage increased 2 points to 72%. Excluding the impact of the change in \n",
            "accounting estimate, Microsoft Cloud gross margin percentage decreased slightly  driven by a decline in\n",
            "\n",
            "{'source': '/content/RAG_Workshop_DHS2024/data/Annual Reports/Microsoft_2023.pdf', 'page': 40}\n",
            "----------------------------------------------------------------------------------------------------\n",
            "Document 5:\n",
            "\n",
            "PART II  \n",
            "Item 7 \n",
            " \n",
            "41 SEGMENT RESULTS OF OPERATIONS  \n",
            "  \n",
            "(In millions, except percentages)    2023     2022     Percentage  \n",
            "Change    \n",
            "  \n",
            "  \n",
            "Revenue                         \n",
            "     \n",
            "Productivity and Business Processes   $ 69,274    $ 63,364    9%  \n",
            "Intelligent Cloud    87,907    74,965    17%  \n",
            "More Personal Computing    54,734      59,941     (9)%  \n",
            "         \n",
            "                \n",
            "Total    $ 211,915     $ 198,270      7%   \n",
            "            \n",
            "     \n",
            "Operating Income             \n",
            "            \n",
            "Productivity and Business Processes   $ 34,189   $ 29,690   15%  \n",
            "Intelligent Cloud    37,884    33,203   14%  \n",
            "More Personal Computing    16,450     20,490   (20)%  \n",
            "         \n",
            "                \n",
            "Total   $ 88,523   $ 83,383    6%  \n",
            "            \n",
            "Reportable Segments  \n",
            "Fiscal Year 2023  Compared with Fiscal Year 2022   \n",
            "Productivity and Business Processes  \n",
            "Revenue increased  $5.9 billion or 9%.  \n",
            "• Office Commercial products and cloud services revenue increased $ 3.7 billion or 10%. Office 365 \n",
            "Commercial revenue grew 13% with seat growth of 11%, driven by small and medium business and frontline \n",
            "worker offerings, as well as growth in revenue per user. Office Commercial products revenue declined 21% \n",
            "driven by continued customer shift to cloud offerings.  \n",
            "• Office Consumer products and cloud services revenue increased $ 140 million or 2%. Microsoft 365 \n",
            "Consumer subscribers grew 12% to 67.0 million.   \n",
            "• LinkedIn revenue increased $1. 3 billion or 10% driven by Talent Solutions.  \n",
            "• Dynamics products and cloud services revenue increased $750 million or 16% driven by Dynamics 365 \n",
            "growth of 24%. \n",
            "Operating income increased  $4.5 billion or 15%.  \n",
            "• Gross margin increased  $5.8 billion or 12% driven by growth in Office 365 Commercial  and LinkedIn , as \n",
            "well as the change in accounting estimate. Gross margin percentage increased. Excluding the impact of the \n",
            "change in accounting estimate, gross margin percentage increased slightly  driven by improvement in Office \n",
            "365 Commercial, offset in part by sales mix shift to cloud offerings.  \n",
            "• Operating expenses increased  $1.3 billion or 7% driven by investment in LinkedIn and employee severance \n",
            "expenses.  \n",
            "Revenue, gross margin, and operating income included an unfavorable foreign currency impact of 5%, 5%, and 8%, \n",
            "respectively.  \n",
            "Intelligent Cloud  \n",
            "Revenue increased  $12.9  billion or 17%. \n",
            "• Server products and cloud services revenue increased $ 12.6 billion or 19% driven by Azure and other cloud\n",
            "\n",
            "{'page': 41, 'source': '/content/RAG_Workshop_DHS2024/data/Annual Reports/Microsoft_2023.pdf'}\n",
            "----------------------------------------------------------------------------------------------------\n",
            "Document 6:\n",
            "\n",
            "PART II  \n",
            "Item 7 \n",
            " \n",
            "41 SEGMENT RESULTS OF OPERATIONS  \n",
            "  \n",
            "(In millions, except percentages)    2023     2022     Percentage  \n",
            "Change    \n",
            "  \n",
            "  \n",
            "Revenue                         \n",
            "     \n",
            "Productivity and Business Processes   $ 69,274    $ 63,364    9%  \n",
            "Intelligent Cloud    87,907    74,965    17%  \n",
            "More Personal Computing    54,734      59,941     (9)%  \n",
            "         \n",
            "                \n",
            "Total    $ 211,915     $ 198,270      7%   \n",
            "            \n",
            "     \n",
            "Operating Income             \n",
            "            \n",
            "Productivity and Business Processes   $ 34,189   $ 29,690   15%  \n",
            "Intelligent Cloud    37,884    33,203   14%  \n",
            "More Personal Computing    16,450     20,490   (20)%  \n",
            "         \n",
            "                \n",
            "Total   $ 88,523   $ 83,383    6%  \n",
            "            \n",
            "Reportable Segments  \n",
            "Fiscal Year 2023  Compared with Fiscal Year 2022   \n",
            "Productivity and Business Processes  \n",
            "Revenue increased  $5.9 billion or 9%.  \n",
            "• Office Commercial products and cloud services revenue increased $ 3.7 billion or 10%. Office 365 \n",
            "Commercial revenue grew 13% with seat growth of 11%, driven by small and medium business and frontline \n",
            "worker offerings, as well as growth in revenue per user. Office Commercial products revenue declined 21% \n",
            "driven by continued customer shift to cloud offerings.  \n",
            "• Office Consumer products and cloud services revenue increased $ 140 million or 2%. Microsoft 365 \n",
            "Consumer subscribers grew 12% to 67.0 million.   \n",
            "• LinkedIn revenue increased $1. 3 billion or 10% driven by Talent Solutions.  \n",
            "• Dynamics products and cloud services revenue increased $750 million or 16% driven by Dynamics 365 \n",
            "growth of 24%. \n",
            "Operating income increased  $4.5 billion or 15%.  \n",
            "• Gross margin increased  $5.8 billion or 12% driven by growth in Office 365 Commercial  and LinkedIn , as \n",
            "well as the change in accounting estimate. Gross margin percentage increased. Excluding the impact of the \n",
            "change in accounting estimate, gross margin percentage increased slightly  driven by improvement in Office \n",
            "365 Commercial, offset in part by sales mix shift to cloud offerings.  \n",
            "• Operating expenses increased  $1.3 billion or 7% driven by investment in LinkedIn and employee severance \n",
            "expenses.  \n",
            "Revenue, gross margin, and operating income included an unfavorable foreign currency impact of 5%, 5%, and 8%, \n",
            "respectively.  \n",
            "Intelligent Cloud  \n",
            "Revenue increased  $12.9  billion or 17%. \n",
            "• Server products and cloud services revenue increased $ 12.6 billion or 19% driven by Azure and other cloud\n",
            "\n",
            "{'page': 41, 'source': '/content/RAG_Workshop_DHS2024/data/Annual Reports/Microsoft_2023.pdf'}\n"
          ]
        }
      ],
      "source": [
        "from langchain.retrievers.document_compressors import LLMChainFilter\n",
        "\n",
        "_filter = LLMChainFilter.from_llm(llm)\n",
        "compression_retriever = ContextualCompressionRetriever(base_compressor=_filter,\n",
        "                                                       base_retriever=lotr)\n",
        "compressed_docs = compression_retriever.get_relevant_documents(\"Compare the Revenue trends of Microsoft between the years 2022 and 2023?\")\n",
        "print(\"No of documents retrieved after compression: \" + str(len(compressed_docs)))\n",
        "pretty_print_docs(compressed_docs)"
      ]
    },
    {
      "cell_type": "markdown",
      "id": "9af971b0-57a3-4836-ab2d-7e12e4385403",
      "metadata": {
        "id": "9af971b0-57a3-4836-ab2d-7e12e4385403"
      },
      "source": [
        "**EmbeddingsFilter:** Making an extra LLM call over each retrieved document is expensive and slow. The EmbeddingsFilter provides a cheaper and faster option by embedding the documents and query and only returning those documents which have sufficiently similar embeddings to the query."
      ]
    },
    {
      "cell_type": "code",
      "execution_count": 48,
      "id": "c1b4ed5b-9de6-41b0-a302-4efd8f523783",
      "metadata": {
        "execution": {
          "iopub.execute_input": "2024-02-26T10:31:30.241739Z",
          "iopub.status.busy": "2024-02-26T10:31:30.241464Z",
          "iopub.status.idle": "2024-02-26T10:31:31.468637Z",
          "shell.execute_reply": "2024-02-26T10:31:31.468003Z",
          "shell.execute_reply.started": "2024-02-26T10:31:30.241720Z"
        },
        "jupyter": {
          "outputs_hidden": true
        },
        "tags": [],
        "colab": {
          "base_uri": "https://localhost:8080/"
        },
        "id": "c1b4ed5b-9de6-41b0-a302-4efd8f523783",
        "outputId": "65d654ef-6d23-4f39-f937-16f21907707c"
      },
      "outputs": [
        {
          "output_type": "stream",
          "name": "stdout",
          "text": [
            "No of documents retrieved after compression: 5\n",
            "Document 1:\n",
            "\n",
            "Products and Services Performance\n",
            "The following table shows net sales by category for 2023, 2022 and 2021 (dollars in millions):\n",
            "2023\n",
            "Change\n",
            "2022\n",
            "Change\n",
            "2021\n",
            "Net sales by category:\n",
            "iPhone \n",
            "$\n",
            "200,583 \n",
            "(2)\n",
            "%\n",
            "$\n",
            "205,489 \n",
            "7 \n",
            "%\n",
            "$\n",
            "191,973 \n",
            "Mac \n",
            "29,357 \n",
            "(27)\n",
            "%\n",
            "40,177 \n",
            "14 \n",
            "%\n",
            "35,190 \n",
            "iPad \n",
            "28,300 \n",
            "(3)\n",
            "%\n",
            "29,292 \n",
            "(8)\n",
            "%\n",
            "31,862 \n",
            "Wearables, Home and Accessories \n",
            "39,845 \n",
            "(3)\n",
            "%\n",
            "41,241 \n",
            "7 \n",
            "%\n",
            "38,367 \n",
            "Services \n",
            "85,200 \n",
            "9 \n",
            "%\n",
            "78,129 \n",
            "14 \n",
            "%\n",
            "68,425 \n",
            "Total net sales\n",
            "$\n",
            "383,285 \n",
            "(3)\n",
            "%\n",
            "$\n",
            "394,328 \n",
            "8 \n",
            "%\n",
            "$\n",
            "365,817 \n",
            "(1)\n",
            "Products net sales include amortization of the deferred value of unspeciﬁed software upgrade rights, which are bundled in the sales price of the respective\n",
            "product.\n",
            "(2)\n",
            "Services net sales include amortization of the deferred value of services bundled in the sales price of certain products.\n",
            "iPhone\n",
            "iPhone net sales decreased 2% or $4.9 billion during 2023 compared to 2022 due to lower net sales of non-Pro iPhone models, partially oﬀset by higher net sales of\n",
            "Pro iPhone models.\n",
            "Mac\n",
            "Mac net sales decreased 27% or $10.8 billion during 2023 compared to 2022 due primarily to lower net sales of laptops.\n",
            "iPad\n",
            "iPad net sales decreased 3% or $1.0 billion during 2023 compared to 2022 due primarily to lower net sales of iPad mini and iPad Air, partially oﬀset by the combined\n",
            "net sales of iPad 9th and 10th generation.\n",
            "Wearables, Home and Accessories\n",
            "Wearables, Home and Accessories net sales decreased 3% or $1.4 billion during 2023 compared to 2022 due primarily to lower net sales of Wearables and\n",
            "Accessories.\n",
            "Services\n",
            "Services net sales increased 9% or $7.1 billion during 2023 compared to 2022 due to higher net sales across all lines of business.\n",
            "(1)\n",
            "(1)\n",
            "(1)\n",
            "(1)\n",
            "(2)\n",
            "Apple Inc. | 2023 Form 10-K | 22\n",
            "\n",
            "{'page': 25, 'source': '/content/RAG_Workshop_DHS2024/data/Annual Reports/Apple_2023.pdf'}\n",
            "----------------------------------------------------------------------------------------------------\n",
            "Document 2:\n",
            "\n",
            "Products and Services Performance\n",
            "The following table shows net sales by category for 2023, 2022 and 2021 (dollars in millions):\n",
            "2023\n",
            "Change\n",
            "2022\n",
            "Change\n",
            "2021\n",
            "Net sales by category:\n",
            "iPhone \n",
            "$\n",
            "200,583 \n",
            "(2)\n",
            "%\n",
            "$\n",
            "205,489 \n",
            "7 \n",
            "%\n",
            "$\n",
            "191,973 \n",
            "Mac \n",
            "29,357 \n",
            "(27)\n",
            "%\n",
            "40,177 \n",
            "14 \n",
            "%\n",
            "35,190 \n",
            "iPad \n",
            "28,300 \n",
            "(3)\n",
            "%\n",
            "29,292 \n",
            "(8)\n",
            "%\n",
            "31,862 \n",
            "Wearables, Home and Accessories \n",
            "39,845 \n",
            "(3)\n",
            "%\n",
            "41,241 \n",
            "7 \n",
            "%\n",
            "38,367 \n",
            "Services \n",
            "85,200 \n",
            "9 \n",
            "%\n",
            "78,129 \n",
            "14 \n",
            "%\n",
            "68,425 \n",
            "Total net sales\n",
            "$\n",
            "383,285 \n",
            "(3)\n",
            "%\n",
            "$\n",
            "394,328 \n",
            "8 \n",
            "%\n",
            "$\n",
            "365,817 \n",
            "(1)\n",
            "Products net sales include amortization of the deferred value of unspeciﬁed software upgrade rights, which are bundled in the sales price of the respective\n",
            "product.\n",
            "(2)\n",
            "Services net sales include amortization of the deferred value of services bundled in the sales price of certain products.\n",
            "iPhone\n",
            "iPhone net sales decreased 2% or $4.9 billion during 2023 compared to 2022 due to lower net sales of non-Pro iPhone models, partially oﬀset by higher net sales of\n",
            "Pro iPhone models.\n",
            "Mac\n",
            "Mac net sales decreased 27% or $10.8 billion during 2023 compared to 2022 due primarily to lower net sales of laptops.\n",
            "iPad\n",
            "iPad net sales decreased 3% or $1.0 billion during 2023 compared to 2022 due primarily to lower net sales of iPad mini and iPad Air, partially oﬀset by the combined\n",
            "net sales of iPad 9th and 10th generation.\n",
            "Wearables, Home and Accessories\n",
            "Wearables, Home and Accessories net sales decreased 3% or $1.4 billion during 2023 compared to 2022 due primarily to lower net sales of Wearables and\n",
            "Accessories.\n",
            "Services\n",
            "Services net sales increased 9% or $7.1 billion during 2023 compared to 2022 due to higher net sales across all lines of business.\n",
            "(1)\n",
            "(1)\n",
            "(1)\n",
            "(1)\n",
            "(2)\n",
            "Apple Inc. | 2023 Form 10-K | 22\n",
            "\n",
            "{'page': 25, 'source': '/content/RAG_Workshop_DHS2024/data/Annual Reports/Apple_2023.pdf'}\n",
            "----------------------------------------------------------------------------------------------------\n",
            "Document 3:\n",
            "\n",
            "Products and Services Performance\n",
            "The following table shows net sales by category for 2023, 2022 and 2021 (dollars in millions):\n",
            "2023\n",
            "Change\n",
            "2022\n",
            "Change\n",
            "2021\n",
            "Net sales by category:\n",
            "iPhone \n",
            "$\n",
            "200,583 \n",
            "(2)\n",
            "%\n",
            "$\n",
            "205,489 \n",
            "7 \n",
            "%\n",
            "$\n",
            "191,973 \n",
            "Mac \n",
            "29,357 \n",
            "(27)\n",
            "%\n",
            "40,177 \n",
            "14 \n",
            "%\n",
            "35,190 \n",
            "iPad \n",
            "28,300 \n",
            "(3)\n",
            "%\n",
            "29,292 \n",
            "(8)\n",
            "%\n",
            "31,862 \n",
            "Wearables, Home and Accessories \n",
            "39,845 \n",
            "(3)\n",
            "%\n",
            "41,241 \n",
            "7 \n",
            "%\n",
            "38,367 \n",
            "Services \n",
            "85,200 \n",
            "9 \n",
            "%\n",
            "78,129 \n",
            "14 \n",
            "%\n",
            "68,425 \n",
            "Total net sales\n",
            "$\n",
            "383,285 \n",
            "(3)\n",
            "%\n",
            "$\n",
            "394,328 \n",
            "8 \n",
            "%\n",
            "$\n",
            "365,817 \n",
            "(1)\n",
            "Products net sales include amortization of the deferred value of unspeciﬁed software upgrade rights, which are bundled in the sales price of the respective\n",
            "product.\n",
            "(2)\n",
            "Services net sales include amortization of the deferred value of services bundled in the sales price of certain products.\n",
            "iPhone\n",
            "iPhone net sales decreased 2% or $4.9 billion during 2023 compared to 2022 due to lower net sales of non-Pro iPhone models, partially oﬀset by higher net sales of\n",
            "Pro iPhone models.\n",
            "Mac\n",
            "Mac net sales decreased 27% or $10.8 billion during 2023 compared to 2022 due primarily to lower net sales of laptops.\n",
            "iPad\n",
            "iPad net sales decreased 3% or $1.0 billion during 2023 compared to 2022 due primarily to lower net sales of iPad mini and iPad Air, partially oﬀset by the combined\n",
            "net sales of iPad 9th and 10th generation.\n",
            "Wearables, Home and Accessories\n",
            "Wearables, Home and Accessories net sales decreased 3% or $1.4 billion during 2023 compared to 2022 due primarily to lower net sales of Wearables and\n",
            "Accessories.\n",
            "Services\n",
            "Services net sales increased 9% or $7.1 billion during 2023 compared to 2022 due to higher net sales across all lines of business.\n",
            "(1)\n",
            "(1)\n",
            "(1)\n",
            "(1)\n",
            "(2)\n",
            "Apple Inc. | 2023 Form 10-K | 22\n",
            "\n",
            "{'page': 25, 'source': '/content/RAG_Workshop_DHS2024/data/Annual Reports/Apple_2023.pdf'}\n",
            "----------------------------------------------------------------------------------------------------\n",
            "Document 4:\n",
            "\n",
            "Net sales disaggregated by significant products and services for 2023, 2022 and 2021 were as follows (in millions):\n",
            "2023\n",
            "2022\n",
            "2021\n",
            "iPhone \n",
            "$\n",
            "200,583\n",
            " \n",
            "$\n",
            "205,489\n",
            " \n",
            "$\n",
            "191,973\n",
            " \n",
            "Mac \n",
            "29,357\n",
            " \n",
            "40,177\n",
            " \n",
            "35,190\n",
            " \n",
            "iPad \n",
            "28,300\n",
            " \n",
            "29,292\n",
            " \n",
            "31,862\n",
            " \n",
            "Wearables, Home and Accessories \n",
            "39,845\n",
            " \n",
            "41,241\n",
            " \n",
            "38,367\n",
            " \n",
            "Services \n",
            "85,200\n",
            " \n",
            "78,129\n",
            " \n",
            "68,425\n",
            " \n",
            "Total net sales\n",
            "$\n",
            "383,285\n",
            " \n",
            "$\n",
            "394,328\n",
            " \n",
            "$\n",
            "365,817\n",
            " \n",
            "(1)\n",
            "Products net sales include amortization of the deferred value of unspeciﬁed software upgrade rights, which are bundled in the sales price of the respective\n",
            "product.\n",
            "(2)\n",
            "Services net sales include amortization of the deferred value of services bundled in the sales price of certain products.\n",
            "Total net sales include $\n",
            "8.2\n",
            " billion of revenue recognized in 2023 that was included in deferred revenue as of September 24, 2022, $\n",
            "7.5\n",
            " billion of revenue recognized\n",
            "in 2022 that was included in deferred revenue as of September 25, 2021, and $\n",
            "6.7\n",
            " billion of revenue recognized in 2021 that was included in deferred revenue as of\n",
            "September 26, 2020.\n",
            "The Company’s proportion of net sales by disaggregated revenue source was generally consistent for each reportable segment in Note 13, “Segment Information and\n",
            "Geographic Data” for 2023, 2022 and 2021, except in Greater China, where iPhone revenue represented a moderately higher proportion of net sales.\n",
            "As of September 30, 2023 and September 24, 2022, the Company had total deferred revenue of $\n",
            "12.1\n",
            " billion and $\n",
            "12.4\n",
            " billion, respectively. As of September 30,\n",
            "2023, the Company expects \n",
            "67\n",
            "% of total deferred revenue to be realized in less than a year, \n",
            "25\n",
            "% within one-to-two years, \n",
            "7\n",
            "% within two-to-three years and \n",
            "1\n",
            "% in\n",
            "greater than three years.\n",
            "Note 3 – \n",
            "Earnings Per Share\n",
            "The following table shows the computation of basic and diluted earnings per share for 2023, 2022 and 2021 (net income in millions and shares in thousands):\n",
            "2023\n",
            "2022\n",
            "2021\n",
            "Numerator:\n",
            "Net income\n",
            "$\n",
            "96,995\n",
            " \n",
            "$\n",
            "99,803\n",
            " \n",
            "$\n",
            "94,680\n",
            " \n",
            "Denominator:\n",
            "Weighted-average basic shares outstanding\n",
            "15,744,231\n",
            " \n",
            "16,215,963\n",
            " \n",
            "16,701,272\n",
            " \n",
            "Effect of dilutive share-based awards\n",
            "68,316\n",
            " \n",
            "109,856\n",
            " \n",
            "163,647\n",
            " \n",
            "Weighted-average diluted shares\n",
            "15,812,547\n",
            " \n",
            "16,325,819\n",
            " \n",
            "16,864,919\n",
            " \n",
            "Basic earnings per share\n",
            "$\n",
            "6.16\n",
            " \n",
            "$\n",
            "6.15\n",
            " \n",
            "$\n",
            "5.67\n",
            " \n",
            "Diluted earnings per share\n",
            "$\n",
            "6.13\n",
            " \n",
            "$\n",
            "6.11\n",
            " \n",
            "$\n",
            "5.61\n",
            " \n",
            "Approximately \n",
            "24\n",
            " million restricted stock units (“RSUs”) were excluded from the computation of diluted earnings per share for 2023 because their eﬀect would have\n",
            "been antidilutive.\n",
            "(1)\n",
            "(1)\n",
            "(1)\n",
            "(1)\n",
            "(2)\n",
            "Apple Inc. | 2023 Form 10-K | 35\n",
            "\n",
            "{'page': 38, 'source': '/content/RAG_Workshop_DHS2024/data/Annual Reports/Apple_2023.pdf'}\n",
            "----------------------------------------------------------------------------------------------------\n",
            "Document 5:\n",
            "\n",
            "Net sales disaggregated by significant products and services for 2023, 2022 and 2021 were as follows (in millions):\n",
            "2023\n",
            "2022\n",
            "2021\n",
            "iPhone \n",
            "$\n",
            "200,583\n",
            " \n",
            "$\n",
            "205,489\n",
            " \n",
            "$\n",
            "191,973\n",
            " \n",
            "Mac \n",
            "29,357\n",
            " \n",
            "40,177\n",
            " \n",
            "35,190\n",
            " \n",
            "iPad \n",
            "28,300\n",
            " \n",
            "29,292\n",
            " \n",
            "31,862\n",
            " \n",
            "Wearables, Home and Accessories \n",
            "39,845\n",
            " \n",
            "41,241\n",
            " \n",
            "38,367\n",
            " \n",
            "Services \n",
            "85,200\n",
            " \n",
            "78,129\n",
            " \n",
            "68,425\n",
            " \n",
            "Total net sales\n",
            "$\n",
            "383,285\n",
            " \n",
            "$\n",
            "394,328\n",
            " \n",
            "$\n",
            "365,817\n",
            " \n",
            "(1)\n",
            "Products net sales include amortization of the deferred value of unspeciﬁed software upgrade rights, which are bundled in the sales price of the respective\n",
            "product.\n",
            "(2)\n",
            "Services net sales include amortization of the deferred value of services bundled in the sales price of certain products.\n",
            "Total net sales include $\n",
            "8.2\n",
            " billion of revenue recognized in 2023 that was included in deferred revenue as of September 24, 2022, $\n",
            "7.5\n",
            " billion of revenue recognized\n",
            "in 2022 that was included in deferred revenue as of September 25, 2021, and $\n",
            "6.7\n",
            " billion of revenue recognized in 2021 that was included in deferred revenue as of\n",
            "September 26, 2020.\n",
            "The Company’s proportion of net sales by disaggregated revenue source was generally consistent for each reportable segment in Note 13, “Segment Information and\n",
            "Geographic Data” for 2023, 2022 and 2021, except in Greater China, where iPhone revenue represented a moderately higher proportion of net sales.\n",
            "As of September 30, 2023 and September 24, 2022, the Company had total deferred revenue of $\n",
            "12.1\n",
            " billion and $\n",
            "12.4\n",
            " billion, respectively. As of September 30,\n",
            "2023, the Company expects \n",
            "67\n",
            "% of total deferred revenue to be realized in less than a year, \n",
            "25\n",
            "% within one-to-two years, \n",
            "7\n",
            "% within two-to-three years and \n",
            "1\n",
            "% in\n",
            "greater than three years.\n",
            "Note 3 – \n",
            "Earnings Per Share\n",
            "The following table shows the computation of basic and diluted earnings per share for 2023, 2022 and 2021 (net income in millions and shares in thousands):\n",
            "2023\n",
            "2022\n",
            "2021\n",
            "Numerator:\n",
            "Net income\n",
            "$\n",
            "96,995\n",
            " \n",
            "$\n",
            "99,803\n",
            " \n",
            "$\n",
            "94,680\n",
            " \n",
            "Denominator:\n",
            "Weighted-average basic shares outstanding\n",
            "15,744,231\n",
            " \n",
            "16,215,963\n",
            " \n",
            "16,701,272\n",
            " \n",
            "Effect of dilutive share-based awards\n",
            "68,316\n",
            " \n",
            "109,856\n",
            " \n",
            "163,647\n",
            " \n",
            "Weighted-average diluted shares\n",
            "15,812,547\n",
            " \n",
            "16,325,819\n",
            " \n",
            "16,864,919\n",
            " \n",
            "Basic earnings per share\n",
            "$\n",
            "6.16\n",
            " \n",
            "$\n",
            "6.15\n",
            " \n",
            "$\n",
            "5.67\n",
            " \n",
            "Diluted earnings per share\n",
            "$\n",
            "6.13\n",
            " \n",
            "$\n",
            "6.11\n",
            " \n",
            "$\n",
            "5.61\n",
            " \n",
            "Approximately \n",
            "24\n",
            " million restricted stock units (“RSUs”) were excluded from the computation of diluted earnings per share for 2023 because their eﬀect would have\n",
            "been antidilutive.\n",
            "(1)\n",
            "(1)\n",
            "(1)\n",
            "(1)\n",
            "(2)\n",
            "Apple Inc. | 2023 Form 10-K | 35\n",
            "\n",
            "{'page': 38, 'source': '/content/RAG_Workshop_DHS2024/data/Annual Reports/Apple_2023.pdf'}\n"
          ]
        }
      ],
      "source": [
        "from langchain.retrievers.document_compressors import EmbeddingsFilter\n",
        "\n",
        "embeddings_filter = EmbeddingsFilter(embeddings=embeddings, similarity_threshold=0.83) # change to 0.8 to see the reduction in the num of docs retrieved\n",
        "compression_retriever = ContextualCompressionRetriever(base_compressor=embeddings_filter,\n",
        "                                                       base_retriever=lotr)\n",
        "compressed_docs = compression_retriever.get_relevant_documents(\"Compare the 2023 Revenue of Microsoft and Apple?\")\n",
        "print(\"No of documents retrieved after compression: \" + str(len(compressed_docs)))\n",
        "pretty_print_docs(compressed_docs)"
      ]
    },
    {
      "cell_type": "markdown",
      "id": "2875776b-e343-443e-9370-4f7acc211ed1",
      "metadata": {
        "id": "2875776b-e343-443e-9370-4f7acc211ed1"
      },
      "source": [
        "**EmbeddingsRedundantFilter:** Removes redundant documents from the initial returned documents"
      ]
    },
    {
      "cell_type": "code",
      "execution_count": 50,
      "id": "8f26ebac-0385-4511-a240-0d5929de547c",
      "metadata": {
        "collapsed": true,
        "execution": {
          "iopub.execute_input": "2024-02-26T10:45:06.757501Z",
          "iopub.status.busy": "2024-02-26T10:45:06.757073Z",
          "iopub.status.idle": "2024-02-26T10:45:38.820940Z",
          "shell.execute_reply": "2024-02-26T10:45:38.820348Z",
          "shell.execute_reply.started": "2024-02-26T10:45:06.757474Z"
        },
        "jupyter": {
          "outputs_hidden": true
        },
        "tags": [],
        "colab": {
          "base_uri": "https://localhost:8080/",
          "height": 945
        },
        "id": "8f26ebac-0385-4511-a240-0d5929de547c",
        "outputId": "358a2983-26c1-4412-a408-678f7ce8271b"
      },
      "outputs": [
        {
          "output_type": "display_data",
          "data": {
            "text/plain": [
              "<IPython.core.display.Markdown object>"
            ],
            "text/markdown": "Answer: In fiscal year 2023, Microsoft experienced a cloud revenue growth of 22%, with various segments like Dynamics 365 growing by 24% and Azure by 29%. In contrast, Apple's stock performance showed significant growth over five years, increasing from `$`100 to `$`411, indicating a strong overall growth trajectory. While specific growth rates for Apple in the same fiscal year are not provided, its cumulative stock performance suggests robust growth compared to Microsoft’s specific revenue increases."
          },
          "metadata": {}
        },
        {
          "output_type": "stream",
          "name": "stdout",
          "text": [
            "No of documents retrieved: 2\n",
            "=============================================================================================================\n"
          ]
        },
        {
          "output_type": "display_data",
          "data": {
            "text/plain": [
              "<IPython.core.display.Markdown object>"
            ],
            "text/markdown": "Document 1:\n\nPART II  \nItem 7 \n \n36 ITEM  7. MANAGEMENT’S DISCUSSION AND ANALYSIS OF FINANCIAL CONDITION AND \nRESULTS OF OPERATIONS  \nThe following Management’s Discussion and Analysis of Financial Condition and Results of Operations (“MD&A”) is \nintended to help the reader understand the results of operations and financial condition of Microsoft Corporation. MD&A \nis provided as a supplem ent to, and should be read in conjunction with, our consolidated financial statements and the \naccompanying Notes to Financial Statements (Part II, Item  8 of this Form 10 -K). This section generally discusses the \nresults of our operations for the year ended June 30, 2023  compared to the year ended June 30, 2022 . For a discussion \nof the year ended June 30, 2022  compared to the year ended June 30, 2021 , please refer to Part II, Item 7, \n“Management’s Discussion and Analysis of Financial Condition and Results of Operations” in our Annual Report on \nForm 10 -K for the year ended June 30, 2022 . \nOVERVIEW  \nMicrosoft is a technology company whose mission is to empower every person and every organization on the planet \nto achieve more. We strive to create local opportunity, growth, and impact in every country around the world. We are \ncreating the platforms and tools , powered by artificial intelligence (“AI”),  that deliver better, faster, and more effective \nsolutions to support small and large business competitiveness , improve educational and health outcomes,  grow public -\nsector efficiency,  and empower human ingen uity. \nWe generate revenue by offering a wide range of cloud -based solutions, content, and other services to people and \nbusinesses; licensing and supporting an array of software products; delivering relevant online advertising to a global \naudience; and designing and selling devices. Our most significant expenses are related to compensating employees; \nsupporting  and investing in our cloud -based services, including datacenter  operations ; designing, manufacturing, \nmarketing, and selling our other products and service s; and income taxes.  \nHighlights from fiscal year 2023  compared with fiscal year 2022  included:  \n• Microsoft Cloud revenue increased 22% to `$` 111.6 billion.  \n• Office Commercial products and cloud services revenue increased  10% driven by Office 365 Commercial \ngrowth of  13%. \n• Office Consumer products and cloud services revenue increased  2% and Microsoft 365 Consumer \nsubscribers increased to 67.0 million.  \n• LinkedIn revenue increased  10%. \n• Dynamics products and cloud services revenue increased  16% driven by Dynamics 365 growth of 24%. \n• Server products and cloud services revenue increased  19% driven by Azure and other cloud services \ngrowth of 29%. \n• Windows original equipment manufacturer licensing (“Windows OEM”) revenue decreased  25%. \n• Devices revenue decreased  24%. \n• Windows Commercial products and cloud services revenue increased  5%. \n• Xbox content and services revenue decreased  3%.  \n• Search and news advertising revenue excluding traffic acquisition costs increased  11%. \nIndustry Trends  \nOur industry is dynamic and highly competitive, with frequent changes in both technologies and business models. Each \nindustry shift is an opportunity to conceive new products, new technologies, or new ideas that can further transform \nthe industry and our business. At Microsoft, we push the boundaries of what is possible through a broad range of \nresearch and development activities that seek to identify and address the changing demands of customers and users, \nindustry trends, and competitive forces.\n\n{'source': '/content/RAG_Workshop_DHS2024/data/Annual Reports/Microsoft_2023.pdf', 'page': 36}\n-.-.-.-.-.-.-.-.-.-.-.-.-.-.-.-.-.-.-.-.-.-.-.-.-.-.-.-.-.-.-.-.-.-.-.-.-.-.-.-.-.-.-.-.-.-.-.-.-.-.-.-.-.-.-.-.-.-.-.-.-.-.-.-.-.-.-.-.-.-.-.-.-.-.-.-.-.-.-.-.-.-.-.-.-.-.-.-.-.-.-.-.-.-.-.-.-.-.-.-.\n\nDocument 2:\n\nCompany Stock Performance\nThe following graph shows a comparison of cumulative total shareholder return, calculated on a dividend-reinvested basis, for the Company, the S&P 500 Index, the\nS&P Information Technology Index and the Dow Jones U.S. Technology Supersector Index for the ﬁve years ended September 24, 2022. The graph assumes `$`100\nwas invested in each of the Company’s common stock, the S&P 500 Index, the S&P Information Technology Index and the Dow Jones U.S. Technology Supersector\nIndex as of the market close on September 29, 2017. Past stock price performance is not necessarily indicative of future stock price performance.\n*\n`$`100 invested on September 29, 2017 in stock or index, including reinvestment of dividends. Data points are the last day of each ﬁscal year for the Company’s\ncommon stock and September 30th for indexes.\nCopyright\n 2022 Standard & Poor’s, a division of S&P Global. All rights reserved.\nCopyright\n 2022 S&P Dow Jones Indices LLC, a division of S&P Global. All rights reserved.\nSeptember\n2017\nSeptember\n2018\nSeptember\n2019\nSeptember\n2020\nSeptember\n2021\nSeptember 2022\nApple Inc.\n`$`\n100 \n`$`\n149 \n`$`\n146 \n`$`\n303 \n`$`\n400 \n`$`\n411 \nS&P 500 Index\n`$`\n100 \n`$`\n118 \n`$`\n123 \n`$`\n142 \n`$`\n184 \n`$`\n156 \nS&P Information Technology Index\n`$`\n100 \n`$`\n131 \n`$`\n143 \n`$`\n210 \n`$`\n271 \n`$`\n217 \nDow Jones U.S. Technology Supersector Index\n`$`\n100 \n`$`\n131 \n`$`\n139 \n`$`\n208 \n`$`\n283 \n`$`\n209 \nItem 6.    [Reserved]\n©\n©\nApple Inc. | 2022 Form 10-K | 19\n\n{'page': 22, 'source': '/content/RAG_Workshop_DHS2024/data/Annual Reports/Apple_2022.pdf'}"
          },
          "metadata": {}
        }
      ],
      "source": [
        "from langchain.document_transformers  import EmbeddingsRedundantFilter\n",
        "\n",
        "_filter = EmbeddingsRedundantFilter(embeddings=embeddings,similarity_threshold=0.83)\n",
        "pipeline = DocumentCompressorPipeline(transformers=[_filter])\n",
        "compression_retriever = ContextualCompressionRetriever(base_compressor=pipeline,\n",
        "                                                       base_retriever=lotr)\n",
        "query = \"Compare the growth rate of Microsoft and Apple\"\n",
        "# print(\"No of documents retrieved after removing redundant documents: \" + str(len(compressed_docs)))\n",
        "pretty_print_result(query, llm, compression_retriever)"
      ]
    },
    {
      "cell_type": "code",
      "execution_count": null,
      "id": "db022a38-2740-49e8-8ab5-9e5666cdae4e",
      "metadata": {
        "id": "db022a38-2740-49e8-8ab5-9e5666cdae4e"
      },
      "outputs": [],
      "source": [
        "# identify the doc that got removed due to reduncdancy"
      ]
    },
    {
      "cell_type": "markdown",
      "id": "6a4f356a-eb65-4664-8ea1-2a6964974eff",
      "metadata": {
        "id": "6a4f356a-eb65-4664-8ea1-2a6964974eff"
      },
      "source": [
        "## Type4 - Multi Query Retriever\n",
        "\n",
        "The MultiQueryRetriever automates the process of prompt tuning by using an LLM to generate multiple queries from different perspectives for a given user input query. For each query, it retrieves a set of relevant documents and takes the unique union across all queries to get a larger set of potentially relevant documents.\n",
        "\n",
        "By generating multiple perspectives on the same question, the MultiQueryRetriever might be able to overcome some of the limitations of the distance-based retrieval and get a richer set of results."
      ]
    },
    {
      "cell_type": "code",
      "execution_count": 51,
      "id": "830b4818-693d-4434-b98f-243cd6ba2a45",
      "metadata": {
        "execution": {
          "iopub.execute_input": "2024-02-26T10:45:38.822257Z",
          "iopub.status.busy": "2024-02-26T10:45:38.821986Z",
          "iopub.status.idle": "2024-02-26T10:45:38.825857Z",
          "shell.execute_reply": "2024-02-26T10:45:38.825359Z",
          "shell.execute_reply.started": "2024-02-26T10:45:38.822237Z"
        },
        "tags": [],
        "id": "830b4818-693d-4434-b98f-243cd6ba2a45"
      },
      "outputs": [],
      "source": [
        "from langchain.retrievers.multi_query import MultiQueryRetriever\n",
        "# Set logging for the queries\n",
        "import logging\n",
        "\n",
        "logging.basicConfig()\n",
        "logging.getLogger(\"langchain.retrievers.multi_query\").setLevel(logging.INFO)\n",
        "\n",
        "multi_query_retriever = MultiQueryRetriever.from_llm(retriever=compression_retriever,\n",
        "                                                     llm=llm)"
      ]
    },
    {
      "cell_type": "code",
      "execution_count": 52,
      "id": "04c34df0-d526-41b1-bfee-afcd9045ea64",
      "metadata": {
        "collapsed": true,
        "execution": {
          "iopub.execute_input": "2024-02-26T10:45:38.826793Z",
          "iopub.status.busy": "2024-02-26T10:45:38.826524Z",
          "iopub.status.idle": "2024-02-26T10:46:13.656420Z",
          "shell.execute_reply": "2024-02-26T10:46:13.655746Z",
          "shell.execute_reply.started": "2024-02-26T10:45:38.826776Z"
        },
        "jupyter": {
          "outputs_hidden": true
        },
        "tags": [],
        "colab": {
          "base_uri": "https://localhost:8080/",
          "height": 1000
        },
        "id": "04c34df0-d526-41b1-bfee-afcd9045ea64",
        "outputId": "f47c3a0f-6814-4135-a806-d153cf82acd1"
      },
      "outputs": [
        {
          "output_type": "stream",
          "name": "stderr",
          "text": [
            "INFO:langchain.retrievers.multi_query:Generated queries: ['What trends are contributing to the growth of the Microsoft Windows user base?  ', '', 'In what ways has the number of Microsoft Windows users increased over recent years?  ', '', 'What factors are driving the expansion of the Microsoft Windows user community?']\n"
          ]
        },
        {
          "output_type": "display_data",
          "data": {
            "text/plain": [
              "<IPython.core.display.Markdown object>"
            ],
            "text/markdown": "Answer: The user base of Microsoft Windows is growing through several key factors: increased OEM licensing as manufacturers pre-install Windows on devices, demand for Windows Commercial offerings from businesses, and the expansion of Windows IoT for embedded systems. Additionally, the mix of computing devices and market demand in both developed and growth markets contribute to this growth."
          },
          "metadata": {}
        },
        {
          "output_type": "stream",
          "name": "stdout",
          "text": [
            "No of documents retrieved: 4\n",
            "=============================================================================================================\n"
          ]
        },
        {
          "output_type": "display_data",
          "data": {
            "text/plain": [
              "<IPython.core.display.Markdown object>"
            ],
            "text/markdown": "Document 1:\n\nPART I  \nItem 1 \n \n13 Our Enterprise Services business competes with a wide range of companies that provide strategy and business \nplanning, application development, and infrastructure services, including multinational consulting firms and small niche \nbusinesses focused on speci fic technologies.  \nMore Personal Computing  \nOur More Personal Computing segment consists of products and services that put customers at the center of the \nexperience with our technology. This segment primarily comprises:  \n• Windows, including Windows OEM  licensing  (“Windows OEM”)  and other non -volume licensing of the \nWindows operating system; Windows Commercial, comprising volume licensing of the Windows operating \nsystem, Windows cloud services, and other Windows commercial offerings; patent licensing; and Windows  \nIoT. \n• Devices, including Surface, HoloLens, and PC accessories.  \n• Gaming, including Xbox hardware and Xbox content and services, comprising first - and third -party content \n(including games and in -game content), Xbox Game Pass and other subscriptions, Xbox Cloud Gaming, \nadvertising, third-party disc royalties, and other cloud services.  \n• Search and news advertising, comprising Bing (including Bing Chat), Microsoft News, Microsoft Edge, and \nthird-party affiliates.  \nWindows  \nThe Windows operating system is designed to deliver a more personal computing experience for users by enabling \nconsistency of experience, applications, and information across their devices. Windows OEM revenue is impacted \nsignificantly by the number of Win dows operating system licenses purchased by OEMs, which they pre -install on the \ndevices they sell. In addition to computing device market volume, Windows OEM revenue is impacted by:  \n• The mix of computing devices based on form factor and screen size.  \n• Differences in device market demand between developed markets and growth markets.  \n• Attachment of Windows to devices shipped.  \n• Customer mix between consumer, small and medium businesses, and large enterprises.  \n• Changes in inventory levels in the OEM channel.  \n• Pricing changes and promotions, pricing variation that occurs when the mix of devices manufactured shifts \nfrom local and regional system builders to large multinational OEMs, and different pricing of Windows \nversions licensed.  \n• Constraints in the supply chain of device components.  \n• Piracy.  \nWindows Commercial revenue, which includes volume licensing of the Windows operating system and Windows cloud \nservices such as Microsoft Defender for Endpoint, is affected mainly by the demand from commercial customers for \nvolume licensing and Software Ass urance (“SA”), as well as advanced security offerings. Windows Commercial \nrevenue often reflects the number of information workers in a licensed enterprise and is relatively independent of the \nnumber of PCs sold in a given year.  \nPatent licensing includes our programs to license patents we own for use across a broad array of technology areas, \nincluding mobile devices and cloud offerings.  \nWindows IoT extends the power of Windows and the cloud to intelligent systems by delivering specialized operating \nsystems, tools, and services for use in embedded devices.  \nDevices  \nWe design and sell devices, including Surface , HoloLens,  and PC accessories. Our devices are designed to enable \npeople and organizations to connect to the people and content that matter most using Windows and integrated \nMicrosoft products and services. Surface is designed to help organizations, students, and co nsumers be more\n\n{'page': 13, 'source': '/content/RAG_Workshop_DHS2024/data/Annual Reports/Microsoft_2023.pdf'}\n-.-.-.-.-.-.-.-.-.-.-.-.-.-.-.-.-.-.-.-.-.-.-.-.-.-.-.-.-.-.-.-.-.-.-.-.-.-.-.-.-.-.-.-.-.-.-.-.-.-.-.-.-.-.-.-.-.-.-.-.-.-.-.-.-.-.-.-.-.-.-.-.-.-.-.-.-.-.-.-.-.-.-.-.-.-.-.-.-.-.-.-.-.-.-.-.-.-.-.-.\n\nDocument 2:\n\nExhibit 32.2  \nCERTIFICATION PURSUANT TO  \nSECTION 906 OF THE SARBANES -OXLEY ACT OF 2002  \n(18 U.S.C. SECTION 1350)  \nIn connection with the Annual Report of Microsoft Corporation, a Washington corporation (the “Company”), on Form  10-\nK for the year ended June 30, 2023 , as filed with the Securities and Exchange Commission (the “Report”), Amy E. \nHood, Chief Financial Officer of the Company, does hereby certify, pursuant to § 906 of the Sarbanes -Oxley Act of \n2002 (18 U.S.C. § 1350), that to her knowledge:  \n(1) The Report fully complies with the requirements of section 13(a) or 15(d) of the Securities Exchange Act of 1934; \nand  \n(2) The information contained in the Report fairly presents, in all material respects, the financial condition and results \nof operations of the Company.  \n  \n \n \n/s/ A MY E. H OOD  \nAmy E. Hood  \nExecutive Vice President and  \nChief Financial Officer  \nJuly 27 , 2023   \n[A signed original of this written statement required by Section  906 has been provided to Microsoft Corporation and will \nbe retained by Microsoft Corporation and furnished to the Securities and Exchange Commission or its staff upon \nrequest.]\n\n{'source': '/content/RAG_Workshop_DHS2024/data/Annual Reports/Microsoft_2023.pdf', 'page': 115}\n-.-.-.-.-.-.-.-.-.-.-.-.-.-.-.-.-.-.-.-.-.-.-.-.-.-.-.-.-.-.-.-.-.-.-.-.-.-.-.-.-.-.-.-.-.-.-.-.-.-.-.-.-.-.-.-.-.-.-.-.-.-.-.-.-.-.-.-.-.-.-.-.-.-.-.-.-.-.-.-.-.-.-.-.-.-.-.-.-.-.-.-.-.-.-.-.-.-.-.-.\n\nDocument 3:\n\nThe Company continues to monitor the situation and take appropriate actions in accordance with the recommendations and requirements of relevant authorities. The\nextent to which the COVID-19 pandemic may impact the Company’s operational and ﬁnancial performance remains uncertain and will depend on many factors\noutside the Company’s control, including the timing, extent, trajectory and duration of the pandemic, the emergence of new variants, the development, availability,\ndistribution and eﬀectiveness of vaccines and treatments, the imposition of protective public safety measures, and the impact of the pandemic on the global economy\nand demand for consumer products and services. Additional future impacts on the Company may include material adverse eﬀects on demand for the Company’s\nproducts and services, the Company’s supply chain and sales and distribution channels, the Company’s ability to execute its strategic plans, and the Company’s\nprofitability and cost structure.\nTo the extent the COVID-19 pandemic adversely aﬀects the Company’s business, results of operations, ﬁnancial condition and stock price, it may also have the eﬀect\nof heightening many of the other risks described in this Part I, Item 1A of this Form 10-K.\nThe Company’s business can be impacted by political events, trade and other international disputes, war, terrorism, natural disasters, public health\nissues, industrial accidents and other business interruptions.\nPolitical events, trade and other international disputes, war, terrorism, natural disasters, public health issues, industrial accidents and other business interruptions can\nharm or disrupt international commerce and the global economy, and could have a material adverse eﬀect on the Company and its customers, suppliers, contract\nmanufacturers, logistics providers, distributors, cellular network carriers and other channel partners.\nThe Company has a large, global business with sales outside the U.S. representing a majority of the Company’s total net sales, and the Company believes that it\ngenerally beneﬁts from growth in international trade. Substantially all of the Company’s manufacturing is performed in whole or in part by outsourcing partners located\nprimarily in Asia, including China mainland, India, Japan, South Korea, Taiwan and Vietnam. Trade policies and disputes and other international conﬂicts can result in\ntariﬀs, sanctions and other measures that restrict international trade, and can materially adversely aﬀect the Company’s business, particularly if these measures occur\nin regions where the Company derives a signiﬁcant portion of its revenues and/or has signiﬁcant supply chain operations. For example, tensions between the U.S.\nand China have led to a series of tariﬀs being imposed by the U.S. on imports from China mainland, as well as other business restrictions. Tariﬀs increase the cost of\nthe Company’s products and the components and raw materials that go into making them. These increased costs can adversely impact the gross margin that the\nCompany earns on its products. Tariﬀs can also make the Company’s products more expensive for customers, which could make the Company’s products less\ncompetitive and reduce consumer demand. Countries may also adopt other measures, such as controls on imports or exports of goods, technology or data, that could\nadversely impact the Company’s operations and supply chain and limit the Company’s ability to oﬀer its products and services as designed. These measures can\nrequire the Company to take various actions, including changing suppliers, restructuring business relationships, and ceasing to oﬀer third-party applications on its\nplatforms. Changing the Company’s operations in accordance with new or changed trade restrictions can be expensive, time-consuming and disruptive to the\nCompany’s operations. Such restrictions can be announced with little or no advance notice and the Company may not be able to eﬀectively mitigate all adverse\nimpacts from such measures. If disputes and conﬂicts further escalate in the future, actions by governments in response could be signiﬁcantly more severe and\nrestrictive and could materially adversely aﬀect the Company’s business. Political uncertainty surrounding trade and other international disputes could also have a\nnegative effect on consumer confidence and spending, which could adversely affect the Company’s business.\nMany of the Company’s operations and facilities, as well as critical business operations of the Company’s suppliers and contract manufacturers, are in locations that\n\n{'page': 9, 'source': '/content/RAG_Workshop_DHS2024/data/Annual Reports/Apple_2022.pdf'}\n-.-.-.-.-.-.-.-.-.-.-.-.-.-.-.-.-.-.-.-.-.-.-.-.-.-.-.-.-.-.-.-.-.-.-.-.-.-.-.-.-.-.-.-.-.-.-.-.-.-.-.-.-.-.-.-.-.-.-.-.-.-.-.-.-.-.-.-.-.-.-.-.-.-.-.-.-.-.-.-.-.-.-.-.-.-.-.-.-.-.-.-.-.-.-.-.-.-.-.-.\n\nDocument 4:\n\nbased on factors such as the market position of the Company and its products, the anticipated revenue that may be generated, expected future growth of product\nsales, and the costs of developing such applications and services.\nThe Company’s minority market share in the global smartphone, personal computer and tablet markets can make developers less inclined to develop or upgrade\nsoftware for the Company’s products and more inclined to devote their resources to developing and upgrading software for competitors’ products with larger market\nshare. When developers focus their efforts on these competing platforms, the availability and quality of applications for the Company’s devices can suffer.\nThe Company relies on the continued availability and development of compelling and innovative software applications for its products. The Company’s products and\noperating systems are subject to rapid technological change, and when third-party developers are unable to or choose not to keep up with this pace of change, their\napplications can fail to take advantage of these changes to deliver improved customer experiences, can operate incorrectly, and can result in dissatisﬁed customers\nand lower customer demand for the Company’s products.\n\n{'page': 12, 'source': '/content/RAG_Workshop_DHS2024/data/Annual Reports/Apple_2023.pdf'}"
          },
          "metadata": {}
        }
      ],
      "source": [
        "query = \"How Microsoft windows user base growing?\"# same question write it in a bad way and see if it gets better with this retriever.\n",
        "pretty_print_result(query, llm, multi_query_retriever)"
      ]
    },
    {
      "cell_type": "code",
      "execution_count": 53,
      "id": "a1594def-3b31-4053-9db4-3c434ff5786c",
      "metadata": {
        "collapsed": true,
        "execution": {
          "iopub.execute_input": "2024-02-26T10:46:13.657966Z",
          "iopub.status.busy": "2024-02-26T10:46:13.657649Z",
          "iopub.status.idle": "2024-02-26T10:46:54.152308Z",
          "shell.execute_reply": "2024-02-26T10:46:54.151684Z",
          "shell.execute_reply.started": "2024-02-26T10:46:13.657944Z"
        },
        "jupyter": {
          "outputs_hidden": true
        },
        "tags": [],
        "colab": {
          "base_uri": "https://localhost:8080/",
          "height": 1000
        },
        "id": "a1594def-3b31-4053-9db4-3c434ff5786c",
        "outputId": "eb6a22e3-faf9-4241-ddfd-7c2c4fca9260"
      },
      "outputs": [
        {
          "output_type": "stream",
          "name": "stderr",
          "text": [
            "INFO:langchain.retrievers.multi_query:Generated queries: [\"What is the location of Apple's main office?  \", \"Can you tell me the address of Apple's corporate headquarters?  \", \"In which city is Apple's headquarters situated?\"]\n"
          ]
        },
        {
          "output_type": "display_data",
          "data": {
            "text/plain": [
              "<IPython.core.display.Markdown object>"
            ],
            "text/markdown": "Answer: Apple's headquarters is located at One Apple Park Way, Cupertino, California, 95014."
          },
          "metadata": {}
        },
        {
          "output_type": "stream",
          "name": "stdout",
          "text": [
            "No of documents retrieved: 10\n",
            "=============================================================================================================\n"
          ]
        },
        {
          "output_type": "display_data",
          "data": {
            "text/plain": [
              "<IPython.core.display.Markdown object>"
            ],
            "text/markdown": "Document 1:\n\nPART I  \nItem 1 \n \n16 worldwide. While we employ much of our internally -developed intellectual property in our products and services, we \nalso engage in outbound licensing of specific patented technologies that are incorporated into licensees’ products. \nFrom time to time, we ent er into broader cross -license agreements with other technology companies covering entire \ngroups of patents. We may also purchase or license technology that we incorporate into our products and services. At \ntimes, we make select intellectual property broadl y available at no or low cost to achieve a strategic objective, such as \npromoting industry standards, advancing interoperability, supporting societal and/or environmental efforts, or attracting \nand enabling our external development community. Our increasin g engagement with open source software will also \ncause us to license our intellectual property rights broadly in certain situations.  \nWhile it may be necessary in the future to seek or renew licenses relating to various aspects of our products  and \nservices, we believe, based upon past experience and industry practice, such licenses generally can be obtained on \ncommercially reasonable terms. We believe our continuing research and product development are not materially \ndependent on any single license  or other agreement with a third party relating to the development of our products.  \nInvesting in the Future  \nOur success is based on our ability to create new and compelling products, services, and experiences for our users, \nto initiate and embrace disruptive technology trends, to enter new geographic and product markets, and to drive broad \nadoption of our produc ts and services. We invest in a range of emerging technology trends and breakthroughs that we \nbelieve offer significant opportunities to deliver value to our customers and growth for the company. Based on our \nassessment of key technology trends, we maintai n our long -term commitment to research and development across a \nwide spectrum of technologies, tools, and platforms spanning digital work and life experiences, cloud computing, AI, \ndevices, and operating systems.   \nWhile our main product research and development facilities are located in Redmond, Washington, we also operate \nresearch and development facilities in other parts of the U.S. and around the world. This global approach helps us \nremain competitive in local ma rkets and enables us to continue to attract top talent from across the world.  \nWe plan to continue to make significant investments in a broad range of product research and development activities, \nand as appropriate we will coordinate our research and development across operating segments and leverage the \nresults across the company.   \nIn addition to our main research and development operations, we also operate Microsoft Research. Microsoft Research \nis one of the world’s largest corporate research organizations , often  work ing in close collaboration with top universities \naround the world , and is focused on advancing the state -of-the-art in computer science and a broad range of other \ndisciplines . Our investment in fundamental research  provides  us a unique perspective on future trends and contributes  \nto our innovation.  \nDISTRIBUTION, SALES, AND MARKETING  \nWe market and distribute our products and services through the following channels: OEMs, direct, and distributors and \nresellers. Our sales  organization  performs a variety of functions, including working directly with commercial enterprises \nand public -sector organizations worldwide to identify and meet their technology and digital transformation \nrequirements; managing OEM relationships; and supporting sys tem integrators, independent software vendors, and \nother partners who engage directly with our customers to perform sales, consulting, and fulfillment functions for our \nproducts and services.  \nOEMs\n\n{'source': '/content/RAG_Workshop_DHS2024/data/Annual Reports/Microsoft_2023.pdf', 'page': 16}\n-.-.-.-.-.-.-.-.-.-.-.-.-.-.-.-.-.-.-.-.-.-.-.-.-.-.-.-.-.-.-.-.-.-.-.-.-.-.-.-.-.-.-.-.-.-.-.-.-.-.-.-.-.-.-.-.-.-.-.-.-.-.-.-.-.-.-.-.-.-.-.-.-.-.-.-.-.-.-.-.-.-.-.-.-.-.-.-.-.-.-.-.-.-.-.-.-.-.-.-.\n\nDocument 2:\n\nTotal    `$` 211,915     `$` 198,270      `$` 168,088    \n                       \nOur Microsoft Cloud  revenue, which includes Azure and other cloud services, Office 365 Commercial, the commercial \nportion of LinkedIn, Dynamics 365, and other commercial cloud properties, was `$` 111.6 billion, `$` 91.4 billion , and `$` 69.1 \nbillion in fiscal years 2023 , 2022 , and 2021 , respectively. These amounts are primarily included in Server products and \ncloud services, Office products and cloud services, LinkedIn , and Dynamics  in the table above.  \nAssets are not allocated to segments for internal reporting presentations. A portion of amortization and depreciation is \nincluded with various other costs in an overhead allocation to each segment. It is impracticable for us to separately \nidentify the amount of amortization and depreciation by segment that is inclu ded in the measure of segment profit or \nloss. \nLong -lived assets, excluding financial instruments and tax assets, classified by the location of the controlling statutory \ncompany and with countries over 10% of the total shown separately, were as follows:  \n \n(In millions)        \n   \n     \nJune  30,    2023     2022     2021   \n    \nUnited States    `$` 114,380      `$` 106,430      `$` 76,153    \nIreland      16,359        15,505        13,303    \nOther countries      56,50 0       44,433        38,858                                  \nTotal    `$` 187,2 39     `$` 166,368      `$`  128,314\n\n{'source': '/content/RAG_Workshop_DHS2024/data/Annual Reports/Microsoft_2023.pdf', 'page': 91}\n-.-.-.-.-.-.-.-.-.-.-.-.-.-.-.-.-.-.-.-.-.-.-.-.-.-.-.-.-.-.-.-.-.-.-.-.-.-.-.-.-.-.-.-.-.-.-.-.-.-.-.-.-.-.-.-.-.-.-.-.-.-.-.-.-.-.-.-.-.-.-.-.-.-.-.-.-.-.-.-.-.-.-.-.-.-.-.-.-.-.-.-.-.-.-.-.-.-.-.-.\n\nDocument 3:\n\nServices\nAdvertising\nThe Company’s advertising services include third-party licensing arrangements and the Company’s own advertising platforms.\nAppleCare\nThe Company oﬀers a portfolio of fee-based service and support products under the AppleCare\n brand. The oﬀerings provide priority access to Apple technical\nsupport, access to the global Apple authorized service network for repair and replacement services, and in many cases additional coverage for instances of accidental\ndamage or theft and loss, depending on the country and type of product.\nCloud Services\nThe Company’s cloud services store and keep customers’ content up-to-date and available across multiple Apple devices and Windows personal computers.\nDigital Content\nThe Company operates various platforms, including the App Store\n,\n that allow customers to discover and download applications and digital content, such as books,\nmusic, video, games and podcasts.\nThe Company also oﬀers digital content through subscription-based services, including Apple Arcade\n, a game subscription service; Apple Fitness+\n, a personalized\nﬁtness service; Apple Music\n, which oﬀers users a curated listening experience with on-demand radio stations; Apple News+\n, a subscription news and magazine\nservice; and Apple TV+\n, which offers exclusive original content and live sports.\nPayment Services\nThe Company offers payment services, including Apple Card\n, a co-branded credit card, and Apple Pay\n, a cashless payment service.\nSegments\nThe Company manages its business primarily on a geographic basis. The Company’s reportable segments consist of the Americas, Europe, Greater China, Japan\nand Rest of Asia Paciﬁc. Americas includes both North and South America. Europe includes European countries, as well as India, the Middle East and Africa. Greater\nChina includes China mainland, Hong Kong and Taiwan. Rest of Asia Paciﬁc includes Australia and those Asian countries not included in the Company’s other\nreportable segments. Although the reportable segments provide similar hardware and software products and similar services, each one is managed separately to\nbetter align with the location of the Company’s customers and distribution partners and the unique market dynamics of each geographic region.\nMarkets and Distribution\nThe Company’s customers are primarily in the consumer, small and mid-sized business, education, enterprise and government markets. The Company sells its\nproducts and resells third-party products in most of its major markets directly to customers through its retail and online stores and its direct sales force. The Company\nalso employs a variety of indirect distribution channels, such as third-party cellular network carriers, wholesalers, retailers and resellers. During 2023, the Company’s\nnet sales through its direct and indirect distribution channels accounted for 37% and 63%, respectively, of total net sales.\nCompetition\nThe markets for the Company’s products and services are highly competitive, and are characterized by aggressive price competition and resulting downward pressure\non gross margins, frequent introduction of new products and services, short product life cycles, evolving industry standards, continual improvement in product price\nand performance characteristics, rapid adoption of technological advancements by competitors, and price sensitivity on the part of consumers and businesses. Many\nof the Company’s competitors seek to compete primarily through aggressive pricing and very low cost structures, and by imitating the Company’s products and\ninfringing on its intellectual property.\n®\n®\n®\nSM\n®\n®\n®\n®\n®\n\n{'page': 5, 'source': '/content/RAG_Workshop_DHS2024/data/Annual Reports/Apple_2023.pdf'}\n-.-.-.-.-.-.-.-.-.-.-.-.-.-.-.-.-.-.-.-.-.-.-.-.-.-.-.-.-.-.-.-.-.-.-.-.-.-.-.-.-.-.-.-.-.-.-.-.-.-.-.-.-.-.-.-.-.-.-.-.-.-.-.-.-.-.-.-.-.-.-.-.-.-.-.-.-.-.-.-.-.-.-.-.-.-.-.-.-.-.-.-.-.-.-.-.-.-.-.-.\n\nDocument 4:\n\nPART I  \nItem 1 \n \n20 AVAILABLE INFORMATION  \nOur Internet address is www.microsoft.com. At our Investor Relations website, www.microsoft.com/investor, we make \navailable free of charge a variety of information for investors. Our goal is to maintain the Investor Relations website as \na portal through which investors can easily find or navigate to pertinent information about us, including:  \n• Our annual report on Form 10 -K, quarterly reports on Form 10 -Q, current reports on Form 8 -K, and any \namendments to those reports, as soon as reasonably practicable after we electronically file that material \nwith or furnish it to the Securities and Exchange  Commission (“SEC”) at www.sec.gov . \n• Information on our business strategies, financial results, and metrics for investors.  \n• Announcements of investor conferences, speeches, and events at which our executives talk about our \nproduct, service, and competitive strategies. Archives of these events are also available.  \n• Press releases on quarterly earnings, product and service announcements, legal developments, and \ninternational news.  \n• Corporate governance information including our articles of incorporation, bylaws, governance guidelines, \ncommittee charters, codes of conduct and ethics, global corporate social responsibility initiatives, and other \ngovernance -related policies.  \n• Other news and announcements that we may post from time to time that investors might find useful or \ninteresting.  \n• Opportunities to sign up for email alerts to have information pushed in real time.  \nWe publish a variety of reports and resources related to our Corporate Social Responsibility programs and progress \non our Reports Hub website, www.microsoft.com/corporate -responsibility/reports -hub, including reports on \nsustainability, responsible sourcing, accessibility, digital trust, and public policy engagement.  \nThe information found on  these websites is not part of, or incorporated by reference into, this or any other report we \nfile with, or furnish to, the SEC. In addition to these channels, we use social media to communicate to the public. It is \npossible that the information we post on  social media could be deemed to be material to investors. We encourage \ninvestors, the media, and others interested in Microsoft to review the information we post on the social media channels \nlisted on our Investor Relations websit e.\n\n{'source': '/content/RAG_Workshop_DHS2024/data/Annual Reports/Microsoft_2023.pdf', 'page': 20}\n-.-.-.-.-.-.-.-.-.-.-.-.-.-.-.-.-.-.-.-.-.-.-.-.-.-.-.-.-.-.-.-.-.-.-.-.-.-.-.-.-.-.-.-.-.-.-.-.-.-.-.-.-.-.-.-.-.-.-.-.-.-.-.-.-.-.-.-.-.-.-.-.-.-.-.-.-.-.-.-.-.-.-.-.-.-.-.-.-.-.-.-.-.-.-.-.-.-.-.-.\n\nDocument 5:\n\n2025, representing half of the country’s workforce shortage. To that end, we are making curriculum available free of \ncharge to all of the nation’s higher education institutions, providing training for new and existing faculty, and providing \nscholarships and supplemental resources to 25,000 students. We have expanded the cyber skills initiative to 27 \nadditional countries that show elevated cybert hreat risks coupled with significant gaps in their cybersecurity workforces, \npartnering with nonprofits and other educational institutions to train the next generation of cybersecurity workers.  \nGenerative AI is creating unparalleled opportunities to empower workers globally, but only if everyone has the skills to \nuse it. To address this, in June 2023 we launched a new AI Skills Initiative to help everyone learn how to harness the \npower of AI. This includes a new LinkedIn learning pathway offering new coursework on learning the foundations of \ngenerative AI. We also launched a new global grant challenge to uncover new ways of training workers on generative \nAI and are providing greater access to digi tal learning events and resources for everyone to improve their AI fluency.\n\n{'source': '/content/RAG_Workshop_DHS2024/data/Annual Reports/Microsoft_2023.pdf', 'page': 7}\n-.-.-.-.-.-.-.-.-.-.-.-.-.-.-.-.-.-.-.-.-.-.-.-.-.-.-.-.-.-.-.-.-.-.-.-.-.-.-.-.-.-.-.-.-.-.-.-.-.-.-.-.-.-.-.-.-.-.-.-.-.-.-.-.-.-.-.-.-.-.-.-.-.-.-.-.-.-.-.-.-.-.-.-.-.-.-.-.-.-.-.-.-.-.-.-.-.-.-.-.\n\nDocument 6:\n\nand processes.\nThe Company has implemented systems and processes intended to secure its information technology systems and prevent unauthorized access to or loss of\nsensitive data, and mitigate the impact of unauthorized access, including through the use of encryption and authentication technologies. As with all companies, these\nsecurity measures may not be sufficient for all eventualities and may be vulnerable to hacking, ransomware attacks, employee error, malfeasance, system error, faulty\npassword management or other irregularities. For example, third parties can fraudulently induce the Company’s or its vendors’ employees or customers into\ndisclosing usernames, passwords or other sensitive information, which can, in turn, be used for unauthorized access to the Company’s or its vendors’ systems and\nservices. To help protect customers and the Company, the Company deploys and makes available technologies like multifactor authentication, monitors its services\nand systems for unusual activity and may freeze accounts under suspicious circumstances, which, among other things, can result in the delay or loss of customer\norders or impede customer access to the Company’s products and services.\nWhile the Company maintains insurance coverage that is intended to address certain aspects of data security risks, such insurance coverage may be insuﬃcient to\ncover all losses or all types of claims that may arise.\n\n{'source': '/content/RAG_Workshop_DHS2024/data/Annual Reports/Apple_2023.pdf', 'page': 14}\n-.-.-.-.-.-.-.-.-.-.-.-.-.-.-.-.-.-.-.-.-.-.-.-.-.-.-.-.-.-.-.-.-.-.-.-.-.-.-.-.-.-.-.-.-.-.-.-.-.-.-.-.-.-.-.-.-.-.-.-.-.-.-.-.-.-.-.-.-.-.-.-.-.-.-.-.-.-.-.-.-.-.-.-.-.-.-.-.-.-.-.-.-.-.-.-.-.-.-.-.\n\nDocument 7:\n\nUNITED STATES\nSECURITIES AND EXCHANGE COMMISSION\nWashington, D.C. 20549\nFORM \n10-K\n(Mark One)\n☒\n \nANNUAL REPORT PURSUANT TO SECTION 13 OR 15(d) OF THE SECURITIES EXCHANGE ACT OF 1934\nFor the fiscal year ended \nSeptember 30\n, 2023\nor\n☐\n \nTRANSITION REPORT PURSUANT TO SECTION 13 OR 15(d) OF THE SECURITIES EXCHANGE ACT OF 1934\nFor the transition period from \n            \n to \n            \n.\nCommission File Number: \n001-36743\nApple Inc.\n(Exact name of Registrant as specified in its charter)\nCalifornia\n94-2404110\n(State or other jurisdiction\nof incorporation or organization)\n(I.R.S. Employer Identification No.)\nOne Apple Park Way\nCupertino\n, \nCalifornia\n95014\n(Address of principal executive offices)\n(Zip Code)\n(\n408\n) \n996-1010\n(Registrant’s telephone number, including area code)\nSecurities registered pursuant to Section 12(b) of the Act:\nTitle of each class\nTrading symbol(s)\nName of each exchange on which registered\nCommon Stock, `$`0.00001 par value per share\nAAPL\nThe Nasdaq Stock Market LLC\n1.375% Notes due 2024\n—\nThe Nasdaq Stock Market LLC\n0.000% Notes due 2025\n—\nThe Nasdaq Stock Market LLC\n0.875% Notes due 2025\n—\nThe Nasdaq Stock Market LLC\n1.625% Notes due 2026\n—\nThe Nasdaq Stock Market LLC\n2.000% Notes due 2027\n—\nThe Nasdaq Stock Market LLC\n1.375% Notes due 2029\n—\nThe Nasdaq Stock Market LLC\n3.050% Notes due 2029\n—\nThe Nasdaq Stock Market LLC\n0.500% Notes due 2031\n—\nThe Nasdaq Stock Market LLC\n3.600% Notes due 2042\n—\nThe Nasdaq Stock Market LLC\nSecurities registered pursuant to Section 12(g) of the Act: \nNone\nIndicate by check mark if the Registrant is a well-known seasoned issuer, as defined in Rule 405 of the Securities Act.\nYes\n  \n☒\n     No  \n☐\nIndicate by check mark if the Registrant is not required to file reports pursuant to Section 13 or Section 15(d) of the Act.\nYes  \n☐\n     \nNo\n  \n☒\nIndicate by check mark whether the Registrant (1) has ﬁled all reports required to be ﬁled by Section 13 or 15(d) of the Securities Exchange Act of 1934 during the preceding 12\nmonths (or for such shorter period that the Registrant was required to file such reports), and (2) has been subject to such filing requirements for the past 90 days.\nYes\n  \n☒\n     No  \n☐\nIndicate by check mark whether the Registrant has submitted electronically every Interactive Data File required to be submitted pursuant to Rule 405 of Regulation S-T (§232.405 of\nthis chapter) during the preceding 12 months (or for such shorter period that the Registrant was required to submit such files).\nYes\n  \n☒\n     No  \n☐\nIndicate by check mark whether the Registrant is a large accelerated ﬁler, an accelerated ﬁler, a non-accelerated ﬁler, a smaller reporting company, or an emerging growth company.\nSee the definitions of “large accelerated filer,” “accelerated filer,” “smaller reporting company,” and “emerging growth company” in Rule 12b-2 of the Exchange Act.\nLarge accelerated filer\n☒\nAccelerated filer\n☐\nNon-accelerated filer\n☐\nSmaller reporting company\n☐\nEmerging growth company\n☐\n\n{'page': 1, 'source': '/content/RAG_Workshop_DHS2024/data/Annual Reports/Apple_2023.pdf'}\n-.-.-.-.-.-.-.-.-.-.-.-.-.-.-.-.-.-.-.-.-.-.-.-.-.-.-.-.-.-.-.-.-.-.-.-.-.-.-.-.-.-.-.-.-.-.-.-.-.-.-.-.-.-.-.-.-.-.-.-.-.-.-.-.-.-.-.-.-.-.-.-.-.-.-.-.-.-.-.-.-.-.-.-.-.-.-.-.-.-.-.-.-.-.-.-.-.-.-.-.\n\nDocument 8:\n\nPART I \nItem 1B, 2, 3, 4  \n \n34 ITEM  1B. UNRESOLVED STAFF COMMENTS  \nWe have received no written comments regarding our periodic or current reports from the staff of the Securities and \nExchange Commission that were issued 180 days or more preceding the end of our fiscal year 2023  that remain \nunresolved.  \nITEM  2. PROPERTIES  \nOur corporate headquarters are located in Redmond, Washington. We have approximately 16 million square feet of \nspace located in King County, Washington that is used for engineering, sales, marketing, and operations, among other \ngeneral and administrative purposes. These facilities include approximately 11 million square feet of owned space \nsituated on approximately 5 30 acres of land we own at our corporate headquarters, and approximately 5 million square \nfeet of space we lease.  \nWe own and lease  other facilities domestically and internationally , primarily  for office s, datacenter s, and research and \ndevelopment . The largest owned international properties include space in the following locations: China, India, Ireland, \nand the Netherlands. The largest leased international properties include space in the following locations: Australia, \nCanada, China, France, Germany, India, Ireland, Israel, Japan,  the Netherlands, and the United Kingdom.  Refer to  \nResearch and Development (Part I, Item  1 of this Form 10 -K) for further discussion of our research and development \nfacilities . \nIn fiscal year 2023, we made  decisions to consolidate our office leases to create higher density across our workspaces , \nand we may make similar decisions in future periods as we continue to evaluate our real estate needs.  \nThe table below shows a summary of the square footage of our properties  owned and leased domestically and \ninternationally as of June 30, 2023 : \n \n(Square feet in millions)    \n   \n     \nLocation    Owned      Leased      Total   \n    \nU.S.     27      20      47   \nInternational      9       22       31   \n             \n          \nTotal     36      42      78   \n                       \nITEM  3. LEGAL PROCEEDINGS  \nRefer to Note 15 – Contingencies of the Notes to Financial Statements (Part II, Item  8 of this Form 10 -K) for information \nregarding legal proceedings in which we are involved.  \nITEM  4. MINE SAFETY DISCLOSURES  \nNot applicable.\n\n{'source': '/content/RAG_Workshop_DHS2024/data/Annual Reports/Microsoft_2023.pdf', 'page': 34}\n-.-.-.-.-.-.-.-.-.-.-.-.-.-.-.-.-.-.-.-.-.-.-.-.-.-.-.-.-.-.-.-.-.-.-.-.-.-.-.-.-.-.-.-.-.-.-.-.-.-.-.-.-.-.-.-.-.-.-.-.-.-.-.-.-.-.-.-.-.-.-.-.-.-.-.-.-.-.-.-.-.-.-.-.-.-.-.-.-.-.-.-.-.-.-.-.-.-.-.-.\n\nDocument 9:\n\nThe Company is also subject to the examination of its tax returns and other tax matters by the U.S. Internal Revenue Service and other tax authorities and\ngovernmental bodies. The Company regularly assesses the likelihood of an adverse outcome resulting from these examinations to determine the adequacy of its\nprovision for taxes. There can be no assurance as to the outcome of these examinations. If the Company’s eﬀective tax rates were to increase, particularly in the U.S.\nor Ireland, or if the ultimate determination of the Company’s taxes owed is for an amount in excess of amounts previously accrued, the Company’s business, results of\noperations and financial condition could be materially adversely affected.\nGeneral Risks\nThe price of the Company’s stock is subject to volatility.\nThe Company’s stock has experienced substantial price volatility in the past and may continue to do so in the future. Additionally, the Company, the technology\nindustry and the stock market as a whole have, from time to time, experienced extreme stock price and volume ﬂuctuations that have aﬀected stock prices in ways\nthat may have been unrelated to these companies’ operating performance. Price volatility may cause the average price at which the Company repurchases its stock in\na given period to exceed the stock’s price at a given point in time. The Company believes the price of its stock should reﬂect expectations of future growth and\nproﬁtability. The Company also believes the price of its stock should reﬂect expectations that its cash dividend will continue at current levels or grow, and that its\ncurrent share repurchase program will be fully consummated. Future dividends are subject to declaration by the Company’s Board of Directors, and the Company’s\nshare repurchase program does not obligate it to acquire any speciﬁc number of shares. If the Company fails to meet expectations related to future growth,\nproﬁtability, dividends, share repurchases or other market expectations, the price of the Company’s stock may decline signiﬁcantly, which could have a material\nadverse impact on investor confidence and employee retention.\nItem 1B.    Unresolved Staff Comments\nNone.\nItem 2.    Properties\nThe Company’s headquarters are located in Cupertino, California. As of September 24, 2022, the Company owned or leased facilities and land for corporate\nfunctions, R&D, data centers, retail and other purposes at locations throughout the U.S. and in various places outside the U.S. The Company believes its existing\nfacilities and equipment, which are used by all reportable segments, are in good operating condition and are suitable for the conduct of its business.\nItem 3.    Legal Proceedings\nEpic Games\nEpic Games, Inc. (“Epic”) ﬁled a lawsuit in the U.S. District Court for the Northern District of California (the “Northern California District Court”) against the Company\nalleging violations of federal and state antitrust laws and California’s unfair competition law based upon the Company’s operation of its App Store. The Company ﬁled\na counterclaim for breach of contract. On September 10, 2021, the Northern California District Court ruled in favor of the Company with respect to nine out of the ten\ncounts included in Epic’s claim, and in favor of the Company with respect to the Company’s claims for breach of contract. The Northern California District Court found\nthat certain provisions of the Company’s App Store Review Guidelines violate California’s unfair competition law and issued an injunction. Epic appealed the decision.\nThe Company filed a cross-appeal and has been granted a stay pending the appeal.\nOther Legal Proceedings\nThe Company is subject to other legal proceedings and claims that have not been fully resolved and that have arisen in the ordinary course of business. The\nCompany settled certain matters during the fourth quarter of 2022 that did not individually or in the aggregate have a material impact on the Company’s ﬁnancial\ncondition or operating results. The outcome of litigation is inherently uncertain. If one or more legal matters were resolved against the Company in a reporting period\n\n{'source': '/content/RAG_Workshop_DHS2024/data/Annual Reports/Apple_2022.pdf', 'page': 20}\n-.-.-.-.-.-.-.-.-.-.-.-.-.-.-.-.-.-.-.-.-.-.-.-.-.-.-.-.-.-.-.-.-.-.-.-.-.-.-.-.-.-.-.-.-.-.-.-.-.-.-.-.-.-.-.-.-.-.-.-.-.-.-.-.-.-.-.-.-.-.-.-.-.-.-.-.-.-.-.-.-.-.-.-.-.-.-.-.-.-.-.-.-.-.-.-.-.-.-.-.\n\nDocument 10:\n\nUNITED STATES\nSECURITIES AND EXCHANGE COMMISSION\nWashington, D.C. 20549\nFORM \n10-K\n(Mark One)\n☒\n \nANNUAL REPORT PURSUANT TO SECTION 13 OR 15(d) OF THE SECURITIES EXCHANGE ACT OF 1934\nFor the fiscal year ended \nSeptember 24\n, 2022\nor\n☐\n \nTRANSITION REPORT PURSUANT TO SECTION 13 OR 15(d) OF THE SECURITIES EXCHANGE ACT OF 1934\nFor the transition period from \n            \n to \n            \n.\nCommission File Number: \n001-36743\nApple Inc.\n(Exact name of Registrant as specified in its charter)\nCalifornia\n94-2404110\n(State or other jurisdiction\nof incorporation or organization)\n(I.R.S. Employer Identification No.)\nOne Apple Park Way\nCupertino\n, \nCalifornia\n95014\n(Address of principal executive offices)\n(Zip Code)\n(\n408\n) \n996-1010\n(Registrant’s telephone number, including area code)\nSecurities registered pursuant to Section 12(b) of the Act:\nTitle of each class\nTrading symbol(s)\nName of each exchange on which registered\nCommon Stock, `$`0.00001 par value per share\nAAPL\nThe Nasdaq Stock Market LLC\n1.000% Notes due 2022\n—\nThe Nasdaq Stock Market LLC\n1.375% Notes due 2024\n—\nThe Nasdaq Stock Market LLC\n0.000% Notes due 2025\n—\nThe Nasdaq Stock Market LLC\n0.875% Notes due 2025\n—\nThe Nasdaq Stock Market LLC\n1.625% Notes due 2026\n—\nThe Nasdaq Stock Market LLC\n2.000% Notes due 2027\n—\nThe Nasdaq Stock Market LLC\n1.375% Notes due 2029\n—\nThe Nasdaq Stock Market LLC\n3.050% Notes due 2029\n—\nThe Nasdaq Stock Market LLC\n0.500% Notes due 2031\n—\nThe Nasdaq Stock Market LLC\n3.600% Notes due 2042\n—\nThe Nasdaq Stock Market LLC\nSecurities registered pursuant to Section 12(g) of the Act: \nNone\nIndicate by check mark if the Registrant is a well-known seasoned issuer, as defined in Rule 405 of the Securities Act.\nYes\n  \n☒\n     No  \n☐\nIndicate by check mark if the Registrant is not required to file reports pursuant to Section 13 or Section 15(d) of the Act.\nYes  \n☐\n     \nNo\n  \n☒\nIndicate by check mark whether the Registrant (1) has ﬁled all reports required to be ﬁled by Section 13 or 15(d) of the Securities Exchange Act of 1934 during the preceding 12\nmonths (or for such shorter period that the Registrant was required to file such reports), and (2) has been subject to such filing requirements for the past 90 days.\nYes\n  \n☒\n     No  \n☐\nIndicate by check mark whether the Registrant has submitted electronically every Interactive Data File required to be submitted pursuant to Rule 405 of Regulation S-T (§232.405 of\nthis chapter) during the preceding 12 months (or for such shorter period that the Registrant was required to submit such files).\nYes\n  \n☒\n     No  \n☐\nIndicate by check mark whether the Registrant is a large accelerated ﬁler, an accelerated ﬁler, a non-accelerated ﬁler, a smaller reporting company, or an emerging growth company.\nSee the definitions of “large accelerated filer,” “accelerated filer,” “smaller reporting company,” and “emerging growth company” in Rule 12b-2 of the Exchange Act.\nLarge accelerated filer\n☒\nAccelerated filer\n☐\nNon-accelerated filer\n☐\nSmaller reporting company\n☐\nEmerging growth company\n☐\n\n{'page': 1, 'source': '/content/RAG_Workshop_DHS2024/data/Annual Reports/Apple_2022.pdf'}"
          },
          "metadata": {}
        }
      ],
      "source": [
        "query = \"Where is Apple's headquarters?\"\n",
        "pretty_print_result(query, llm, multi_query_retriever)"
      ]
    },
    {
      "cell_type": "code",
      "source": [
        "query = \"When is Apple planning to achieve Carbon neutral?\"\n",
        "pretty_print_result(query, llm, multi_query_retriever)"
      ],
      "metadata": {
        "colab": {
          "base_uri": "https://localhost:8080/",
          "height": 1000
        },
        "id": "skkH9m7rRVkJ",
        "outputId": "14343804-23d8-4ffd-c257-da2e3564b66f"
      },
      "id": "skkH9m7rRVkJ",
      "execution_count": 54,
      "outputs": [
        {
          "output_type": "stream",
          "name": "stderr",
          "text": [
            "INFO:langchain.retrievers.multi_query:Generated queries: [\"What is Apple's timeline for reaching carbon neutrality?  \", 'What are the goals and deadlines set by Apple for achieving carbon neutrality?  ', \"Can you provide information on Apple's plans and schedule for becoming carbon neutral?\"]\n"
          ]
        },
        {
          "output_type": "display_data",
          "data": {
            "text/plain": [
              "<IPython.core.display.Markdown object>"
            ],
            "text/markdown": "Answer: Apple is planning to achieve carbon neutrality by 2030."
          },
          "metadata": {}
        },
        {
          "output_type": "stream",
          "name": "stdout",
          "text": [
            "No of documents retrieved: 8\n",
            "=============================================================================================================\n"
          ]
        },
        {
          "output_type": "display_data",
          "data": {
            "text/plain": [
              "<IPython.core.display.Markdown object>"
            ],
            "text/markdown": "Document 1:\n\nmotion to e xclude the plaintiffs’ general causation experts. The defendants filed an interlocutory appeal to the District \nof Columbia Court of Appeals challenging the standard for evaluating expert scientific evidence. In October 2016, the \nCourt of Appeals issued its  decision adopting the standard advocated by the defendants and remanding the cases to \nthe trial court for further proceedings under that standard. The plaintiffs have filed supplemental expert evidence, \nportions of which were stricken by the court. A hear ing on general causation took place in September of 2022.  In April \nof 2023, the court granted defendants’ motion to strike the testimony of plaintiffs’ experts that cell phones cause brain \ncancer and entered an order excluding all of plaintiffs’ experts fr om testifying.  \nIrish Data Protection Commission Matter  \nIn 2018, the Irish Data Protection Commission ( “IDPC ”) began investigating a complaint against LinkedIn as to whether \nLinkedIn’s targeted advertising practices violated the recently implemented European Union General Data Protection \nRegulation ( “GDPR ”). Microsoft cooperated throughout the period of inquiry. In April 2023, the IDPC provided LinkedIn \nwith a non -public preliminary draft decision alleging GDPR violations and proposing a fine. Microsoft intends to \nchallenge the preliminary draft decision. There is no set timeline for the IDPC to issue a final decision.\n\n{'source': '/content/RAG_Workshop_DHS2024/data/Annual Reports/Microsoft_2023.pdf', 'page': 84}\n-.-.-.-.-.-.-.-.-.-.-.-.-.-.-.-.-.-.-.-.-.-.-.-.-.-.-.-.-.-.-.-.-.-.-.-.-.-.-.-.-.-.-.-.-.-.-.-.-.-.-.-.-.-.-.-.-.-.-.-.-.-.-.-.-.-.-.-.-.-.-.-.-.-.-.-.-.-.-.-.-.-.-.-.-.-.-.-.-.-.-.-.-.-.-.-.-.-.-.-.\n\nDocument 2:\n\nPART I  \nItem 1 \n \n3 Note About Forward -Looking Statements  \nThis report includes estimates, projections, statements relating to our business plans, objectives, and expected \noperating results that are “forward -looking statements” within the meaning of the Private Securities Litigation Reform \nAct of 1995, Section  27A of the Securities Act of 1933, and Section  21E of the Securities Exchange Act of 1934. \nForward -looking statements may appear throughout this report, including the following sections: “Business” (Part I, \nItem 1 of this Form 10 -K), “Risk Factors” (Part I, I tem 1A of this Form 10 -K), and “Management’s Discussion and \nAnalysis of Financial Condition and Results of Operations” (Part II, Item  7 of this Form 10 -K). These forward -looking \nstatements generally are identified by the words “believe,” “project,” “expect,” “anticipate,” “estimate,” “intend,” \n“strategy,” “future,” “opportunity,” “plan,” “may,” “should,” “will,” “would,” “will be,” “will  continue,” “will likely result,” and \nsimilar expressions. Forward -looking statements are based on current expectations an d assumptions that are subject \nto risks and uncertainties that may cause actual results to differ materially. We describe risks and uncertainties that \ncould cause actual results and events to differ materially in “Risk Factors,” “Management’s Discussion an d Analysis of \nFinancial Condition and Results of Operations,” and “Quantitative and Qualitative Disclosures about Market Risk” (Part \nII, Item  7A of this Form 10 -K). Readers are cautioned not to place undue reliance on forward -looking statements, which \nspea k only as of the date they are made. We undertake no obligation to update or revise publicly any forward -looking \nstatements, whether because of new information, future events, or otherwise.  \nPART I  \nITEM  1. BUSINESS  \nGENERAL  \nEmbracing Our Future  \nMicrosoft is a technology company whose mission is to empower every person and every organization on the planet \nto achieve more. We strive to create local opportunity, growth, and impact in every country around the world. We are \ncreating the platforms and tools , powered by artificial intelligence (“A I”), that deliver better, faster, and more effective \nsolutions to support small and large business competitiveness , improve educational and health outcomes, grow public -\nsector efficiency, and empower human ingen uity. From infrastructure and data, to business applications and \ncollaboration, we provide unique , differentiated value to customers.  \nIn a world of increasing economic complexity, AI has the power to revolutionize many types of work. Microsoft is now \ninnovating and expanding our portfolio with AI capabilities to help people and organizations overcome today’s \nchallenges and emerge stronger. Customers are looking to unlock value from their digital spend and innovate for this \nnext generation of AI, while simplifying security and management.  Those leveraging the Microsoft Cloud are best \npositioned to take advantage of technological advancemen ts and drive innovation.  Our investment in AI spans the \nentire company, from Microsoft Teams and Outlook, to Bing and Xbox, and we are infusing generative AI capability \ninto our consumer and commercial offerings to deliver copilot capability for all services across the Microsoft Cloud.  \nWe’re committed to making the promise of AI real – and doing it responsibly. Our work is guided by a core set of \nprinciples: fairness, reliability and safety, privacy and security, inclusiveness, transparency, and accountability.  \nWhat We Offer  \nFounded in 1975, we develop and support software, services, devices, and solutions that deliver new value for \ncustomers and help people and businesses realize their full potential.  \nWe offer an array of services, including cloud -based solutions that provide customers with software, services, \nplatforms, and content, and we provide solution support and consulting services. We also deliver relevant online\n\n{'source': '/content/RAG_Workshop_DHS2024/data/Annual Reports/Microsoft_2023.pdf', 'page': 3}\n-.-.-.-.-.-.-.-.-.-.-.-.-.-.-.-.-.-.-.-.-.-.-.-.-.-.-.-.-.-.-.-.-.-.-.-.-.-.-.-.-.-.-.-.-.-.-.-.-.-.-.-.-.-.-.-.-.-.-.-.-.-.-.-.-.-.-.-.-.-.-.-.-.-.-.-.-.-.-.-.-.-.-.-.-.-.-.-.-.-.-.-.-.-.-.-.-.-.-.-.\n\nDocument 3:\n\nApple Inc.\nNotes to Consolidated Financial Statements\nNote 1 – \nSummary of Significant Accounting Policies\nBasis of Presentation and Preparation\nThe consolidated ﬁnancial statements include the accounts of Apple Inc. and its wholly owned subsidiaries. The preparation of these consolidated ﬁnancial\nstatements and accompanying notes in conformity with GAAP requires the use of management estimates. Certain prior period amounts in the consolidated ﬁnancial\nstatements and accompanying notes have been reclassified to conform to the current period’s presentation.\nThe Company’s ﬁscal year is the 52- or 53-week period that ends on the last Saturday of September. An additional week is included in the ﬁrst ﬁscal quarter every\nﬁve or six years to realign the Company’s ﬁscal quarters with calendar quarters, which occurred in the ﬁrst ﬁscal quarter of 2023. The Company’s ﬁscal year 2023\nspanned 53 weeks, whereas ﬁscal years 2022 and 2021 spanned 52 weeks each. Unless otherwise stated, references to particular years, quarters, months and\nperiods refer to the Company’s fiscal years ended in September and the associated quarters, months and periods of those fiscal years.\nRevenue\nThe Company records revenue net of taxes collected from customers that are remitted to governmental authorities.\nShare-Based Compensation\nThe Company recognizes share-based compensation expense on a straight-line basis for its estimate of equity awards that will ultimately vest.\nCash Equivalents\nAll highly liquid investments with maturities of three months or less at the date of purchase are treated as cash equivalents.\nMarketable Securities\nThe cost of securities sold is determined using the specific identification method.\nInventories\nInventories are measured using the first-in, first-out method.\nProperty, Plant and Equipment\nDepreciation on property, plant and equipment is recognized on a straight-line basis.\nDerivative Instruments\nThe Company presents derivative assets and liabilities at their gross fair values in the Consolidated Balance Sheets.\nIncome Taxes\nThe Company records certain deferred tax assets and liabilities in connection with the minimum tax on certain foreign earnings created by the Act.\nLeases\nThe Company combines and accounts for lease and nonlease components as a single lease component for leases of corporate, data center and retail facilities.\nApple Inc. | 2023 Form 10-K | 33\n\n{'page': 36, 'source': '/content/RAG_Workshop_DHS2024/data/Annual Reports/Apple_2023.pdf'}\n-.-.-.-.-.-.-.-.-.-.-.-.-.-.-.-.-.-.-.-.-.-.-.-.-.-.-.-.-.-.-.-.-.-.-.-.-.-.-.-.-.-.-.-.-.-.-.-.-.-.-.-.-.-.-.-.-.-.-.-.-.-.-.-.-.-.-.-.-.-.-.-.-.-.-.-.-.-.-.-.-.-.-.-.-.-.-.-.-.-.-.-.-.-.-.-.-.-.-.-.\n\nDocument 4:\n\nCompliance with these laws and regulations is onerous and expensive. New and changing laws and regulations can adversely aﬀect the Company’s business by\nincreasing the Company’s costs, limiting the Company’s ability to oﬀer a product, service or feature to customers, impacting customer demand for the Company’s\nproducts and services, and requiring changes to the Company’s supply chain and its business. New and changing laws and regulations can also create uncertainty\nabout how such laws and regulations will be interpreted and applied. These risks and costs may increase as the Company’s products and services are introduced into\nspecialized applications, including health and ﬁnancial services. The Company has implemented policies and procedures designed to ensure compliance with\napplicable laws and regulations, but there can be no assurance the Company’s employees, contractors or agents will not violate such laws and regulations or the\nCompany’s policies and procedures. If the Company is found to have violated laws and regulations, it could materially adversely aﬀect the Company’s business,\nreputation, results of operations and ﬁnancial condition. Regulatory changes and other actions that materially adversely aﬀect the Company’s business may be\nannounced with little or no advance notice and the Company may not be able to eﬀectively mitigate all adverse impacts from such measures. For example, the\nCompany is subject to changing regulations relating to the export and import of its products. Although the Company has programs, policies and procedures in place\nthat are designed to satisfy regulatory requirements, there can be no assurance that such policies and procedures will be eﬀective in preventing a violation or a claim\nof a violation. As a result, the Company’s products could be delayed or prohibited from importation, either of which could materially adversely aﬀect the Company’s\nbusiness, reputation, results of operations and financial condition.\nExpectations relating to environmental, social and governance considerations expose the Company to potential liabilities, increased costs, reputational\nharm, and other adverse effects on the Company’s business.\nMany governments, regulators, investors, employees, customers and other stakeholders are increasingly focused on environmental, social and governance\nconsiderations relating to businesses, including climate change and greenhouse gas emissions, human and civil rights, and diversity, equity and inclusion. In addition,\nthe Company makes statements about its environmental, social and governance goals and initiatives through its environmental, social and governance report, its\nother non-ﬁnancial reports, information provided on its website, press statements and other communications. Responding to these environmental, social and\ngovernance considerations and implementation of these goals and initiatives involves risks and uncertainties, requires investments, and depends in part on third-\nparty performance or data that is outside the Company’s control. The Company cannot guarantee that it will achieve its announced environmental, social and\ngovernance goals and initiatives. In addition, some stakeholders may disagree with the Company’s goals and initiatives. Any failure, or perceived failure, by the\nCompany to achieve its goals, further its initiatives, adhere to its public statements, comply with federal, state or international environmental, social and governance\nlaws and regulations, or meet evolving and varied stakeholder expectations and standards could result in legal and regulatory proceedings against the Company and\nmaterially adversely affect the Company’s business, reputation, results of operations, financial condition and stock price.\nThe technology industry, including, in some instances, the Company, is subject to intense media, political and regulatory scrutiny, which exposes the\nCompany to increasing regulation, government investigations, legal actions and penalties.\nFrom time to time, the Company has made changes to its App Store, including actions taken in response to competition, market and legal conditions. The Company\nmay make further business changes in the future. New legislative initiatives, such as the EU Digital Markets Act, or similar laws in other jurisdictions, could require\nfurther changes. These changes could include how and to what extent the Company charges developers for access to its platforms and manages distribution of apps\noutside of the App Store.\nThe Company is also currently subject to antitrust investigations in various jurisdictions around the world, which can result in legal proceedings and claims against the\n\n{'source': '/content/RAG_Workshop_DHS2024/data/Annual Reports/Apple_2022.pdf', 'page': 17}\n-.-.-.-.-.-.-.-.-.-.-.-.-.-.-.-.-.-.-.-.-.-.-.-.-.-.-.-.-.-.-.-.-.-.-.-.-.-.-.-.-.-.-.-.-.-.-.-.-.-.-.-.-.-.-.-.-.-.-.-.-.-.-.-.-.-.-.-.-.-.-.-.-.-.-.-.-.-.-.-.-.-.-.-.-.-.-.-.-.-.-.-.-.-.-.-.-.-.-.-.\n\nDocument 5:\n\nApple Annual Report 2022\nForm 10-K (NASDAQ:AAPL)\nPublished: October 28th, 2022\nPDF generated by \nstocklight.com\n\n{'page': 0, 'source': '/content/RAG_Workshop_DHS2024/data/Annual Reports/Apple_2022.pdf'}\n-.-.-.-.-.-.-.-.-.-.-.-.-.-.-.-.-.-.-.-.-.-.-.-.-.-.-.-.-.-.-.-.-.-.-.-.-.-.-.-.-.-.-.-.-.-.-.-.-.-.-.-.-.-.-.-.-.-.-.-.-.-.-.-.-.-.-.-.-.-.-.-.-.-.-.-.-.-.-.-.-.-.-.-.-.-.-.-.-.-.-.-.-.-.-.-.-.-.-.-.\n\nDocument 6:\n\nItem 9B.    Other Information\nInsider Trading Arrangements\nOn \nAugust 30, 2023\n, \nDeirdre O’Brien\n, the Company’s \nSenior Vice President, Retail\n, and \nJeﬀ Williams\n, the Company’s \nChief Operating Oﬃcer\n, each \nentered\n into a\ntrading plan intended to satisfy the affirmative defense conditions of Rule 10b5-1(c) under the Exchange Act. The plans provide for the sale of all shares vested during\nthe duration of the plans pursuant to certain equity awards granted to Ms. O’Brien and Mr. Williams, respectively, excluding any shares withheld by the Company to\nsatisfy income tax withholding and remittance obligations. Ms. O’Brien’s plan will \nexpire\n on October 15, 2024, and Mr. Williams’ plan will expire on December 15,\n2024, subject to early termination for certain specified events set forth in the plans.\nItem 9C.    Disclosure Regarding Foreign Jurisdictions that Prevent Inspections\nNot applicable.\nPART III\nItem 10.    Directors, Executive Officers and Corporate Governance\nThe information required by this Item will be included in the Company’s deﬁnitive proxy statement to be ﬁled with the SEC within 120 days after September 30, 2023,\nin connection with the solicitation of proxies for the Company’s 2024 annual meeting of shareholders (the “2024 Proxy Statement”), and is incorporated herein by\nreference.\nItem 11.    Executive Compensation\nThe information required by this Item will be included in the 2024 Proxy Statement, and is incorporated herein by reference.\nItem 12.    Security Ownership of Certain Beneficial Owners and Management and Related Stockholder Matters\nThe information required by this Item will be included in the 2024 Proxy Statement, and is incorporated herein by reference.\nItem 13.    Certain Relationships and Related Transactions, and Director Independence\nThe information required by this Item will be included in the 2024 Proxy Statement, and is incorporated herein by reference.\nItem 14.    Principal Accountant Fees and Services\nThe information required by this Item will be included in the 2024 Proxy Statement, and is incorporated herein by reference.\nApple Inc. | 2023 Form 10-K | 53\n\n{'source': '/content/RAG_Workshop_DHS2024/data/Annual Reports/Apple_2023.pdf', 'page': 56}\n-.-.-.-.-.-.-.-.-.-.-.-.-.-.-.-.-.-.-.-.-.-.-.-.-.-.-.-.-.-.-.-.-.-.-.-.-.-.-.-.-.-.-.-.-.-.-.-.-.-.-.-.-.-.-.-.-.-.-.-.-.-.-.-.-.-.-.-.-.-.-.-.-.-.-.-.-.-.-.-.-.-.-.-.-.-.-.-.-.-.-.-.-.-.-.-.-.-.-.-.\n\nDocument 7:\n\nPART II  \nItem 8  \n89 Employees purchased the following shares during the periods presented:  \n  \n(Shares in millions)                       \n     \nYear Ended June  30,    2023     2022     2021   \n    \nShares purchased      7       7       8   \nAverage price per share    `$` 245.59      `$` 259.55      `$` 207.88    \n   \n \nAs of June 30, 2023 , 74 million shares of our common stock were reserved for future issuance through the ESPP.  \nSavings Plans  \nWe have savings plans in the U.S. that qualify under Section  401(k) of the Internal Revenue Code, and a number of \nsavings plans in international locations. Eligible U.S. employees may contribute a portion of their salary into the savings \nplans, subject to certain limitations. We match a portion of each dollar a part icipant contributes into the plans. Employer -\nfunded retirement benefits for all plans were `$`1. 6 billion, `$` 1.4 billion, and `$` 1.2 billion in fiscal years 2023 , 2022 , and \n2021 , respectively, and wer e expensed as contributed.  \nNOTE 19  — SEGMENT INFORMATION AND GEOGRAPHIC DATA  \nIn its operation of the business, management, including our chief operating decision maker, who is also our Chief \nExecutive Officer, reviews certain financial information, including segmented internal profit and loss statements \nprepared on a basis not cons istent with GAAP. During the periods presented, we reported our financial performance \nbased on the following segments: Productivity and Business Processes, Intelligent Cloud, and More Personal \nComputing.  \nWe have recast certain prior period amounts to conform to the way we internally manage and monitor our business.  \nOur reportable segments are described below.  \nProductivity and Business Processes  \nOur Productivity and Business Processes segment consists of products and services in our portfolio of productivity, \ncommunication, and information services, spanning a variety of devices and platforms. This segment primarily \ncomprises:  \n• Office Commercial (Office 365 subscriptions, the Office 365 portion of Microsoft 365 Commercial \nsubscriptions, and Office licensed on -premises), comprising Office, Exchange, SharePoint, Microsoft \nTeams, Office 365 Security and Compliance, Microsoft Viva , and Microsoft 365 Copilot . \n• Office Consumer, including Microsoft 365 Consumer  subscriptions, Office licensed on -premises, and other \nOffice services.  \n• LinkedIn, including Talent Solutions, Marketing Solutions, Premium Subscriptions, and Sales Solutions.  \n• Dynamics business solutions, including Dynamics 365, comprising a set of intelligent, cloud -based \napplications across ERP, CRM  (including Customer Insights) , Power Apps, and Power Automate ; and on -\npremises ERP and CRM applications.  \nIntelligent Cloud  \nOur Intelligent Cloud segment consists of our public, private, and hybrid server products and cloud services that can \npower modern business and developers. This segment primarily comprises:  \n• Server products and cloud services, including Azure and other cloud services; SQL Server, Windows \nServer, Visual Studio, System Center, and related Client Access Licenses (“CALs”); and Nuance and \nGitHub.  \n• Enterprise Services, including Enterprise Support Services, Industry Solutions (formerly Microsoft \nConsulting Services ), and Nuance professional services.\n\n{'source': '/content/RAG_Workshop_DHS2024/data/Annual Reports/Microsoft_2023.pdf', 'page': 89}\n-.-.-.-.-.-.-.-.-.-.-.-.-.-.-.-.-.-.-.-.-.-.-.-.-.-.-.-.-.-.-.-.-.-.-.-.-.-.-.-.-.-.-.-.-.-.-.-.-.-.-.-.-.-.-.-.-.-.-.-.-.-.-.-.-.-.-.-.-.-.-.-.-.-.-.-.-.-.-.-.-.-.-.-.-.-.-.-.-.-.-.-.-.-.-.-.-.-.-.-.\n\nDocument 8:\n\nBusiness Seasonality and Product Introductions\nThe Company has historically experienced higher net sales in its ﬁrst quarter compared to other quarters in its ﬁscal year due in part to seasonal holiday demand.\nAdditionally, new product and service introductions can signiﬁcantly impact net sales, cost of sales and operating expenses. The timing of product introductions can\nalso impact the Company’s net sales to its indirect distribution channels as these channels are ﬁlled with new inventory following a product launch, and channel\ninventory of an older product often declines as the launch of a newer product approaches. Net sales can also be aﬀected when consumers and distributors anticipate\na product introduction.\nHuman Capital\nThe Company believes it has a talented, motivated and dedicated team, and works to create an inclusive, safe and supportive environment for all of its team\nmembers. As of September 24, 2022, the Company had approximately 164,000 full-time equivalent employees.\nWorkplace Practices and Policies\nThe Company is an equal opportunity employer committed to inclusion and diversity and to providing a workplace free of harassment or discrimination.\nCompensation and Benefits\nThe Company believes that compensation should be competitive and equitable, and should enable employees to share in the Company’s success. The Company\nrecognizes its people are most likely to thrive when they have the resources to meet their needs and the time and support to succeed in their professional and\npersonal lives. In support of this, the Company offers a wide variety of benefits for employees around the world and invests in tools and resources that are designed to\nsupport employees’ individual growth and development.\nInclusion and Diversity\nThe Company remains committed to its vision to build and sustain a more inclusive workforce that is representative of the communities it serves. The Company\ncontinues to work to increase diverse representation at every level, foster an inclusive culture, and support equitable pay and access to opportunity for all employees.\nEngagement\nThe Company believes that open and honest communication among team members, managers and leaders helps create an open, collaborative work environment\nwhere everyone can contribute, grow and succeed. Team members are encouraged to come to their managers with questions, feedback or concerns, and the\nCompany conducts surveys that gauge employee sentiment in areas like career development, manager performance and inclusivity.\nHealth and Safety\nThe Company is committed to protecting its team members everywhere it operates. The Company identiﬁes potential workplace risks in order to develop measures to\nmitigate possible hazards. The Company supports employees with general safety, security and crisis management training, and by putting speciﬁc programs in place\nfor those working in potentially high-hazard environments. Additionally, the Company works to protect the safety and security of its team members, visitors and\ncustomers through its global security team. The Company has also taken additional health and safety measures during the COVID-19 pandemic.\nAvailable Information\nThe Company’s Annual Reports on Form 10-K, Quarterly Reports on Form 10-Q, Current Reports on Form 8-K, and amendments to reports ﬁled pursuant to Sections\n13(a) and 15(d) of the Securities Exchange Act of 1934, as amended (the “Exchange Act”), are ﬁled with the U.S. Securities and Exchange Commission (the “SEC”).\nSuch reports and other information ﬁled by the Company with the SEC are available free of charge at investor.apple.com/investor-relations/sec-ﬁlings/default.aspx\nwhen such reports are available on the SEC’s website. The Company periodically provides certain information for investors on its corporate website, www.apple.com,\nand its investor relations website, investor.apple.com. This includes press releases and other information about ﬁnancial performance, information on environmental,\nsocial and governance matters, and details related to the Company’s annual meeting of shareholders. The information contained on the websites referenced in this\nForm 10-K is not incorporated by reference into this filing. Further, the Company’s references to website URLs are intended to be inactive textual references only.\nApple Inc. | 2022 Form 10-K | 4\n\n{'page': 7, 'source': '/content/RAG_Workshop_DHS2024/data/Annual Reports/Apple_2022.pdf'}"
          },
          "metadata": {}
        }
      ]
    },
    {
      "cell_type": "code",
      "source": [
        "query = \"Compare the 2023 Revenue of apple and microsoft\"\n",
        "pretty_print_result(query, llm, multi_query_retriever)"
      ],
      "metadata": {
        "colab": {
          "base_uri": "https://localhost:8080/",
          "height": 1000
        },
        "id": "XKrj7F7WTq2R",
        "outputId": "4a05563e-63b6-4d61-fc98-4d48e528fd2e"
      },
      "id": "XKrj7F7WTq2R",
      "execution_count": 55,
      "outputs": [
        {
          "output_type": "stream",
          "name": "stderr",
          "text": [
            "INFO:langchain.retrievers.multi_query:Generated queries: ['What are the revenue figures for Apple and Microsoft in 2023, and how do they compare?  ', '', 'How did the 2023 revenues of Apple and Microsoft stack up against each other?  ', '', 'Can you provide a comparison of the 2023 financial performance of Apple and Microsoft in terms of revenue?']\n"
          ]
        },
        {
          "output_type": "display_data",
          "data": {
            "text/plain": [
              "<IPython.core.display.Markdown object>"
            ],
            "text/markdown": "Answer: In 2023, Apple's total net sales were `$`383.3 billion, while Microsoft's total net sales for the year ending June 30, 2023, were approximately `$`211.9 billion."
          },
          "metadata": {}
        },
        {
          "output_type": "stream",
          "name": "stdout",
          "text": [
            "No of documents retrieved: 8\n",
            "=============================================================================================================\n"
          ]
        },
        {
          "output_type": "display_data",
          "data": {
            "text/plain": [
              "<IPython.core.display.Markdown object>"
            ],
            "text/markdown": "Document 1:\n\nPART I  \nItem 1 \n \n5 industry clouds bring together capabilities across the entire Microsoft Cloud, along with industry -specific \ncustomizations. Azure Arc simplifies governance and management by delivering a consistent multi -cloud and on -\npremises management platform.  \nNuance, a leader in conversational AI and ambient intelligence across industries including healthcare, financial \nservices, retail, and telecommunications, joined Microsoft in 2022. Microsoft and Nuance enable organizations to \naccelerate their business goal s with security -focused, cloud -based solutions infused with AI.  \nWe are accelerating our development of mixed reality solutions with new Azure services and devices. Microsoft Mesh \nenables organizations to create custom, immersive experiences for the workplace to help bring remote and hybrid \nworkers and teams together .  \nThe ability to convert data into AI drives our competitive advantage. The Microsoft Intelligent Data Platform is a leading \ncloud data platform that fully integrates databases, analytics, and governance. The platform empowers organizations \nto invest more time creating value rather than integrating and managing their data. Mic rosoft Fabric is an end -to-end, \nunified analytics platform that brings together all the data and analytics tools that organizations need.  \nGitHub Copilot is at the forefront of AI -powered software development, giving developers a new tool to write code \neasier and faster so they can focus on more creative problem -solving. From GitHub to Visual Studio, we provide a \ndeveloper tool chain for everyone, no matter the technical experience, across all platforms, whether Azure, Windows, \nor any other cloud or client platform.  \nWindows also plays a critical role in fueling our cloud business with Windows 365, a desktop operating system that’s \nalso a cloud service. From another internet -connected device, including Android or macOS devices, users can run \nWindows 365, just like a virtual machine.  \nAdditionally, we are extending our infrastructure beyond the planet, bringing cloud computing to space. Azure Orbital \nis a fully managed ground station as a service for fast downlinking of data.  \nCreate More Personal Computing  \nWe strive to make computing more personal, enabling users  to interact with technology in more intuitive, engaging, \nand dynamic ways.  \nWindows 11 offers innovations focused on enhancing productivity , including Windows Copilot with centralized AI \nassistance and Dev Home to help developer s become more productive. Windows 11 security and privacy features \ninclude operating system security, application security, and user and identity security.  \nThrough our Search, News, Mapping, and Browse r services, Microsoft delivers unique trust, privacy, and safety \nfeatures. In February 2023, we launched an all new, AI -powered Microsoft Edge browser and Bing search engine with \nBing Chat  to deliver better search, more complete answers, and the ability to generate content. Microsoft Edge is our \nfast and secure browser that helps protect users’ data.  Quick access to AI -powered tools, apps, and more within \nMicrosoft Edge’s sidebar enhance browsing capabilities.  \nWe are committed to designing and marketing first -party devices to help drive innovation, create new device categories, \nand stimulate demand in the Windows ecosystem. The  Surface family includes Surface Pro, Surface Laptop, and other \nSurface products . \nMicrosoft continues to invest in gaming content, community, and cloud services. We have broadened our approach to \nhow we think about gaming end -to-end, from the way games are created and distributed to how they are played, \nincluding subscription services like Xbox Game Pass and new devices from third-party manufacturers so players can \nengage  across PC, console, and mobile. In January 2022, we announced plans to acquire Activision Blizzard, Inc., a \nleader in game development and an interactive entertainment content publisher.  \nOur Future Opportunity\n\n{'source': '/content/RAG_Workshop_DHS2024/data/Annual Reports/Microsoft_2023.pdf', 'page': 5}\n-.-.-.-.-.-.-.-.-.-.-.-.-.-.-.-.-.-.-.-.-.-.-.-.-.-.-.-.-.-.-.-.-.-.-.-.-.-.-.-.-.-.-.-.-.-.-.-.-.-.-.-.-.-.-.-.-.-.-.-.-.-.-.-.-.-.-.-.-.-.-.-.-.-.-.-.-.-.-.-.-.-.-.-.-.-.-.-.-.-.-.-.-.-.-.-.-.-.-.-.\n\nDocument 2:\n\nProducts and Services Performance\nThe following table shows net sales by category for 2023, 2022 and 2021 (dollars in millions):\n2023\nChange\n2022\nChange\n2021\nNet sales by category:\niPhone \n`$`\n200,583 \n(2)\n%\n`$`\n205,489 \n7 \n%\n`$`\n191,973 \nMac \n29,357 \n(27)\n%\n40,177 \n14 \n%\n35,190 \niPad \n28,300 \n(3)\n%\n29,292 \n(8)\n%\n31,862 \nWearables, Home and Accessories \n39,845 \n(3)\n%\n41,241 \n7 \n%\n38,367 \nServices \n85,200 \n9 \n%\n78,129 \n14 \n%\n68,425 \nTotal net sales\n`$`\n383,285 \n(3)\n%\n`$`\n394,328 \n8 \n%\n`$`\n365,817 \n(1)\nProducts net sales include amortization of the deferred value of unspeciﬁed software upgrade rights, which are bundled in the sales price of the respective\nproduct.\n(2)\nServices net sales include amortization of the deferred value of services bundled in the sales price of certain products.\niPhone\niPhone net sales decreased 2% or `$`4.9 billion during 2023 compared to 2022 due to lower net sales of non-Pro iPhone models, partially oﬀset by higher net sales of\nPro iPhone models.\nMac\nMac net sales decreased 27% or `$`10.8 billion during 2023 compared to 2022 due primarily to lower net sales of laptops.\niPad\niPad net sales decreased 3% or `$`1.0 billion during 2023 compared to 2022 due primarily to lower net sales of iPad mini and iPad Air, partially oﬀset by the combined\nnet sales of iPad 9th and 10th generation.\nWearables, Home and Accessories\nWearables, Home and Accessories net sales decreased 3% or `$`1.4 billion during 2023 compared to 2022 due primarily to lower net sales of Wearables and\nAccessories.\nServices\nServices net sales increased 9% or `$`7.1 billion during 2023 compared to 2022 due to higher net sales across all lines of business.\n(1)\n(1)\n(1)\n(1)\n(2)\nApple Inc. | 2023 Form 10-K | 22\n\n{'page': 25, 'source': '/content/RAG_Workshop_DHS2024/data/Annual Reports/Apple_2023.pdf'}\n-.-.-.-.-.-.-.-.-.-.-.-.-.-.-.-.-.-.-.-.-.-.-.-.-.-.-.-.-.-.-.-.-.-.-.-.-.-.-.-.-.-.-.-.-.-.-.-.-.-.-.-.-.-.-.-.-.-.-.-.-.-.-.-.-.-.-.-.-.-.-.-.-.-.-.-.-.-.-.-.-.-.-.-.-.-.-.-.-.-.-.-.-.-.-.-.-.-.-.-.\n\nDocument 3:\n\nExhibit 32.2  \nCERTIFICATION PURSUANT TO  \nSECTION 906 OF THE SARBANES -OXLEY ACT OF 2002  \n(18 U.S.C. SECTION 1350)  \nIn connection with the Annual Report of Microsoft Corporation, a Washington corporation (the “Company”), on Form  10-\nK for the year ended June 30, 2023 , as filed with the Securities and Exchange Commission (the “Report”), Amy E. \nHood, Chief Financial Officer of the Company, does hereby certify, pursuant to § 906 of the Sarbanes -Oxley Act of \n2002 (18 U.S.C. § 1350), that to her knowledge:  \n(1) The Report fully complies with the requirements of section 13(a) or 15(d) of the Securities Exchange Act of 1934; \nand  \n(2) The information contained in the Report fairly presents, in all material respects, the financial condition and results \nof operations of the Company.  \n  \n \n \n/s/ A MY E. H OOD  \nAmy E. Hood  \nExecutive Vice President and  \nChief Financial Officer  \nJuly 27 , 2023   \n[A signed original of this written statement required by Section  906 has been provided to Microsoft Corporation and will \nbe retained by Microsoft Corporation and furnished to the Securities and Exchange Commission or its staff upon \nrequest.]\n\n{'source': '/content/RAG_Workshop_DHS2024/data/Annual Reports/Microsoft_2023.pdf', 'page': 115}\n-.-.-.-.-.-.-.-.-.-.-.-.-.-.-.-.-.-.-.-.-.-.-.-.-.-.-.-.-.-.-.-.-.-.-.-.-.-.-.-.-.-.-.-.-.-.-.-.-.-.-.-.-.-.-.-.-.-.-.-.-.-.-.-.-.-.-.-.-.-.-.-.-.-.-.-.-.-.-.-.-.-.-.-.-.-.-.-.-.-.-.-.-.-.-.-.-.-.-.-.\n\nDocument 4:\n\nThe Company continues to monitor the situation and take appropriate actions in accordance with the recommendations and requirements of relevant authorities. The\nextent to which the COVID-19 pandemic may impact the Company’s operational and ﬁnancial performance remains uncertain and will depend on many factors\noutside the Company’s control, including the timing, extent, trajectory and duration of the pandemic, the emergence of new variants, the development, availability,\ndistribution and eﬀectiveness of vaccines and treatments, the imposition of protective public safety measures, and the impact of the pandemic on the global economy\nand demand for consumer products and services. Additional future impacts on the Company may include material adverse eﬀects on demand for the Company’s\nproducts and services, the Company’s supply chain and sales and distribution channels, the Company’s ability to execute its strategic plans, and the Company’s\nprofitability and cost structure.\nTo the extent the COVID-19 pandemic adversely aﬀects the Company’s business, results of operations, ﬁnancial condition and stock price, it may also have the eﬀect\nof heightening many of the other risks described in this Part I, Item 1A of this Form 10-K.\nThe Company’s business can be impacted by political events, trade and other international disputes, war, terrorism, natural disasters, public health\nissues, industrial accidents and other business interruptions.\nPolitical events, trade and other international disputes, war, terrorism, natural disasters, public health issues, industrial accidents and other business interruptions can\nharm or disrupt international commerce and the global economy, and could have a material adverse eﬀect on the Company and its customers, suppliers, contract\nmanufacturers, logistics providers, distributors, cellular network carriers and other channel partners.\nThe Company has a large, global business with sales outside the U.S. representing a majority of the Company’s total net sales, and the Company believes that it\ngenerally beneﬁts from growth in international trade. Substantially all of the Company’s manufacturing is performed in whole or in part by outsourcing partners located\nprimarily in Asia, including China mainland, India, Japan, South Korea, Taiwan and Vietnam. Trade policies and disputes and other international conﬂicts can result in\ntariﬀs, sanctions and other measures that restrict international trade, and can materially adversely aﬀect the Company’s business, particularly if these measures occur\nin regions where the Company derives a signiﬁcant portion of its revenues and/or has signiﬁcant supply chain operations. For example, tensions between the U.S.\nand China have led to a series of tariﬀs being imposed by the U.S. on imports from China mainland, as well as other business restrictions. Tariﬀs increase the cost of\nthe Company’s products and the components and raw materials that go into making them. These increased costs can adversely impact the gross margin that the\nCompany earns on its products. Tariﬀs can also make the Company’s products more expensive for customers, which could make the Company’s products less\ncompetitive and reduce consumer demand. Countries may also adopt other measures, such as controls on imports or exports of goods, technology or data, that could\nadversely impact the Company’s operations and supply chain and limit the Company’s ability to oﬀer its products and services as designed. These measures can\nrequire the Company to take various actions, including changing suppliers, restructuring business relationships, and ceasing to oﬀer third-party applications on its\nplatforms. Changing the Company’s operations in accordance with new or changed trade restrictions can be expensive, time-consuming and disruptive to the\nCompany’s operations. Such restrictions can be announced with little or no advance notice and the Company may not be able to eﬀectively mitigate all adverse\nimpacts from such measures. If disputes and conﬂicts further escalate in the future, actions by governments in response could be signiﬁcantly more severe and\nrestrictive and could materially adversely aﬀect the Company’s business. Political uncertainty surrounding trade and other international disputes could also have a\nnegative effect on consumer confidence and spending, which could adversely affect the Company’s business.\nMany of the Company’s operations and facilities, as well as critical business operations of the Company’s suppliers and contract manufacturers, are in locations that\n\n{'page': 9, 'source': '/content/RAG_Workshop_DHS2024/data/Annual Reports/Apple_2022.pdf'}\n-.-.-.-.-.-.-.-.-.-.-.-.-.-.-.-.-.-.-.-.-.-.-.-.-.-.-.-.-.-.-.-.-.-.-.-.-.-.-.-.-.-.-.-.-.-.-.-.-.-.-.-.-.-.-.-.-.-.-.-.-.-.-.-.-.-.-.-.-.-.-.-.-.-.-.-.-.-.-.-.-.-.-.-.-.-.-.-.-.-.-.-.-.-.-.-.-.-.-.-.\n\nDocument 5:\n\nItem 2.    Properties\nThe Company’s headquarters is located in Cupertino, California. As of September 30, 2023, the Company owned or leased facilities and land for corporate functions,\nR&D, data centers, retail and other purposes at locations throughout the U.S. and in various places outside the U.S. The Company believes its existing facilities and\nequipment, which are used by all reportable segments, are in good operating condition and are suitable for the conduct of its business.\nItem 3.    Legal Proceedings\nEpic Games\nEpic Games, Inc. (“Epic”) ﬁled a lawsuit in the U.S. District Court for the Northern District of California (the “District Court”) against the Company alleging violations of\nfederal and state antitrust laws and California’s unfair competition law based upon the Company’s operation of its App Store. On September 10, 2021, the District\nCourt ruled in favor of the Company with respect to nine out of the ten counts included in Epic’s claim. The District Court found that certain provisions of the\nCompany’s App Store Review Guidelines violate California’s unfair competition law and issued an injunction enjoining the Company from prohibiting developers from\nincluding in their apps external links that direct customers to purchasing mechanisms other than Apple in-app purchasing. The injunction applies to apps on the U.S.\nstorefront of the iOS and iPadOS App Store. On April 24, 2023, the U.S. Court of Appeals for the Ninth Circuit (the “Circuit Court”) aﬃrmed the District Court’s ruling.\nOn June 7, 2023, the Company and Epic filed petitions with the Circuit Court requesting further review of the decision. On June 30, 2023, the Circuit Court denied both\npetitions. On July 17, 2023, the Circuit Court granted Apple’s motion to stay enforcement of the injunction pending appeal to the U.S. Supreme Court. If the U.S.\nSupreme Court denies Apple’s petition, the stay of the injunction will expire.\nMasimo\nMasimo Corporation and Cercacor Laboratories, Inc. (together, “Masimo”) ﬁled a complaint before the U.S. International Trade Commission (the “ITC”) alleging\ninfringement by the Company of ﬁve patents relating to the functionality of the blood oxygen feature in Apple Watch Series 6 and 7. In its complaint, Masimo sought a\npermanent exclusion order prohibiting importation to the United States of certain Apple Watch models that include blood oxygen sensing functionality. On October 26,\n2023, the ITC entered a limited exclusion order (the “Order”) prohibiting importation and sales in the United States of Apple Watch models with blood oxygen sensing\nfunctionality, which includes Apple Watch Series 9 and Ultra 2. The Order will not go into eﬀect until the end of the administrative review period, which is currently\nexpected to end on December 25, 2023. The Company intends to appeal the Order and seek a stay pending the appeal.\nOther Legal Proceedings\nThe Company is subject to other legal proceedings and claims that have not been fully resolved and that have arisen in the ordinary course of business. The\nCompany settled certain matters during the fourth quarter of 2023 that did not individually or in the aggregate have a material impact on the Company’s ﬁnancial\ncondition or operating results. The outcome of litigation is inherently uncertain. If one or more legal matters were resolved against the Company in a reporting period\nfor amounts above management’s expectations, the Company’s ﬁnancial condition and operating results for that reporting period could be materially adversely\naffected.\nItem 4.    Mine Safety Disclosures\nNot applicable.\nApple Inc. | 2023 Form 10-K | 17\n\n{'source': '/content/RAG_Workshop_DHS2024/data/Annual Reports/Apple_2023.pdf', 'page': 20}\n-.-.-.-.-.-.-.-.-.-.-.-.-.-.-.-.-.-.-.-.-.-.-.-.-.-.-.-.-.-.-.-.-.-.-.-.-.-.-.-.-.-.-.-.-.-.-.-.-.-.-.-.-.-.-.-.-.-.-.-.-.-.-.-.-.-.-.-.-.-.-.-.-.-.-.-.-.-.-.-.-.-.-.-.-.-.-.-.-.-.-.-.-.-.-.-.-.-.-.-.\n\nDocument 6:\n\nHow We Addressed the\nMatter in Our Audit\nWe tested controls relating to the evaluation of uncertain tax positions, including controls over management’s\nassessment as to whether tax positions are more likely than not to be sustained, management’s process to measure\nthe benefit of its tax positions, and the development of the related disclosures.\nTo evaluate Apple Inc.’s assessment of which tax positions are more likely than not to be sustained, our audit\nprocedures included, among others, reading and evaluating management’s assumptions and analysis, and, as\napplicable, Apple Inc.’s communications with taxing authorities, that detailed the basis and technical merits of the\nuncertain tax positions. We involved our tax subject matter resources in assessing the technical merits of certain of\nApple Inc.’s tax positions based on our knowledge of relevant tax laws and experience with related taxing authorities.\nFor certain tax positions, we also received external legal counsel conﬁrmation letters and discussed the matters with\nexternal advisors and Apple Inc. tax personnel. In addition, we evaluated Apple Inc.’s disclosure in relation to these\nmatters included in Note 5 to the financial statements.\n/s/ \nErnst & Young LLP\nWe have served as Apple Inc.’s auditor since 2009.\nSan Jose, California\nOctober 27, 2022\n\n{'source': '/content/RAG_Workshop_DHS2024/data/Annual Reports/Apple_2022.pdf', 'page': 54}\n-.-.-.-.-.-.-.-.-.-.-.-.-.-.-.-.-.-.-.-.-.-.-.-.-.-.-.-.-.-.-.-.-.-.-.-.-.-.-.-.-.-.-.-.-.-.-.-.-.-.-.-.-.-.-.-.-.-.-.-.-.-.-.-.-.-.-.-.-.-.-.-.-.-.-.-.-.-.-.-.-.-.-.-.-.-.-.-.-.-.-.-.-.-.-.-.-.-.-.-.\n\nDocument 7:\n\nNet sales disaggregated by significant products and services for 2023, 2022 and 2021 were as follows (in millions):\n2023\n2022\n2021\niPhone \n`$`\n200,583\n \n`$`\n205,489\n \n`$`\n191,973\n \nMac \n29,357\n \n40,177\n \n35,190\n \niPad \n28,300\n \n29,292\n \n31,862\n \nWearables, Home and Accessories \n39,845\n \n41,241\n \n38,367\n \nServices \n85,200\n \n78,129\n \n68,425\n \nTotal net sales\n`$`\n383,285\n \n`$`\n394,328\n \n`$`\n365,817\n \n(1)\nProducts net sales include amortization of the deferred value of unspeciﬁed software upgrade rights, which are bundled in the sales price of the respective\nproduct.\n(2)\nServices net sales include amortization of the deferred value of services bundled in the sales price of certain products.\nTotal net sales include `$`\n8.2\n billion of revenue recognized in 2023 that was included in deferred revenue as of September 24, 2022, `$`\n7.5\n billion of revenue recognized\nin 2022 that was included in deferred revenue as of September 25, 2021, and `$`\n6.7\n billion of revenue recognized in 2021 that was included in deferred revenue as of\nSeptember 26, 2020.\nThe Company’s proportion of net sales by disaggregated revenue source was generally consistent for each reportable segment in Note 13, “Segment Information and\nGeographic Data” for 2023, 2022 and 2021, except in Greater China, where iPhone revenue represented a moderately higher proportion of net sales.\nAs of September 30, 2023 and September 24, 2022, the Company had total deferred revenue of `$`\n12.1\n billion and `$`\n12.4\n billion, respectively. As of September 30,\n2023, the Company expects \n67\n% of total deferred revenue to be realized in less than a year, \n25\n% within one-to-two years, \n7\n% within two-to-three years and \n1\n% in\ngreater than three years.\nNote 3 – \nEarnings Per Share\nThe following table shows the computation of basic and diluted earnings per share for 2023, 2022 and 2021 (net income in millions and shares in thousands):\n2023\n2022\n2021\nNumerator:\nNet income\n`$`\n96,995\n \n`$`\n99,803\n \n`$`\n94,680\n \nDenominator:\nWeighted-average basic shares outstanding\n15,744,231\n \n16,215,963\n \n16,701,272\n \nEffect of dilutive share-based awards\n68,316\n \n109,856\n \n163,647\n \nWeighted-average diluted shares\n15,812,547\n \n16,325,819\n \n16,864,919\n \nBasic earnings per share\n`$`\n6.16\n \n`$`\n6.15\n \n`$`\n5.67\n \nDiluted earnings per share\n`$`\n6.13\n \n`$`\n6.11\n \n`$`\n5.61\n \nApproximately \n24\n million restricted stock units (“RSUs”) were excluded from the computation of diluted earnings per share for 2023 because their eﬀect would have\nbeen antidilutive.\n(1)\n(1)\n(1)\n(1)\n(2)\nApple Inc. | 2023 Form 10-K | 35\n\n{'page': 38, 'source': '/content/RAG_Workshop_DHS2024/data/Annual Reports/Apple_2023.pdf'}\n-.-.-.-.-.-.-.-.-.-.-.-.-.-.-.-.-.-.-.-.-.-.-.-.-.-.-.-.-.-.-.-.-.-.-.-.-.-.-.-.-.-.-.-.-.-.-.-.-.-.-.-.-.-.-.-.-.-.-.-.-.-.-.-.-.-.-.-.-.-.-.-.-.-.-.-.-.-.-.-.-.-.-.-.-.-.-.-.-.-.-.-.-.-.-.-.-.-.-.-.\n\nDocument 8:\n\nApple Inc.\nCONSOLIDATED STATEMENTS OF OPERATIONS\n(In millions, except number of shares, which are reflected in thousands, and per-share amounts)\nYears ended\nSeptember 30,\n2023\nSeptember 24,\n2022\nSeptember 25,\n2021\nNet sales:\n   Products\n`$`\n298,085\n \n`$`\n316,199\n \n`$`\n297,392\n \n   Services\n85,200\n \n78,129\n \n68,425\n \nTotal net sales\n383,285\n \n394,328\n \n365,817\n \nCost of sales:\n   Products\n189,282\n \n201,471\n \n192,266\n \n   Services\n24,855\n \n22,075\n \n20,715\n \nTotal cost of sales\n214,137\n \n223,546\n \n212,981\n \nGross margin\n169,148\n \n170,782\n \n152,836\n \nOperating expenses:\nResearch and development\n29,915\n \n26,251\n \n21,914\n \nSelling, general and administrative\n24,932\n \n25,094\n \n21,973\n \nTotal operating expenses\n54,847\n \n51,345\n \n43,887\n \nOperating income\n114,301\n \n119,437\n \n108,949\n \nOther income/(expense), net\n(\n565\n)\n(\n334\n)\n258\n \nIncome before provision for income taxes\n113,736\n \n119,103\n \n109,207\n \nProvision for income taxes\n16,741\n \n19,300\n \n14,527\n \nNet income\n`$`\n96,995\n \n`$`\n99,803\n \n`$`\n94,680\n \nEarnings per share:\nBasic\n`$`\n6.16\n \n`$`\n6.15\n \n`$`\n5.67\n \nDiluted\n`$`\n6.13\n \n`$`\n6.11\n \n`$`\n5.61\n \nShares used in computing earnings per share:\nBasic\n15,744,231\n \n16,215,963\n \n16,701,272\n \nDiluted\n15,812,547\n \n16,325,819\n \n16,864,919\n \nSee accompanying Notes to Consolidated Financial Statements.\nApple Inc. | 2023 Form 10-K | 28\n\n{'page': 31, 'source': '/content/RAG_Workshop_DHS2024/data/Annual Reports/Apple_2023.pdf'}"
          },
          "metadata": {}
        }
      ]
    }
  ],
  "metadata": {
    "kernelspec": {
      "display_name": "Python 3",
      "name": "python3"
    },
    "language_info": {
      "name": "python"
    },
    "colab": {
      "provenance": [],
      "include_colab_link": true
    }
  },
  "nbformat": 4,
  "nbformat_minor": 5
}